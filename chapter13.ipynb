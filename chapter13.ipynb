{
 "cells": [
  {
   "cell_type": "code",
   "execution_count": null,
   "id": "initial_id",
   "metadata": {
    "collapsed": true
   },
   "outputs": [],
   "source": [
    ""
   ]
  },
  {
   "metadata": {},
   "cell_type": "markdown",
   "source": "# Chapter 13: Mining Symbolic Sequences",
   "id": "82c8b2ed732c37c3"
  },
  {
   "metadata": {
    "ExecuteTime": {
     "end_time": "2025-06-16T23:59:11.452288Z",
     "start_time": "2025-06-16T23:59:11.369462Z"
    }
   },
   "cell_type": "code",
   "source": [
    "# from PAMI.extras.syntheticDataGenerator import symbolicSequenceDatabase as db\n",
    "from PAMI.extras.syntheticDataGenerator import S\n",
    "obj = db.symbolicSequenceDatabase(\n",
    "sequenceSize=100000,\n",
    "numberOfSymbols=10\n",
    ")\n",
    "obj.create()\n",
    "obj.save('symbolicSequentialDB.csv')\n",
    "#readthegeneratedsequencesintoadataframe\n",
    "symbolicSequentialDataFrame=obj.getTransactions()\n",
    "#stats\n",
    "print('Runtime:' + str(obj.getRuntime()))\n",
    "print('Memory (RSS):' + str(obj.getMemoryRSS()))\n",
    "print('Memory (USS):' + str(obj.getMemoryUSS()))"
   ],
   "id": "256ebf5a992ae5f3",
   "outputs": [
    {
     "ename": "ImportError",
     "evalue": "cannot import name 'symbolicSequenceDatabase' from 'PAMI.extras.syntheticDataGenerator' (/Users/tarunsreepada/PycharmProjects/PAMI/PAMI/extras/syntheticDataGenerator/__init__.py)",
     "output_type": "error",
     "traceback": [
      "\u001B[31m---------------------------------------------------------------------------\u001B[39m",
      "\u001B[31mImportError\u001B[39m                               Traceback (most recent call last)",
      "\u001B[36mCell\u001B[39m\u001B[36m \u001B[39m\u001B[32mIn[1]\u001B[39m\u001B[32m, line 1\u001B[39m\n\u001B[32m----> \u001B[39m\u001B[32m1\u001B[39m \u001B[38;5;28;01mfrom\u001B[39;00m\u001B[38;5;250m \u001B[39m\u001B[34;01mPAMI\u001B[39;00m\u001B[34;01m.\u001B[39;00m\u001B[34;01mextras\u001B[39;00m\u001B[34;01m.\u001B[39;00m\u001B[34;01msyntheticDataGenerator\u001B[39;00m\u001B[38;5;250m \u001B[39m\u001B[38;5;28;01mimport\u001B[39;00m symbolicSequenceDatabase \u001B[38;5;28;01mas\u001B[39;00m db\n\u001B[32m      2\u001B[39m obj = db.symbolicSequenceDatabase(\n\u001B[32m      3\u001B[39m sequenceSize=\u001B[32m100000\u001B[39m,\n\u001B[32m      4\u001B[39m numberOfSymbols=\u001B[32m10\u001B[39m\n\u001B[32m      5\u001B[39m )\n\u001B[32m      6\u001B[39m obj.create()\n",
      "\u001B[31mImportError\u001B[39m: cannot import name 'symbolicSequenceDatabase' from 'PAMI.extras.syntheticDataGenerator' (/Users/tarunsreepada/PycharmProjects/PAMI/PAMI/extras/syntheticDataGenerator/__init__.py)"
     ]
    }
   ],
   "execution_count": 1
  },
  {
   "metadata": {
    "ExecuteTime": {
     "end_time": "2025-06-17T00:01:30.124367Z",
     "start_time": "2025-06-17T00:01:30.084786Z"
    }
   },
   "cell_type": "code",
   "source": [
    "from PAMI.extras.syntheticDataGenerator import NucleotideSequence as db\n",
    "# 130 13 Mining Symbolic Sequences\n",
    "obj = db.NucleotideSequenceGenerator(\n",
    "sequenceLength=100000,\n",
    "gcContent=0.5\n",
    ")\n",
    "obj.create()\n",
    "obj.save('symbolicSequentialDB.csv')\n",
    "#readthegeneratedsequencesintoadataframe\n",
    "# symbolicSequentialDataFrame=obj.getTransactions()\n",
    "#stats\n",
    "symbolicSequentialDataFrame = obj.getSequence()\n",
    "\n",
    "print('Runtime:' + str(obj.getRuntime()))\n",
    "print('Memory (RSS):' + str(obj.getMemoryRSS()))\n",
    "print('Memory (USS):' + str(obj.getMemoryUSS()))"
   ],
   "id": "e2c47d962c59a734",
   "outputs": [
    {
     "name": "stdout",
     "output_type": "stream",
     "text": [
      "Runtime:0.02767777442932129\n",
      "Memory (RSS):36192256\n",
      "Memory (USS):22609920\n"
     ]
    }
   ],
   "execution_count": 4
  },
  {
   "metadata": {
    "ExecuteTime": {
     "end_time": "2025-06-17T00:02:55.194858Z",
     "start_time": "2025-06-17T00:02:55.162247Z"
    }
   },
   "cell_type": "code",
   "source": [
    "from PAMI.extras.stats import sequentialDatabase as stat\n",
    "#Createaninstanceofthestatisticalanalysisclass\n",
    "obj = stat.sequentialDatabase(\"symbolicSequentialDB.csv\")\n",
    "#Runthestatisticalanalysis\n",
    "obj.run()\n",
    "#Printthestatis\n",
    "obj.printStats()\n",
    "obj.plotGraphs()"
   ],
   "id": "840eca2b11804fbc",
   "outputs": [
    {
     "name": "stdout",
     "output_type": "stream",
     "text": [
      "Database size (total no of sequence) : 0\n",
      "Number of items : 0\n",
      "Minimum Sequence Size : 0\n"
     ]
    },
    {
     "ename": "ZeroDivisionError",
     "evalue": "division by zero",
     "output_type": "error",
     "traceback": [
      "\u001B[31m---------------------------------------------------------------------------\u001B[39m",
      "\u001B[31mZeroDivisionError\u001B[39m                         Traceback (most recent call last)",
      "\u001B[36mCell\u001B[39m\u001B[36m \u001B[39m\u001B[32mIn[7]\u001B[39m\u001B[32m, line 7\u001B[39m\n\u001B[32m      5\u001B[39m obj.run()\n\u001B[32m      6\u001B[39m \u001B[38;5;66;03m#Printthestatis\u001B[39;00m\n\u001B[32m----> \u001B[39m\u001B[32m7\u001B[39m \u001B[43mobj\u001B[49m\u001B[43m.\u001B[49m\u001B[43mprintStats\u001B[49m\u001B[43m(\u001B[49m\u001B[43m)\u001B[49m\n\u001B[32m      8\u001B[39m obj.plotGraphs()\n",
      "\u001B[36mFile \u001B[39m\u001B[32m~/PycharmProjects/PAMI/PAMI/extras/stats/sequentialDatabase.py:397\u001B[39m, in \u001B[36msequentialDatabase.printStats\u001B[39m\u001B[34m(self)\u001B[39m\n\u001B[32m    395\u001B[39m \u001B[38;5;28mprint\u001B[39m(\u001B[33mf\u001B[39m\u001B[33m'\u001B[39m\u001B[33mNumber of items : \u001B[39m\u001B[38;5;132;01m{\u001B[39;00m\u001B[38;5;28mself\u001B[39m.getTotalNumberOfItems()\u001B[38;5;132;01m}\u001B[39;00m\u001B[33m'\u001B[39m)\n\u001B[32m    396\u001B[39m \u001B[38;5;28mprint\u001B[39m(\u001B[33mf\u001B[39m\u001B[33m'\u001B[39m\u001B[33mMinimum Sequence Size : \u001B[39m\u001B[38;5;132;01m{\u001B[39;00m\u001B[38;5;28mself\u001B[39m.getMinimumSequenceLength()\u001B[38;5;132;01m}\u001B[39;00m\u001B[33m'\u001B[39m)\n\u001B[32m--> \u001B[39m\u001B[32m397\u001B[39m \u001B[38;5;28mprint\u001B[39m(\u001B[33mf\u001B[39m\u001B[33m'\u001B[39m\u001B[33mAverage Sequence Size : \u001B[39m\u001B[38;5;132;01m{\u001B[39;00m\u001B[38;5;28;43mself\u001B[39;49m\u001B[43m.\u001B[49m\u001B[43mgetAverageSubsequencePerSequenceLength\u001B[49m\u001B[43m(\u001B[49m\u001B[43m)\u001B[49m\u001B[38;5;132;01m}\u001B[39;00m\u001B[33m'\u001B[39m)\n\u001B[32m    398\u001B[39m \u001B[38;5;28mprint\u001B[39m(\u001B[33mf\u001B[39m\u001B[33m'\u001B[39m\u001B[33mMaximum Sequence Size : \u001B[39m\u001B[38;5;132;01m{\u001B[39;00m\u001B[38;5;28mself\u001B[39m.getMaximumSequenceLength()\u001B[38;5;132;01m}\u001B[39;00m\u001B[33m'\u001B[39m)\n\u001B[32m    399\u001B[39m \u001B[38;5;28mprint\u001B[39m(\u001B[33mf\u001B[39m\u001B[33m'\u001B[39m\u001B[33mStandard Deviation Sequence Size : \u001B[39m\u001B[38;5;132;01m{\u001B[39;00m\u001B[38;5;28mself\u001B[39m.getStandardDeviationSequenceLength()\u001B[38;5;132;01m}\u001B[39;00m\u001B[33m'\u001B[39m)\n",
      "\u001B[36mFile \u001B[39m\u001B[32m~/PycharmProjects/PAMI/PAMI/extras/stats/sequentialDatabase.py:239\u001B[39m, in \u001B[36msequentialDatabase.getAverageSubsequencePerSequenceLength\u001B[39m\u001B[34m(self)\u001B[39m\n\u001B[32m    233\u001B[39m \u001B[38;5;250m\u001B[39m\u001B[33;03m\"\"\"\u001B[39;00m\n\u001B[32m    234\u001B[39m \u001B[33;03mget the average subsequence length per sequence length. It is sum of all subsequence length divided by sequence length.\u001B[39;00m\n\u001B[32m    235\u001B[39m \u001B[33;03m:return: average subsequence length per sequence length\u001B[39;00m\n\u001B[32m    236\u001B[39m \u001B[33;03m:rtype: float\u001B[39;00m\n\u001B[32m    237\u001B[39m \u001B[33;03m\"\"\"\u001B[39;00m\n\u001B[32m    238\u001B[39m totalLength = \u001B[38;5;28msum\u001B[39m(\u001B[38;5;28mself\u001B[39m.seqLengthList)\n\u001B[32m--> \u001B[39m\u001B[32m239\u001B[39m \u001B[38;5;28;01mreturn\u001B[39;00m \u001B[43mtotalLength\u001B[49m\u001B[43m \u001B[49m\u001B[43m/\u001B[49m\u001B[43m \u001B[49m\u001B[38;5;28;43mlen\u001B[39;49m\u001B[43m(\u001B[49m\u001B[38;5;28;43mself\u001B[39;49m\u001B[43m.\u001B[49m\u001B[43mdatabase\u001B[49m\u001B[43m)\u001B[49m\n",
      "\u001B[31mZeroDivisionError\u001B[39m: division by zero"
     ]
    }
   ],
   "execution_count": 7
  },
  {
   "metadata": {},
   "cell_type": "code",
   "outputs": [],
   "execution_count": null,
   "source": [
    "from PAMI.contiguousFrequentPattern.basic import PositionMining as alg\n",
    "#InitializePositionMiningalgorithm\n",
    "# obj = alg.PositionMining(iFile= minSup=100, delimiter= '\\t')\n",
    "# 'symbolicSequentialDB.csv',\\\n",
    "obj = alg.PositionMining(datapath='symbolicSequentialDB.csv', minsup=1) #initialize\n",
    "# obj = alg.PositionMining(\n",
    "\n",
    "obj.mine()\n",
    "#Retrievediscoveredpatternsandresourceusage\n",
    "Patterns = obj.getPatterns()\n",
    "print(\"#Frequent Sequence Patterns:\",len(Patterns))\n",
    "#Displaymemoryandruntimestatistics\n",
    "memUSS = obj.getMemoryUSS()\n",
    "print(\"Total Memory in USS:\", memUSS)\n",
    "memRSS = obj.getMemoryRSS()\n",
    "print(\"Total Memory in RSS:\", memRSS)\n",
    "runTime = obj.getRuntime()\n",
    "print(\"Total Execution Time in ms:\", runTime)"
   ],
   "id": "7ffc6e76321151a8"
  }
 ],
 "metadata": {
  "kernelspec": {
   "display_name": "Python 3",
   "language": "python",
   "name": "python3"
  },
  "language_info": {
   "codemirror_mode": {
    "name": "ipython",
    "version": 2
   },
   "file_extension": ".py",
   "mimetype": "text/x-python",
   "name": "python",
   "nbconvert_exporter": "python",
   "pygments_lexer": "ipython2",
   "version": "2.7.6"
  }
 },
 "nbformat": 4,
 "nbformat_minor": 5
}
