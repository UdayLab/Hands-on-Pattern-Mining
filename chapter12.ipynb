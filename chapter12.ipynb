{
 "cells": [
  {
   "cell_type": "code",
   "execution_count": null,
   "id": "initial_id",
   "metadata": {
    "collapsed": true
   },
   "outputs": [],
   "source": ""
  },
  {
   "metadata": {},
   "cell_type": "markdown",
   "source": "# Chapter 12: Pattern Discovery in Fuzzy Databases",
   "id": "b55b4bdea0a37f72"
  },
  {
   "metadata": {
    "ExecuteTime": {
     "end_time": "2025-06-16T23:55:42.399371Z",
     "start_time": "2025-06-16T23:55:42.379865Z"
    }
   },
   "cell_type": "code",
   "source": [
    "import PAMI.sequentialPattern.basic.GSP as alg\n",
    "\n",
    "# minSup not defined in book\n",
    "\n",
    "obj = alg.GSP('airDatabase.txt', minSup,'\\t')\n",
    "obj.mine()\n",
    "#Retrievediscoveredpatternsandresourceusage\n",
    "Patterns = obj.getPatterns()\n",
    "print(\"Total number of Frequent Sequence Patterns:\",\n",
    "len(Patterns))\n",
    "#Displaymemoryandruntimestatistics\n",
    "memUSS = obj.getMemoryUSS()\n",
    "print(\"Total Memory in USS:\", memUSS)\n",
    "memRSS = obj.getMemoryRSS()\n",
    "print(\"Total Memory in RSS\", memRSS)\n",
    "runTime = obj.getRuntime()\n",
    "print(\"Total ExecutionTime in ms:\", runTime)"
   ],
   "id": "88170adf6986c597",
   "outputs": [
    {
     "ename": "NameError",
     "evalue": "name 'minSup' is not defined",
     "output_type": "error",
     "traceback": [
      "\u001B[31m---------------------------------------------------------------------------\u001B[39m",
      "\u001B[31mNameError\u001B[39m                                 Traceback (most recent call last)",
      "\u001B[36mCell\u001B[39m\u001B[36m \u001B[39m\u001B[32mIn[2]\u001B[39m\u001B[32m, line 3\u001B[39m\n\u001B[32m      1\u001B[39m \u001B[38;5;28;01mimport\u001B[39;00m\u001B[38;5;250m \u001B[39m\u001B[34;01mPAMI\u001B[39;00m\u001B[34;01m.\u001B[39;00m\u001B[34;01msequentialPattern\u001B[39;00m\u001B[34;01m.\u001B[39;00m\u001B[34;01mbasic\u001B[39;00m\u001B[34;01m.\u001B[39;00m\u001B[34;01mGSP\u001B[39;00m\u001B[38;5;250m \u001B[39m\u001B[38;5;28;01mas\u001B[39;00m\u001B[38;5;250m \u001B[39m\u001B[34;01malg\u001B[39;00m\n\u001B[32m----> \u001B[39m\u001B[32m3\u001B[39m obj = alg.GSP(\u001B[33m'\u001B[39m\u001B[33mairDatabase.txt\u001B[39m\u001B[33m'\u001B[39m, \u001B[43mminSup\u001B[49m,\u001B[33m'\u001B[39m\u001B[38;5;130;01m\\t\u001B[39;00m\u001B[33m'\u001B[39m)\n\u001B[32m      4\u001B[39m obj.mine()\n\u001B[32m      5\u001B[39m \u001B[38;5;66;03m#Retrievediscoveredpatternsandresourceusage\u001B[39;00m\n",
      "\u001B[31mNameError\u001B[39m: name 'minSup' is not defined"
     ]
    }
   ],
   "execution_count": 2
  },
  {
   "metadata": {},
   "cell_type": "code",
   "outputs": [],
   "execution_count": null,
   "source": "",
   "id": "34e8ab52818c876"
  }
 ],
 "metadata": {
  "kernelspec": {
   "display_name": "Python 3",
   "language": "python",
   "name": "python3"
  },
  "language_info": {
   "codemirror_mode": {
    "name": "ipython",
    "version": 2
   },
   "file_extension": ".py",
   "mimetype": "text/x-python",
   "name": "python",
   "nbconvert_exporter": "python",
   "pygments_lexer": "ipython2",
   "version": "2.7.6"
  }
 },
 "nbformat": 4,
 "nbformat_minor": 5
}
