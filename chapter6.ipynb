{
 "cells": [
  {
   "cell_type": "markdown",
   "metadata": {
    "id": "view-in-github",
    "colab_type": "text"
   },
   "source": [
    "<a href=\"https://colab.research.google.com/github/UdayLab/Hands-on-Pattern-Mining/blob/main/chapter6.ipynb\" target=\"_parent\"><img src=\"https://colab.research.google.com/assets/colab-badge.svg\" alt=\"Open In Colab\"/></a>"
   ],
   "id": "2c86d2dcb7ec399e"
  },
  {
   "cell_type": "markdown",
   "source": [
    "# Chapter 6: Pattern Discovery in Temporal Databases"
   ],
   "metadata": {
    "id": "bSDv12mPf0PV"
   },
   "id": "bSDv12mPf0PV"
  },
  {
   "cell_type": "markdown",
   "source": [
    "## Install the PAMI repository"
   ],
   "metadata": {
    "id": "Pf44oIJRgBK1"
   },
   "id": "Pf44oIJRgBK1"
  },
  {
   "cell_type": "code",
   "source": [
    "!pip install PAMI"
   ],
   "metadata": {
    "colab": {
     "base_uri": "https://localhost:8080/"
    },
    "id": "Di-DNu0Gf-ny",
    "outputId": "89d9393f-9651-4bfb-910d-5f25ae229272",
    "ExecuteTime": {
     "end_time": "2025-06-16T14:51:20.143743Z",
     "start_time": "2025-06-16T14:51:20.013946Z"
    }
   },
   "id": "Di-DNu0Gf-ny",
   "outputs": [
    {
     "name": "stdout",
     "output_type": "stream",
     "text": [
      "zsh:1: command not found: pip\r\n"
     ]
    }
   ],
   "execution_count": 1
  },
  {
   "cell_type": "markdown",
   "source": [
    "## Download a sample database"
   ],
   "metadata": {
    "id": "ExFvurRMgLcO"
   },
   "id": "ExFvurRMgLcO"
  },
  {
   "cell_type": "code",
   "source": [
    "!wget -nc --no-check-certificate https://github.com/UdayLab/Hands-on-Pattern-Mining/raw/main/datasets/Temporal_T10I4D100K.csv"
   ],
   "metadata": {
    "colab": {
     "base_uri": "https://localhost:8080/"
    },
    "id": "utJfyW0XgIhy",
    "outputId": "fcdaca6c-a92e-4043-b53b-4848081c43a1",
    "ExecuteTime": {
     "end_time": "2025-06-16T14:51:20.377110Z",
     "start_time": "2025-06-16T14:51:20.243960Z"
    }
   },
   "id": "utJfyW0XgIhy",
   "outputs": [
    {
     "name": "stdout",
     "output_type": "stream",
     "text": [
      "File ‘Temporal_T10I4D100K.csv’ already there; not retrieving.\r\n",
      "\r\n"
     ]
    }
   ],
   "execution_count": 2
  },
  {
   "cell_type": "markdown",
   "source": [
    "## Finding Periodic-Frequent Patterns"
   ],
   "metadata": {
    "id": "bOs6qrexhlvj"
   },
   "id": "bOs6qrexhlvj"
  },
  {
   "cell_type": "markdown",
   "source": [
    "### Syntax"
   ],
   "metadata": {
    "id": "nw-mfmwfhqiT"
   },
   "id": "nw-mfmwfhqiT"
  },
  {
   "cell_type": "markdown",
   "source": [
    "```\n",
    "# Import the algorithm\n",
    "from PAMI.periodicFrequentPattern.basic import PFPGrowthPlus as alg\n",
    "\n",
    "obj = alg.PFPGrowthPlus(iFile, minSup, maxPer, sep) # Initialize\n",
    "obj.mine()\n",
    "obj.save('periodicFrequentPatterns.txt')\n",
    "\n",
    "patternsDF = obj.getPatternsAsDataFrame()\n",
    "print('Patterns: ' + str(len(patternsDF)))\n",
    "print('Runtime: ' + str(obj.getRuntime()))\n",
    "print('Memory (RSS): ' + str(obj.getMemoryRSS()))\n",
    "print('Memory (USS): ' + str(obj.getMemoryUSS()))\n",
    "```"
   ],
   "metadata": {
    "id": "H7VeCCPLhtND"
   },
   "id": "H7VeCCPLhtND"
  },
  {
   "cell_type": "markdown",
   "source": [
    "### Example 1"
   ],
   "metadata": {
    "id": "rdcrp4-bh7mU"
   },
   "id": "rdcrp4-bh7mU"
  },
  {
   "cell_type": "code",
   "source": [
    "from PAMI.periodicFrequentPattern.basic import PFPGrowthPlus as alg # Import the algorithm\n",
    "\n",
    "obj = alg.PFPGrowthPlus(iFile='Temporal_T10I4D100K.csv', minSup=100, maxPer='2000', sep='\\t') # Initialize\n",
    "obj.mine()\n",
    "obj.save('periodicFrequentPatterns.txt')\n",
    "\n",
    "patternsDF = obj.getPatternsAsDataFrame()\n",
    "print('Patterns: ' + str(len(patternsDF)))\n",
    "print('Runtime: ' + str(obj.getRuntime()))\n",
    "print('Memory (RSS): ' + str(obj.getMemoryRSS()))\n",
    "print('Memory (USS): ' + str(obj.getMemoryUSS()))"
   ],
   "metadata": {
    "colab": {
     "base_uri": "https://localhost:8080/"
    },
    "id": "TLsza0Fvgrv6",
    "outputId": "6b350f59-8970-47a3-bfac-7f6af2ce20eb",
    "ExecuteTime": {
     "end_time": "2025-06-16T14:51:29.030914Z",
     "start_time": "2025-06-16T14:51:20.386867Z"
    }
   },
   "id": "TLsza0Fvgrv6",
   "outputs": [
    {
     "name": "stdout",
     "output_type": "stream",
     "text": [
      "periodic-frequent patterns were generated successfully using PFPGrowth++ algorithm \n",
      "Patterns: 4843\n",
      "Runtime: 5.56698203086853\n",
      "Memory (RSS): 491651072\n",
      "Memory (USS): 468582400\n"
     ]
    }
   ],
   "execution_count": 3
  },
  {
   "cell_type": "markdown",
   "source": [
    "## Finding Closed Periodic-Frequent Patterns"
   ],
   "metadata": {
    "id": "5Fmb92Y9iFxt"
   },
   "id": "5Fmb92Y9iFxt"
  },
  {
   "cell_type": "markdown",
   "source": [
    "### Syntax"
   ],
   "metadata": {
    "id": "NkYbh6a0iM59"
   },
   "id": "NkYbh6a0iM59"
  },
  {
   "cell_type": "markdown",
   "source": [
    "```\n",
    "#import the algorithm\n",
    "from PAMI.periodicFrequentPattern.closed import CPFPMiner as alg\n",
    "\n",
    "#pass the input arguments (or parameters)\n",
    "obj = alg.CPFPMiner(iFile, minSup, maxPer, sep)\n",
    "\n",
    "#mine the patterns\n",
    "obj.mine()\n",
    "\n",
    "#save the patterns in a file\n",
    "obj.save('closedPeriodicFrequentPatterns.txt')\n",
    "\n",
    "#Get the discovered patterns in a dataframe format\n",
    "patternsDF = obj.getPatternsAsDataFrame()\n",
    "\n",
    "#print the statistics\n",
    "print('Patterns: ' + str(len(patternsDF)))\n",
    "print('Runtime: ' + str(obj.getRuntime()))\n",
    "print('Memory (RSS): ' + str(obj.getMemoryRSS()))\n",
    "print('Memory (USS): ' + str(obj.getMemoryUSS()))\n",
    "```"
   ],
   "metadata": {
    "id": "8o7eahwoiPH9"
   },
   "id": "8o7eahwoiPH9"
  },
  {
   "cell_type": "markdown",
   "source": [
    "### Example 2"
   ],
   "metadata": {
    "id": "FysBz54Aiqmf"
   },
   "id": "FysBz54Aiqmf"
  },
  {
   "cell_type": "code",
   "source": [
    "from PAMI.periodicFrequentPattern.closed import CPFPMiner as alg\n",
    "\n",
    "obj = alg.CPFPMiner(iFile='Temporal_T10I4D100K.csv', minSup=100, maxPer=2000, sep='\\t')\n",
    "\n",
    "obj.mine()\n",
    "obj.save('closedPeriodicFrequentPatterns.txt')\n",
    "\n",
    "patternsDF = obj.getPatternsAsDataFrame()\n",
    "print('Patterns: ' + str(len(patternsDF)))\n",
    "print('Runtime: ' + str(obj.getRuntime()))\n",
    "print('Memory (RSS): ' + str(obj.getMemoryRSS()))\n",
    "print('Memory (USS): ' + str(obj.getMemoryUSS()))"
   ],
   "metadata": {
    "colab": {
     "base_uri": "https://localhost:8080/"
    },
    "id": "oUZCISNwhkf6",
    "outputId": "43c56eaa-9e72-4f41-f2f0-f5a46db292eb",
    "ExecuteTime": {
     "end_time": "2025-06-16T14:51:41.654171Z",
     "start_time": "2025-06-16T14:51:29.047277Z"
    }
   },
   "id": "oUZCISNwhkf6",
   "outputs": [
    {
     "name": "stdout",
     "output_type": "stream",
     "text": [
      "Closed periodic frequent patterns were generated successfully using CPFPMiner algorithm \n",
      "Patterns: 4834\n",
      "Runtime: 10.01036787033081\n",
      "Memory (RSS): 47202304\n",
      "Memory (USS): 23642112\n"
     ]
    }
   ],
   "execution_count": 4
  },
  {
   "cell_type": "markdown",
   "source": [
    "## Finding Maximal Periodic-Frequent Patterns"
   ],
   "metadata": {
    "id": "snq2jEd6iyPH"
   },
   "id": "snq2jEd6iyPH"
  },
  {
   "cell_type": "markdown",
   "source": [
    "### Syntax\n",
    "\n",
    "```\n",
    "#import the algorithm\n",
    "from PAMI.periodicFrequentPattern.maximal  import MaxPFGrowth as alg\n",
    "\n",
    "#pass the input parameters\n",
    "obj = alg.MaxPFGrowth(iFile, minSup, maxPer, sep)\n",
    "\n",
    "#mine the patterns\n",
    "obj.mine()\n",
    "\n",
    "#save the patterns in a file\n",
    "obj.save('maximalPeriodicFrequentPatterns.txt')\n",
    "\n",
    "#get the discovered patterns in a dataframe\n",
    "patternsDF = obj.getPatternsAsDataFrame()\n",
    "\n",
    "#print the stats\n",
    "print('Patterns: ' + str(len(patternsDF)))\n",
    "print('Runtime: ' + str(obj.getRuntime()))\n",
    "print('Memory (RSS): ' + str(obj.getMemoryRSS()))\n",
    "print('Memory (USS): ' + str(obj.getMemoryUSS()))\n",
    "```"
   ],
   "metadata": {
    "id": "N8M_S1dCi-LY"
   },
   "id": "N8M_S1dCi-LY"
  },
  {
   "cell_type": "markdown",
   "source": [
    "### Example 3"
   ],
   "metadata": {
    "id": "ZMVO3CnCjWei"
   },
   "id": "ZMVO3CnCjWei"
  },
  {
   "cell_type": "code",
   "source": [
    "from PAMI.periodicFrequentPattern.maximal  import MaxPFGrowth as alg\n",
    "\n",
    "obj = alg.MaxPFGrowth(iFile='Temporal_T10I4D100K.csv', minSup=100, maxPer=2000, sep='\\t')\n",
    "\n",
    "obj.mine()\n",
    "obj.save('maximalPeriodicFrequentPatterns.txt')\n",
    "\n",
    "patternsDF = obj.getPatternsAsDataFrame()\n",
    "print('Patterns: ' + str(len(patternsDF)))\n",
    "print('Runtime: ' + str(obj.getRuntime()))\n",
    "print('Memory (RSS): ' + str(obj.getMemoryRSS()))\n",
    "print('Memory (USS): ' + str(obj.getMemoryUSS()))"
   ],
   "metadata": {
    "colab": {
     "base_uri": "https://localhost:8080/"
    },
    "id": "qcjrSnWei9db",
    "outputId": "5c58da11-a792-4022-ec87-c486344fcd77",
    "ExecuteTime": {
     "end_time": "2025-06-16T14:51:46.665374Z",
     "start_time": "2025-06-16T14:51:41.704465Z"
    }
   },
   "id": "qcjrSnWei9db",
   "outputs": [
    {
     "name": "stdout",
     "output_type": "stream",
     "text": [
      "Maximal Periodic Frequent patterns were generated successfully using MAX-PFPGrowth algorithm \n",
      "Patterns: 920\n",
      "Runtime: 4.661019325256348\n",
      "Memory (RSS): 489816064\n",
      "Memory (USS): 464044032\n"
     ]
    }
   ],
   "execution_count": 5
  },
  {
   "cell_type": "markdown",
   "source": [
    "## Finding Top-K Periodic-Frequent Patterns"
   ],
   "metadata": {
    "id": "cKhLtEtmkZYm"
   },
   "id": "cKhLtEtmkZYm"
  },
  {
   "cell_type": "markdown",
   "source": [
    "### Syntax\n",
    "\n",
    "```\n",
    "#import the algorithm\n",
    "from PAMI.periodicFrequentPattern.topk.kPFPMiner import kPFPMiner as alg\n",
    "\n",
    "#pass the input parameters\n",
    "obj = alg.kPFPMiner(iFile, k, sep)\n",
    "\n",
    "#mine the patterns\n",
    "obj.mine()\n",
    "\n",
    "#save the patterns in a file\n",
    "obj.save('topkPeriodicFrequentPatterns.txt')\n",
    "\n",
    "#get the discovered patterns in a dataframe format\n",
    "kPatternsDF = obj.getPatternsAsDataFrame()\n",
    "\n",
    "#print the stats\n",
    "print('#Patterns: ' + str(len(kPatternsDF)))\n",
    "print('Runtime: ' + str(obj.getRuntime()))\n",
    "print('Memory (RSS): ' + str(obj.getMemoryRSS()))\n",
    "print('Memory (USS): ' + str(obj.getMemoryUSS()))\n",
    "```"
   ],
   "metadata": {
    "id": "x89Ef-eAkdi-"
   },
   "id": "x89Ef-eAkdi-"
  },
  {
   "cell_type": "markdown",
   "source": [
    "### Example 4"
   ],
   "metadata": {
    "id": "-AVRT6UlkxpY"
   },
   "id": "-AVRT6UlkxpY"
  },
  {
   "cell_type": "code",
   "source": [
    "from PAMI.periodicFrequentPattern.topk.kPFPMiner import kPFPMiner as alg\n",
    "\n",
    "obj = alg.kPFPMiner(iFile='Temporal_T10I4D100K.csv', k=1000, sep='\\t')\n",
    "obj.mine()\n",
    "\n",
    "obj.save('topkPeriodicFrequentPatterns.txt')\n",
    "\n",
    "kPatternsDF = obj.getPatternsAsDataFrame()\n",
    "print('#Patterns: ' + str(len(kPatternsDF)))\n",
    "print('Runtime: ' + str(obj.getRuntime()))\n",
    "print('Memory (RSS): ' + str(obj.getMemoryRSS()))\n",
    "print('Memory (USS): ' + str(obj.getMemoryUSS()))"
   ],
   "metadata": {
    "colab": {
     "base_uri": "https://localhost:8080/"
    },
    "id": "CLqU6MQ9kctQ",
    "outputId": "4fd9225b-adb7-4e1c-ec87-e27afeb5d23f",
    "ExecuteTime": {
     "end_time": "2025-06-16T14:52:02.250353Z",
     "start_time": "2025-06-16T14:51:46.682685Z"
    }
   },
   "id": "CLqU6MQ9kctQ",
   "outputs": [
    {
     "name": "stdout",
     "output_type": "stream",
     "text": [
      "kPFPMiner has successfully generated top-k frequent patterns\n",
      "#Patterns: 1000\n",
      "Runtime: 15.444966793060303\n",
      "Memory (RSS): 49463296\n",
      "Memory (USS): 26165248\n"
     ]
    }
   ],
   "execution_count": 6
  },
  {
   "cell_type": "markdown",
   "source": [
    "## Finding Periodic-Correlated Patterns"
   ],
   "metadata": {
    "id": "1NrvS28Fk2KH"
   },
   "id": "1NrvS28Fk2KH"
  },
  {
   "cell_type": "markdown",
   "source": [
    "### Syntax\n",
    "\n",
    "```\n",
    "#import the algorithm\n",
    "from PAMI.periodicCorrelatedPattern.basic import EPCPGrowth as alg\n",
    "\n",
    "# Initialize the EPCPGrowth algorithm with the appropriate parameters\n",
    "obj = alg.EPCPGrowth(iFile,minSup,minAllConf,maxPer,maxPerAllConf,sep='\\t')\n",
    "\n",
    "# Mine the periodic-correlated patterns\n",
    "obj.mine()\n",
    "\n",
    "# Save the patterns to a file\n",
    "obj.save('correlatedPeriodicFrequentPatterns.txt')\n",
    "\n",
    "# Retrieve the patterns as a DataFrame\n",
    "correlatedPFPs = obj.getPatternsAsDataFrame()\n",
    "\n",
    "# Display summary information\n",
    "print('#Patterns: ' + str(len(correlatedPFPs)))\n",
    "print('Runtime: ' + str(obj.getRuntime()))\n",
    "print('Memory (RSS): ' + str(obj.getMemoryRSS()))\n",
    "print('Memory (USS): ' + str(obj.getMemoryUSS()))\n",
    "```"
   ],
   "metadata": {
    "id": "b9-r4cEyk-5Y"
   },
   "id": "b9-r4cEyk-5Y"
  },
  {
   "cell_type": "markdown",
   "source": [
    "### Example 5"
   ],
   "metadata": {
    "id": "24CqaNP4lWpK"
   },
   "id": "24CqaNP4lWpK"
  },
  {
   "cell_type": "code",
   "source": [
    "from PAMI.periodicCorrelatedPattern.basic import EPCPGrowth as alg\n",
    "\n",
    "# Initialize the EPCPGrowth algorithm with the appropriate parameters\n",
    "obj = alg.EPCPGrowth(\n",
    "        iFile='Temporal_T10I4D100K.csv',\n",
    "        minSup=100,\n",
    "        minAllConf=0.7,\n",
    "        maxPer=2000,\n",
    "        maxPerAllConf=1.5,\n",
    "        sep='\\t')\n",
    "\n",
    "# Mine the periodic-correlated patterns\n",
    "obj.mine()\n",
    "\n",
    "# Save the patterns to a file\n",
    "obj.save('correlatedPeriodicFrequentPatterns.txt')\n",
    "\n",
    "# Retrieve the patterns as a DataFrame\n",
    "correlatedPFPs = obj.getPatternsAsDataFrame()\n",
    "\n",
    "# Display summary information\n",
    "print('#Patterns: ' + str(len(correlatedPFPs)))\n",
    "print('Runtime: ' + str(obj.getRuntime()))\n",
    "print('Memory (RSS): ' + str(obj.getMemoryRSS()))\n",
    "print('Memory (USS): ' + str(obj.getMemoryUSS()))"
   ],
   "metadata": {
    "colab": {
     "base_uri": "https://localhost:8080/"
    },
    "id": "_HXCkE6-k9yQ",
    "outputId": "e7995e28-b377-4e41-8c6a-64d0cd2f1817",
    "ExecuteTime": {
     "end_time": "2025-06-16T14:52:08.022897Z",
     "start_time": "2025-06-16T14:52:02.269574Z"
    }
   },
   "id": "_HXCkE6-k9yQ",
   "outputs": [
    {
     "name": "stdout",
     "output_type": "stream",
     "text": [
      "Correlated Periodic-Frequent patterns were generated successfully using EPCPGrowth algorithm \n",
      "#Patterns: 679\n",
      "Runtime: 5.4332358837127686\n",
      "Memory (RSS): 490291200\n",
      "Memory (USS): 466796544\n"
     ]
    }
   ],
   "execution_count": 7
  },
  {
   "cell_type": "markdown",
   "source": [
    "## Finding Partial Periodic-Frequent Patterns"
   ],
   "metadata": {
    "id": "TsRU239wloAa"
   },
   "id": "TsRU239wloAa"
  },
  {
   "cell_type": "markdown",
   "source": [
    "### Syntax\n",
    "\n",
    "```\n",
    "#import the algorithm\n",
    "from PAMI.partialPeriodicFrequentPattern.basic import GPFgrowth as alg\n",
    "\n",
    "# Initialize the GPFgrowth algorithm with the required parameters\n",
    "obj = alg.GPFgrowth(iFile,minSup,maxPer,minPR,sep)\n",
    "\n",
    "# Mine the partial periodic-frequent patterns\n",
    "obj.mine()\n",
    "\n",
    "# Save the patterns to a file\n",
    "obj.save('partialPeriodicFrequentPatterns.txt')\n",
    "\n",
    "# Retrieve the patterns as a DataFrame\n",
    "PPFPs = obj.getPatternsAsDataFrame()\n",
    "\n",
    "# Display summary information\n",
    "print('#Patterns: ' + str(len(PPFPs)))\n",
    "print('Runtime: ' + str(obj.getRuntime()))\n",
    "print('Memory (RSS): ' + str(obj.getMemoryRSS()))\n",
    "print('Memory (USS): ' + str(obj.getMemoryUSS()))\n",
    "```"
   ],
   "metadata": {
    "id": "JR5-ZZvJlsFT"
   },
   "id": "JR5-ZZvJlsFT"
  },
  {
   "cell_type": "markdown",
   "source": [
    "### Example 6"
   ],
   "metadata": {
    "id": "Mkxb9djAl-y0"
   },
   "id": "Mkxb9djAl-y0"
  },
  {
   "cell_type": "code",
   "source": [
    "from PAMI.partialPeriodicFrequentPattern.basic \\\n",
    "    import GPFgrowth as alg\n",
    "\n",
    "# Initialize the GPFgrowth algorithm with the required parameters\n",
    "obj = alg.GPFgrowth(\n",
    "        iFile='Temporal_T10I4D100K.csv',\n",
    "        minSup=100,\n",
    "        maxPer=2000,\n",
    "        minPR=0.5,\n",
    "        sep='\\t')\n",
    "\n",
    "# Mine the partial periodic-frequent patterns\n",
    "obj.mine()\n",
    "\n",
    "# Save the patterns to a file\n",
    "obj.save('partialPeriodicFrequentPatterns.txt')\n",
    "\n",
    "# Retrieve the patterns as a DataFrame\n",
    "PPFPs = obj.getPatternsAsDataFrame()\n",
    "\n",
    "# Display summary information\n",
    "print('#Patterns: ' + str(len(PPFPs)))\n",
    "print('Runtime: ' + str(obj.getRuntime()))\n",
    "print('Memory (RSS): ' + str(obj.getMemoryRSS()))\n",
    "print('Memory (USS): ' + str(obj.getMemoryUSS()))"
   ],
   "metadata": {
    "colab": {
     "base_uri": "https://localhost:8080/",
     "height": 356
    },
    "id": "tMgYsYfZlrXY",
    "outputId": "19b62de6-ea4b-4e3f-d495-21209dd71565",
    "ExecuteTime": {
     "end_time": "2025-06-16T14:53:06.078129Z",
     "start_time": "2025-06-16T14:52:08.037271Z"
    }
   },
   "id": "tMgYsYfZlrXY",
   "outputs": [
    {
     "name": "stdout",
     "output_type": "stream",
     "text": [
      "#Patterns: 27516\n",
      "Runtime: 4.886078834533691\n",
      "Memory (RSS): 543080448\n",
      "Memory (USS): 518619136\n"
     ]
    }
   ],
   "execution_count": 8
  },
  {
   "cell_type": "markdown",
   "source": [
    "## Finding Partial Periodic Patterns"
   ],
   "metadata": {
    "id": "e0aWGmVD1oxx"
   },
   "id": "e0aWGmVD1oxx"
  },
  {
   "cell_type": "markdown",
   "source": [
    "### Syntax\n",
    "\n",
    "```\n",
    "#import the algorithm\n",
    "from PAMI.partialPeriodicPattern.basic import PPPGrowth as alg\n",
    "\n",
    "# Initialize the algorithm with necessary parameters\n",
    "obj = alg.PPPGrowth(iFile, minPS, period, sep='\\t')\n",
    "\n",
    "# Mine the partial periodic patterns\n",
    "obj.mine()\n",
    "\n",
    "# Save the patterns to a file\n",
    "obj.save('partialPeriodicPatterns.txt')\n",
    "\n",
    "# Retrieve the patterns as a DataFrame\n",
    "PPFPs = obj.getPatternsAsDataFrame()\n",
    "\n",
    "# Display summary information\n",
    "print('#Patterns: ' + str(len(PPFPs)))\n",
    "print('Runtime: ' + str(obj.getRuntime()))\n",
    "print('Memory (RSS): ' + str(obj.getMemoryRSS()))\n",
    "print('Memory (USS): ' + str(obj.getMemoryUSS()))\n",
    "```"
   ],
   "metadata": {
    "id": "4cgb9K1D1zS5"
   },
   "id": "4cgb9K1D1zS5"
  },
  {
   "cell_type": "markdown",
   "source": [
    "### Example 7"
   ],
   "metadata": {
    "id": "9s-UUZDE2Tzj"
   },
   "id": "9s-UUZDE2Tzj"
  },
  {
   "cell_type": "code",
   "source": [
    "from PAMI.partialPeriodicPattern.basic import PPPGrowth as alg\n",
    "\n",
    "# Initialize the PPPGrowth algorithm with necessary parameters\n",
    "obj = alg.PPPGrowth(iFile='Temporal_T10I4D100K.csv', minPS=100, period=200, sep='\\t')\n",
    "\n",
    "# Mine the partial periodic patterns\n",
    "obj.mine()\n",
    "\n",
    "# Save the patterns to a file\n",
    "obj.save('partialPeriodicPatterns.txt')\n",
    "\n",
    "# Retrieve the patterns as a DataFrame\n",
    "PPFPs = obj.getPatternsAsDataFrame()\n",
    "\n",
    "# Display summary information\n",
    "print('#Patterns: ' + str(len(PPFPs)))\n",
    "print('Runtime: ' + str(obj.getRuntime()))\n",
    "print('Memory (RSS): ' + str(obj.getMemoryRSS()))\n",
    "print('Memory (USS): ' + str(obj.getMemoryUSS()))"
   ],
   "metadata": {
    "id": "E7PnOPxA1ykm",
    "colab": {
     "base_uri": "https://localhost:8080/",
     "height": 332
    },
    "outputId": "27273581-d54a-41ef-b968-4f9ec1a6da9e",
    "ExecuteTime": {
     "end_time": "2025-06-16T14:53:11.614091Z",
     "start_time": "2025-06-16T14:53:06.097317Z"
    }
   },
   "id": "E7PnOPxA1ykm",
   "outputs": [
    {
     "name": "stdout",
     "output_type": "stream",
     "text": [
      "Partial Periodic Patterns were generated successfully using 3PGrowth algorithm \n",
      "#Patterns: 7672\n",
      "Runtime: 5.45089316368103\n",
      "Memory (RSS): 541261824\n",
      "Memory (USS): 525631488\n"
     ]
    }
   ],
   "execution_count": 9
  },
  {
   "cell_type": "markdown",
   "source": [
    "## Finding Recurring Patterns"
   ],
   "metadata": {
    "id": "X47Vnc7D2tvv"
   },
   "id": "X47Vnc7D2tvv"
  },
  {
   "cell_type": "markdown",
   "source": [
    "### Syntax\n",
    "\n",
    "```\n",
    "#import the algorithm\n",
    "from PAMI.recurringPattern.basic import RPGrowth as alg\n",
    "\n",
    "# Initialize the algorithm with appropriate parameters\n",
    "obj = alg.RPGrowth(iFile, minPS, maxPer, minRec, sep)  # Separator used in the data file\n",
    "\n",
    "# Mine the recurring patterns\n",
    "obj.mine()\n",
    "\n",
    "# Save the patterns to a file\n",
    "obj.save('recurringPatterns.txt')\n",
    "\n",
    "# Retrieve the patterns as a DataFrame\n",
    "recurringPatterns = obj.getPatternsAsDataFrame()\n",
    "\n",
    "# Display summary information\n",
    "print('#Patterns: ' + str(len(recurringPatterns)))\n",
    "print('Runtime: ' + str(obj.getRuntime()))\n",
    "print('Memory (RSS): ' + str(obj.getMemoryRSS()))\n",
    "print('Memory (USS): ' + str(obj.getMemoryUSS()))\n",
    "```"
   ],
   "metadata": {
    "id": "-xO2-4Q62yV-"
   },
   "id": "-xO2-4Q62yV-"
  },
  {
   "cell_type": "markdown",
   "source": [
    "### Example 8"
   ],
   "metadata": {
    "id": "YSdDBlO93Bl-"
   },
   "id": "YSdDBlO93Bl-"
  },
  {
   "cell_type": "code",
   "source": [
    "from PAMI.recurringPattern.basic import RPGrowth as alg\n",
    "\n",
    "# Initialize the RPGrowth algorithm with appropriate parameters\n",
    "obj = alg.RPGrowth(iFile='Temporal_T10I4D100K.csv', minPS=20, maxPer=100, minRec=1, sep='\\t')  # Separator used in the data file\n",
    "\n",
    "# Mine the recurring patterns\n",
    "obj.mine()\n",
    "\n",
    "# Save the patterns to a file\n",
    "obj.save('recurringPatterns.txt')\n",
    "\n",
    "# Retrieve the patterns as a DataFrame\n",
    "recurringPatterns = obj.getPatternsAsDataFrame()\n",
    "\n",
    "# Display summary information\n",
    "print('#Patterns: ' + str(len(recurringPatterns)))\n",
    "print('Runtime: ' + str(obj.getRuntime()))\n",
    "print('Memory (RSS): ' + str(obj.getMemoryRSS()))\n",
    "print('Memory (USS): ' + str(obj.getMemoryUSS()))"
   ],
   "metadata": {
    "colab": {
     "base_uri": "https://localhost:8080/"
    },
    "id": "w9GqlJZY2xux",
    "outputId": "e854ee14-b03b-48af-8659-8412abe6ed51",
    "ExecuteTime": {
     "end_time": "2025-06-16T14:53:15.331218Z",
     "start_time": "2025-06-16T14:53:11.626922Z"
    }
   },
   "id": "w9GqlJZY2xux",
   "outputs": [
    {
     "name": "stdout",
     "output_type": "stream",
     "text": [
      "Recurring patterns were generated successfully using RPGrowth algorithm \n",
      "#Patterns: 307\n",
      "Runtime: 3.5236830711364746\n",
      "Memory (RSS): 402735104\n",
      "Memory (USS): 391135232\n"
     ]
    }
   ],
   "execution_count": 10
  }
 ],
 "metadata": {
  "kernelspec": {
   "display_name": "Python 3",
   "language": "python",
   "name": "python3"
  },
  "language_info": {
   "codemirror_mode": {
    "name": "ipython",
    "version": 2
   },
   "file_extension": ".py",
   "mimetype": "text/x-python",
   "name": "python",
   "nbconvert_exporter": "python",
   "pygments_lexer": "ipython2",
   "version": "2.7.6"
  },
  "colab": {
   "provenance": [],
   "include_colab_link": true
  }
 },
 "nbformat": 4,
 "nbformat_minor": 5
}
