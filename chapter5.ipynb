{
 "cells": [
  {
   "cell_type": "markdown",
   "metadata": {
    "id": "view-in-github",
    "colab_type": "text"
   },
   "source": [
    "<a href=\"https://colab.research.google.com/github/UdayLab/Hands-on-Pattern-Mining/blob/main/chapter5.ipynb\" target=\"_parent\"><img src=\"https://colab.research.google.com/assets/colab-badge.svg\" alt=\"Open In Colab\"/></a>"
   ],
   "id": "58fae890e6f87ac2"
  },
  {
   "cell_type": "markdown",
   "source": [
    "# Chapter 5: Temporal Databases - Representation, Creation, and Statistics"
   ],
   "metadata": {
    "id": "0LjgjOdxPYGg"
   },
   "id": "0LjgjOdxPYGg"
  },
  {
   "cell_type": "markdown",
   "source": [
    "\n",
    "## Install the PAMI repository"
   ],
   "metadata": {
    "id": "uVoQ6sNvPfqU"
   },
   "id": "uVoQ6sNvPfqU"
  },
  {
   "cell_type": "code",
   "id": "initial_id",
   "metadata": {
    "collapsed": true,
    "colab": {
     "base_uri": "https://localhost:8080/"
    },
    "id": "initial_id",
    "outputId": "f3496e37-818b-429a-c536-dd7f1f9293fa",
    "ExecuteTime": {
     "end_time": "2025-06-16T14:50:48.583600Z",
     "start_time": "2025-06-16T14:50:48.456423Z"
    }
   },
   "source": [
    "!pip install PAMI"
   ],
   "outputs": [
    {
     "name": "stdout",
     "output_type": "stream",
     "text": [
      "zsh:1: command not found: pip\r\n"
     ]
    }
   ],
   "execution_count": 1
  },
  {
   "cell_type": "markdown",
   "source": [
    "## Downloading a sample database"
   ],
   "metadata": {
    "id": "3bUOodI7QsVM"
   },
   "id": "3bUOodI7QsVM"
  },
  {
   "cell_type": "code",
   "source": [
    "!wget -nc https://web-ext.u-aizu.ac.jp/~udayrage/datasets/temporalDatabases/Temporal_T10I4D100K.csv"
   ],
   "metadata": {
    "colab": {
     "base_uri": "https://localhost:8080/"
    },
    "id": "B2P6VtUUPm7d",
    "outputId": "a6f36d40-29c4-492e-f301-d85d1e2ccc72",
    "ExecuteTime": {
     "end_time": "2025-06-16T14:50:50.278226Z",
     "start_time": "2025-06-16T14:50:48.689947Z"
    }
   },
   "id": "B2P6VtUUPm7d",
   "outputs": [
    {
     "name": "stdout",
     "output_type": "stream",
     "text": [
      "--2025-06-16 23:50:48--  https://web-ext.u-aizu.ac.jp/~udayrage/datasets/temporalDatabases/Temporal_T10I4D100K.csv\r\n",
      "Resolving web-ext.u-aizu.ac.jp (web-ext.u-aizu.ac.jp)... 163.143.103.34\r\n",
      "Connecting to web-ext.u-aizu.ac.jp (web-ext.u-aizu.ac.jp)|163.143.103.34|:443... connected.\r\n",
      "HTTP request sent, awaiting response... 200 OK\r\n",
      "Length: 4606762 (4.4M) [text/csv]\r\n",
      "Saving to: ‘Temporal_T10I4D100K.csv’\r\n",
      "\r\n",
      "Temporal_T10I4D100K 100%[===================>]   4.39M  8.28MB/s    in 0.5s    \r\n",
      "\r\n",
      "2025-06-16 23:50:50 (8.28 MB/s) - ‘Temporal_T10I4D100K.csv’ saved [4606762/4606762]\r\n",
      "\r\n"
     ]
    }
   ],
   "execution_count": 2
  },
  {
   "cell_type": "markdown",
   "source": [
    "## Creating a synthetic transactional database"
   ],
   "metadata": {
    "id": "XE1O_lKfQ-pN"
   },
   "id": "XE1O_lKfQ-pN"
  },
  {
   "cell_type": "markdown",
   "source": [
    "### Generic\n",
    "\n",
    "\n",
    "\n",
    "```python\n",
    "from PAMI.extras.syntheticDataGenerator \\\n",
    "    import TemporalDatabase as db\n",
    "  \n",
    "obj = db.TemporalDatabase(\n",
    "        databaseSize=totalTransactions,\n",
    "        avgItemsPerTransaction=avergeNumberOfItemsToAppearInATransaction,\n",
    "        numItems=numberOfItemsInADatabase,\n",
    "        occurrenceProbabilityAtSameTimestamp=probabilityWithWhichTheNextTransactionMustOccurAtTheSameTimestamp,\n",
    "        occurrenceProbabilityToSkipSubsequentTimestamp=probabilityWithWithTheNextTimestampHasTobeSkipped,\n",
    "        sep='\\t'\n",
    "        )\n",
    "obj.create()\n",
    "obj.save('temporalDatabase.csv')\n",
    "#read the generated transactions into a dataframe\n",
    "temporalDataFrame=obj.getTransactions()\n",
    "#stats\n",
    "print('Runtime: ' + str(obj.getRuntime()))\n",
    "print('Memory (RSS): ' + str(obj.getMemoryRSS()))\n",
    "print('Memory (USS): ' + str(obj.getMemoryUSS()))\n",
    "```\n",
    "\n"
   ],
   "metadata": {
    "id": "H4KiTu5pRCd2"
   },
   "id": "H4KiTu5pRCd2"
  },
  {
   "cell_type": "markdown",
   "source": [
    "### Example 1"
   ],
   "metadata": {
    "id": "tUnI5fQkREPf"
   },
   "id": "tUnI5fQkREPf"
  },
  {
   "cell_type": "code",
   "source": [
    "from PAMI.extras.syntheticDataGenerator \\\n",
    "    import TemporalDatabase as db\n",
    "\n",
    "obj = db.TemporalDatabase(\n",
    "        databaseSize=100000,\n",
    "        avgItemsPerTransaction=10,\n",
    "        numItems=1000,\n",
    "        occurrenceProbabilityOfSameTimestamp=0,\n",
    "        occurrenceProbabilityToSkipSubsequentTimestamp=0,\n",
    "        sep='\\t'\n",
    "        )\n",
    "obj.create()\n",
    "obj.save('temporalDatabase.csv')\n",
    "#read the generated transactions into a dataframe\n",
    "temporalDataFrame=obj.getTransactions()\n",
    "#stats\n",
    "print('Runtime: ' + str(obj.getRuntime()))\n",
    "print('Memory (RSS): ' + str(obj.getMemoryRSS()))\n",
    "print('Memory (USS): ' + str(obj.getMemoryUSS()))"
   ],
   "metadata": {
    "colab": {
     "base_uri": "https://localhost:8080/"
    },
    "id": "ypvmb4UgQz2p",
    "outputId": "88216abe-2c9d-4864-eaf6-4f8756a23af7",
    "ExecuteTime": {
     "end_time": "2025-06-16T14:50:56.991875Z",
     "start_time": "2025-06-16T14:50:50.292614Z"
    }
   },
   "id": "ypvmb4UgQz2p",
   "outputs": [
    {
     "name": "stdout",
     "output_type": "stream",
     "text": [
      "Runtime: 5.4847681522369385\n",
      "Memory (RSS): 83886080\n",
      "Memory (USS): 60096512\n"
     ]
    }
   ],
   "execution_count": 3
  },
  {
   "cell_type": "markdown",
   "source": [
    "## Converting a dataframe into a temporal database"
   ],
   "metadata": {
    "id": "xef_IZN-SB08"
   },
   "id": "xef_IZN-SB08"
  },
  {
   "cell_type": "markdown",
   "source": [
    "### Generic\n",
    "\n",
    "\n",
    "\n",
    "```python\n",
    "from PAMI.extras.convert import DF2DB as alg\n",
    "\n",
    "obj = alg.DF2DB(dataFrame)\n",
    "obj.convert2TemporalDatabase(oFile='outputFileName', condition='>=|>|==|!=|<|<=', thresholdValue=thresholdValue)\n",
    "\n",
    "print('Runtime: ' + str(obj.getRuntime()))\n",
    "print('Memory (RSS): ' + str(obj.getMemoryRSS()))\n",
    "print('Memory (USS): ' + str(obj.getMemoryUSS()))\n",
    "```\n",
    "\n"
   ],
   "metadata": {
    "id": "s5wmgZZtSJw-"
   },
   "id": "s5wmgZZtSJw-"
  },
  {
   "cell_type": "markdown",
   "source": [
    "### Example 2"
   ],
   "metadata": {
    "id": "EBL3n-RiSM20"
   },
   "id": "EBL3n-RiSM20"
  },
  {
   "cell_type": "code",
   "source": [
    "from PAMI.extras.convert import DF2DB as alg\n",
    "import pandas as pd\n",
    "import numpy as np\n",
    "\n",
    "#creating a 5 x 5 dataframe with random values\n",
    "data = np.random.randint(1, 100, size=(5, 5))\n",
    "dataFrame = pd.DataFrame(data,\n",
    "             columns=['Item1', 'Item2', 'Item3', 'Item4', 'Item5']\n",
    "            )\n",
    "# Adding a timestamp column with specific values\n",
    "timestamps = [1, 3, 3, 5, 8]\n",
    "dataFrame.insert(0, 'timestamp', timestamps)\n",
    "\n",
    "#converting the database into a transactional database by\n",
    "#considering values greater than or equal to 36\n",
    "obj = alg.DF2DB(dataFrame)\n",
    "obj.convert2TemporalDatabase(oFile='temporalDB.csv',\n",
    "       condition='>=', thresholdValue=36\n",
    "     )\n",
    "print('Runtime: ' + str(obj.getRuntime()))\n",
    "print('Memory (RSS): ' + str(obj.getMemoryRSS()))\n",
    "print('Memory (USS): ' + str(obj.getMemoryUSS()))"
   ],
   "metadata": {
    "colab": {
     "base_uri": "https://localhost:8080/"
    },
    "id": "2-y_XP0bRMFw",
    "outputId": "973c8e16-3106-4a97-9d19-bf1b16dc6386",
    "ExecuteTime": {
     "end_time": "2025-06-16T14:50:57.033320Z",
     "start_time": "2025-06-16T14:50:57.012580Z"
    }
   },
   "id": "2-y_XP0bRMFw",
   "outputs": [
    {
     "name": "stdout",
     "output_type": "stream",
     "text": [
      "Runtime: 0.0016570091247558594\n",
      "Memory (RSS): 169803776\n",
      "Memory (USS): 132120576\n"
     ]
    }
   ],
   "execution_count": 4
  },
  {
   "cell_type": "markdown",
   "source": [
    "## Printing the Statistical Details"
   ],
   "metadata": {
    "id": "tA7TO2q7TJBi"
   },
   "id": "tA7TO2q7TJBi"
  },
  {
   "cell_type": "markdown",
   "source": [
    "### Generic\n",
    "\n",
    "\n",
    "\n",
    "```python\n",
    "from PAMI.extras.dbStats import TemporalDatabase as stat\n",
    "\n",
    "obj = stat.TemporalDatabase(\"inputFileName\")\n",
    "obj.run()\n",
    "obj.printStats()\n",
    "obj.plotGraphs()\n",
    "```\n",
    "\n"
   ],
   "metadata": {
    "id": "kzj6Rn3HTRkK"
   },
   "id": "kzj6Rn3HTRkK"
  },
  {
   "cell_type": "markdown",
   "source": [
    "### Example 3"
   ],
   "metadata": {
    "id": "6gW0SQC1TVDD"
   },
   "id": "6gW0SQC1TVDD"
  },
  {
   "cell_type": "code",
   "source": [
    "from PAMI.extras.dbStats import TemporalDatabase as stat\n",
    "\n",
    "obj = stat.TemporalDatabase(\"temporalDatabase.csv\")\n",
    "obj.run()\n",
    "obj.printStats()\n",
    "obj.plotGraphs()"
   ],
   "metadata": {
    "colab": {
     "base_uri": "https://localhost:8080/"
    },
    "id": "Ogona47-S7FR",
    "outputId": "a4100521-0963-4102-a703-7c1d44cc47b4",
    "ExecuteTime": {
     "end_time": "2025-06-16T14:51:15.700189Z",
     "start_time": "2025-06-16T14:50:57.094628Z"
    }
   },
   "id": "Ogona47-S7FR",
   "outputs": [
    {
     "name": "stdout",
     "output_type": "stream",
     "text": [
      "Database size : 100000\n",
      "Number of items : 1000\n",
      "Minimum Transaction Size : 0\n",
      "Average Transaction Size : 10.0\n",
      "Maximum Transaction Size : 20\n",
      "Minimum Inter Arrival Period : 1\n",
      "Average Inter Arrival Period : 1.0\n",
      "Maximum Inter Arrival Period : 1\n",
      "Minimum periodicity : 477\n",
      "Average periodicity : 740.587\n",
      "Maximum periodicicty : 1520\n",
      "Standard Deviation Transaction Size : 5.793729368895306\n",
      "Variance : 33.567635676356765\n",
      "Sparsity : 0.99\n"
     ]
    },
    {
     "data": {
      "text/plain": [
       "<Figure size 640x480 with 1 Axes>"
      ],
      "image/png": "[encoded data removed]"
     },
     "metadata": {},
     "output_type": "display_data"
    },
    {
     "data": {
      "text/plain": [
       "<Figure size 640x480 with 1 Axes>"
      ],
      "image/png": "[encoded data removed]"
     },
     "metadata": {},
     "output_type": "display_data"
    }
   ],
   "execution_count": 5
  }
 ],
 "metadata": {
  "kernelspec": {
   "display_name": "Python 3",
   "language": "python",
   "name": "python3"
  },
  "language_info": {
   "codemirror_mode": {
    "name": "ipython",
    "version": 2
   },
   "file_extension": ".py",
   "mimetype": "text/x-python",
   "name": "python",
   "nbconvert_exporter": "python",
   "pygments_lexer": "ipython2",
   "version": "2.7.6"
  },
  "colab": {
   "provenance": [],
   "toc_visible": true,
   "include_colab_link": true
  }
 },
 "nbformat": 4,
 "nbformat_minor": 5
}
