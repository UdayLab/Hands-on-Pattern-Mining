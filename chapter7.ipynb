{
 "cells": [
  {
   "cell_type": "markdown",
   "metadata": {
    "id": "view-in-github",
    "colab_type": "text"
   },
   "source": [
    "<a href=\"https://colab.research.google.com/github/UdayLab/Hands-on-Pattern-Mining/blob/main/chapter7.ipynb\" target=\"_parent\"><img src=\"https://colab.research.google.com/assets/colab-badge.svg\" alt=\"Open In Colab\"/></a>"
   ],
   "id": "c0c39912271b7d20"
  },
  {
   "cell_type": "markdown",
   "source": [
    "# Chapter 7: Spatial Databases: Representation, Creation, and Statistics"
   ],
   "metadata": {
    "id": "y3s-3Q_piu8t"
   },
   "id": "y3s-3Q_piu8t"
  },
  {
   "cell_type": "markdown",
   "source": [
    "## Installation of PAMI library"
   ],
   "metadata": {
    "id": "rOTWYp6tizpr"
   },
   "id": "rOTWYp6tizpr"
  },
  {
   "cell_type": "code",
   "id": "initial_id",
   "metadata": {
    "collapsed": true,
    "colab": {
     "base_uri": "https://localhost:8080/",
     "height": 1000
    },
    "id": "initial_id",
    "outputId": "7f78f392-923b-4062-a250-c046c0b0e169",
    "ExecuteTime": {
     "end_time": "2025-06-16T15:04:19.616378Z",
     "start_time": "2025-06-16T15:04:19.484895Z"
    }
   },
   "source": [
    "!pip install pami"
   ],
   "outputs": [
    {
     "name": "stdout",
     "output_type": "stream",
     "text": [
      "zsh:1: command not found: pip\r\n"
     ]
    }
   ],
   "execution_count": 1
  },
  {
   "cell_type": "markdown",
   "source": [
    "## Download a sample database"
   ],
   "metadata": {
    "id": "koJb4FUvi3-A"
   },
   "id": "koJb4FUvi3-A"
  },
  {
   "cell_type": "code",
   "source": [
    "!wget -nc --no-check-certificate https://github.com/UdayLab/Hands-on-Pattern-Mining/raw/main/datasets/spatiotemporal_T10I4D100K.csv"
   ],
   "metadata": {
    "colab": {
     "base_uri": "https://localhost:8080/"
    },
    "id": "D8bz5U2SjAai",
    "outputId": "54200815-f0cc-4f19-c188-cb002df41e43",
    "ExecuteTime": {
     "end_time": "2025-06-16T15:04:19.872013Z",
     "start_time": "2025-06-16T15:04:19.742605Z"
    }
   },
   "id": "D8bz5U2SjAai",
   "outputs": [
    {
     "name": "stdout",
     "output_type": "stream",
     "text": [
      "File ‘spatiotemporal_T10I4D100K.csv’ already there; not retrieving.\r\n",
      "\r\n"
     ]
    }
   ],
   "execution_count": 2
  },
  {
   "cell_type": "markdown",
   "source": [
    "## Generating Synthetic Geo-referenced Transactional Database"
   ],
   "metadata": {
    "id": "UGMSyoSojUBF"
   },
   "id": "UGMSyoSojUBF"
  },
  {
   "cell_type": "markdown",
   "source": [
    "### Generic\n",
    "\n",
    "\n",
    "\n",
    "```python\n",
    "from PAMI.extras.syntheticDataGenerator import GeoReferentialTransactionalDatabase as db\n",
    "  \n",
    "obj = db.GeoReferentialTransactionalDatabase(\n",
    "        databaseSize=numberOfTransactions,\n",
    "        avgItemsPerTransaction=averageNumberOfItemsInATransaction,\n",
    "        numItems=totalNumberOfItems,\n",
    "        x1=lowestXaxisCoordinate,\n",
    "        y1=lowestYaxisCoordinate,\n",
    "        x2=maximalXaxisCoordinate,\n",
    "        y2=maximalYaxisCoordinate,\n",
    "        sep='\\t'\n",
    "        )\n",
    "obj.create()\n",
    "obj.save('outputFileName')\n",
    "#read the generated transactions into a dataframe\n",
    "GRTDF=obj.getTransactions()\n",
    "print('Runtime: ' + str(obj.getRuntime()))\n",
    "print('Memory (RSS): ' + str(obj.getMemoryRSS()))\n",
    "print('Memory (USS): ' + str(obj.getMemoryUSS()))\n",
    "```\n",
    "\n"
   ],
   "metadata": {
    "id": "hW_57pxdjcCh"
   },
   "id": "hW_57pxdjcCh"
  },
  {
   "cell_type": "markdown",
   "source": [
    "### Example 1"
   ],
   "metadata": {
    "id": "Ir799i2cjesT"
   },
   "id": "Ir799i2cjesT"
  },
  {
   "cell_type": "code",
   "source": [
    "from PAMI.extras.syntheticDataGenerator import geoReferentialTransactionalDatabase as db\n",
    "\n",
    "obj = db.geoReferentialTransactionalDatabase(\n",
    "        databaseSize=1000,\n",
    "        avgItemsPerTransaction=10,\n",
    "        numItems=1000,\n",
    "        x1=0,\n",
    "        y1=0,\n",
    "        x2=100,\n",
    "        y2=100,\n",
    "        sep='\\t'\n",
    "        )\n",
    "obj.create()\n",
    "obj.save('geoReferencedTransactionalDatabase.csv')\n",
    "#read the generated transactions into a dataframe\n",
    "GRTDF=obj.getTransactions()\n",
    "print('Runtime: ' + str(obj.getRuntime()))\n",
    "print('Memory (RSS): ' + str(obj.getMemoryRSS()))\n",
    "print('Memory (USS): ' + str(obj.getMemoryUSS()))"
   ],
   "metadata": {
    "colab": {
     "base_uri": "https://localhost:8080/"
    },
    "id": "w-AgIvTGjbRW",
    "outputId": "7895fc3a-8a5f-482a-e0a5-8e60d3713080",
    "ExecuteTime": {
     "end_time": "2025-06-16T15:04:36.531583Z",
     "start_time": "2025-06-16T15:04:36.421833Z"
    }
   },
   "id": "w-AgIvTGjbRW",
   "outputs": [
    {
     "name": "stderr",
     "output_type": "stream",
     "text": [
      "100%|██████████| 1000/1000 [00:00<00:00, 20188.61it/s]"
     ]
    },
    {
     "name": "stdout",
     "output_type": "stream",
     "text": [
      "Runtime: 0.08381485939025879\n",
      "Memory (RSS): 63569920\n",
      "Memory (USS): 40304640\n"
     ]
    },
    {
     "name": "stderr",
     "output_type": "stream",
     "text": [
      "\n"
     ]
    }
   ],
   "execution_count": 4
  },
  {
   "cell_type": "code",
   "source": [
    "!head geoReferencedTransactionalDatabase.csv"
   ],
   "metadata": {
    "id": "xQzwn3U95fw3",
    "outputId": "3d26ad9f-6f3a-40f6-f61b-976fa6489eaa",
    "colab": {
     "base_uri": "https://localhost:8080/"
    },
    "ExecuteTime": {
     "end_time": "2025-06-16T15:04:39.317272Z",
     "start_time": "2025-06-16T15:04:39.186846Z"
    }
   },
   "id": "xQzwn3U95fw3",
   "outputs": [
    {
     "name": "stdout",
     "output_type": "stream",
     "text": [
      "(2, 61)\t(99, 83)\t(77, 63)\t(31, 38)\t(21, 69)\t(43, 21)\t(41, 85)\t(58, 73)\t(35, 90)\t(69, 53)\t(34, 43)\t(62, 79)\r\n",
      "(26, 27)\t(77, 46)\t(66, 32)\t(20, 1)\t(76, 32)\t(68, 11)\t(43, 79)\t(90, 72)\t(60, 67)\r\n",
      "(37, 65)\t(96, 20)\t(84, 21)\t(77, 63)\t(2, 66)\t(67, 16)\t(44, 33)\t(75, 54)\t(95, 19)\r\n",
      "(80, 20)\t(66, 32)\t(18, 74)\t(71, 87)\t(6, 21)\t(6, 61)\t(51, 63)\t(50, 70)\t(66, 49)\t(52, 42)\t(99, 96)\t(5, 29)\t(53, 37)\r\n",
      "(82, 11)\t(38, 68)\t(54, 94)\t(31, 27)\t(92, 99)\t(83, 13)\t(74, 14)\t(24, 62)\t(22, 9)\t(77, 31)\t(72, 28)\t(9, 52)\t(99, 43)\r\n",
      "(99, 91)\t(89, 19)\t(7, 44)\t(74, 12)\t(2, 67)\t(79, 67)\t(13, 24)\t(51, 95)\t(84, 37)\r\n",
      "(60, 35)\t(5, 29)\t(24, 99)\t(80, 20)\t(6, 53)\t(80, 60)\t(3, 2)\t(14, 32)\t(97, 22)\r\n",
      "(55, 39)\t(65, 71)\t(45, 39)\t(43, 64)\t(61, 59)\t(84, 10)\t(98, 26)\t(61, 9)\t(55, 51)\r\n",
      "(52, 23)\t(88, 51)\t(35, 55)\t(68, 28)\t(71, 25)\t(68, 49)\t(62, 86)\t(34, 84)\t(73, 59)\r\n",
      "(28, 30)\t(75, 54)\t(47, 31)\t(51, 80)\t(89, 26)\t(87, 50)\t(40, 68)\t(37, 67)\t(73, 59)\t(96, 29)\t(76, 32)\t(61, 74)\r\n"
     ]
    }
   ],
   "execution_count": 5
  },
  {
   "cell_type": "markdown",
   "source": [
    "## Generating Synthetic Geo-referenced Temporal Database"
   ],
   "metadata": {
    "id": "6a4RgP7ykcxY"
   },
   "id": "6a4RgP7ykcxY"
  },
  {
   "cell_type": "markdown",
   "source": [
    "### Generic\n",
    "\n",
    "\n",
    "\n",
    "```python\n",
    "from PAMI.extras.syntheticDataGenerator import GeoReferentialTemporalDatabase as db\n",
    "  \n",
    "obj = db.GeoReferentialTemporalDatabase(\n",
    "        databaseSize=numberOfTransactions,\n",
    "        avgItemsPerTransaction=averageNumberOfItemsInATransaction,\n",
    "        numItems=totalNumberOfItems,\n",
    "        occurrenceProbabilityOfSameTimestamp=probabilityWithWhichTheNextTransactionAppearsAtTheSameTimeStamp,\n",
    "        occurrenceProbabilityToSkipSubsequentTimestamp=probabilityWithWhichTheNextTransactionSkipsTheNextTimeStamp,\n",
    "        x1=lowestXaxisCoordinate,\n",
    "        y1=lowestYaxisCoordinate,\n",
    "        x2=maximumXaxisCoordinate,\n",
    "        y2=maximumYaxisCoordinate,\n",
    "        sep='\\t'\n",
    "        )\n",
    "obj.create()\n",
    "obj.save('outputFileName')\n",
    "GRTempDF=obj.getTransactions()\n",
    "print('Runtime: ' + str(obj.getRuntime()))\n",
    "print('Memory (RSS): ' + str(obj.getMemoryRSS()))\n",
    "print('Memory (USS): ' + str(obj.getMemoryUSS()))\n",
    "```\n",
    "\n"
   ],
   "metadata": {
    "id": "-V_IiGkfklCj"
   },
   "id": "-V_IiGkfklCj"
  },
  {
   "cell_type": "markdown",
   "source": [
    "### Example 2"
   ],
   "metadata": {
    "id": "5C3iQJg6koQI"
   },
   "id": "5C3iQJg6koQI"
  },
  {
   "cell_type": "code",
   "source": [
    "from PAMI.extras.syntheticDataGenerator \\\n",
    "    import geoReferentialTemporalDatabase as db\n",
    "\n",
    "obj = db.geoReferentialTemporalDatabase(\n",
    "        databaseSize=1000,\n",
    "        avgItemsPerTransaction=10,\n",
    "        numItems=1000,\n",
    "        occurrenceProbabilityOfSameTimestamp=0,\n",
    "        occurrenceProbabilityToSkipSubsequentTimestamp=0,\n",
    "        x1=0,\n",
    "        y1=0,\n",
    "        x2=100,\n",
    "        y2=100,\n",
    "        sep='\\t'\n",
    "        )\n",
    "obj.create()\n",
    "obj.save('geoReferentialTemporalDatabase.csv')\n",
    "GRTempDF=obj.getTransactions()\n",
    "print('Runtime: ' + str(obj.getRuntime()))\n",
    "print('Memory (RSS): ' + str(obj.getMemoryRSS()))\n",
    "print('Memory (USS): ' + str(obj.getMemoryUSS()))"
   ],
   "metadata": {
    "colab": {
     "base_uri": "https://localhost:8080/"
    },
    "id": "4c1G8w0ekkb6",
    "outputId": "363a8c0c-7d76-450d-f2e9-f34f48a68b0e",
    "ExecuteTime": {
     "end_time": "2025-06-16T15:04:52.360990Z",
     "start_time": "2025-06-16T15:04:52.245096Z"
    }
   },
   "id": "4c1G8w0ekkb6",
   "outputs": [
    {
     "name": "stderr",
     "output_type": "stream",
     "text": [
      "100%|██████████| 1000/1000 [00:00<00:00, 17311.45it/s]"
     ]
    },
    {
     "name": "stdout",
     "output_type": "stream",
     "text": [
      "Runtime: 0.08243322372436523\n",
      "Memory (RSS): 54444032\n",
      "Memory (USS): 30539776\n"
     ]
    },
    {
     "name": "stderr",
     "output_type": "stream",
     "text": [
      "\n"
     ]
    }
   ],
   "execution_count": 8
  },
  {
   "cell_type": "code",
   "source": [
    "!head geoReferentialTemporalDatabase.csv"
   ],
   "metadata": {
    "id": "XBwg9Dws6BYJ",
    "outputId": "4cc0854f-a5e4-4a62-a93b-78a641cab91e",
    "colab": {
     "base_uri": "https://localhost:8080/"
    },
    "ExecuteTime": {
     "end_time": "2025-06-16T15:04:53.767410Z",
     "start_time": "2025-06-16T15:04:53.638336Z"
    }
   },
   "id": "XBwg9Dws6BYJ",
   "outputs": [
    {
     "name": "stdout",
     "output_type": "stream",
     "text": [
      "1\t(88, 51)\t(54, 23)\t(94, 76)\t(86, 16)\t(4, 49)\t(18, 28)\t(83, 42)\t(10, 43)\t(80, 43)\r\n",
      "2\t(25, 9)\t(23, 43)\t(86, 44)\t(28, 6)\t(69, 70)\t(62, 86)\t(26, 92)\t(10, 80)\t(22, 47)\t(44, 26)\t(77, 53)\t(23, 57)\t(35, 89)\r\n",
      "3\t(38, 29)\t(6, 63)\t(2, 52)\t(18, 69)\t(72, 46)\t(41, 11)\t(55, 6)\t(40, 68)\t(32, 20)\r\n",
      "4\t(26, 69)\t(18, 96)\t(39, 79)\t(46, 8)\t(52, 76)\t(5, 54)\t(98, 64)\t(29, 3)\t(70, 11)\r\n",
      "5\t(7, 32)\t(25, 31)\t(18, 83)\t(79, 44)\t(43, 19)\t(75, 70)\t(36, 78)\t(93, 50)\t(81, 47)\r\n",
      "6\t(88, 51)\t(1, 16)\t(57, 9)\t(25, 77)\t(48, 27)\t(36, 23)\t(74, 85)\t(8, 81)\t(54, 97)\t(42, 86)\t(4, 73)\t(71, 18)\r\n",
      "7\t(33, 42)\t(75, 67)\t(98, 19)\t(7, 69)\t(39, 19)\t(11, 94)\t(66, 79)\t(44, 0)\t(33, 3)\t(82, 44)\t(33, 66)\t(11, 78)\t(79, 94)\r\n",
      "8\t(50, 17)\t(56, 52)\t(34, 72)\t(48, 27)\t(40, 52)\t(94, 45)\t(19, 55)\t(48, 55)\t(39, 29)\r\n",
      "9\t(42, 86)\t(36, 40)\t(55, 6)\t(5, 86)\t(1, 89)\t(79, 94)\t(9, 81)\t(74, 44)\t(21, 25)\t(13, 54)\t(13, 55)\t(58, 25)\r\n",
      "10\t(18, 8)\t(26, 66)\t(59, 13)\t(85, 73)\t(14, 82)\t(67, 22)\t(81, 72)\t(77, 80)\t(71, 62)\t(29, 54)\r\n"
     ]
    }
   ],
   "execution_count": 9
  },
  {
   "cell_type": "markdown",
   "source": [
    "## Converting a Georeferenced Dataframe into a Georeferenced Transactional Database"
   ],
   "metadata": {
    "id": "WWxrCCXymdf8"
   },
   "id": "WWxrCCXymdf8"
  },
  {
   "cell_type": "markdown",
   "source": [
    "### Generic\n",
    "\n",
    "\n",
    "\n",
    "```python\n",
    "\n",
    "from PAMI.extras.convert import DF2DB as alg\n",
    "\n",
    "obj = alg.DF2DB(dataFrame)\n",
    "obj.convert2TransactionalDatabase(oFile='outputFileName.txt', condition='>=|>|<=|<|==|!=', thresholdValue=thresholdValue)\n",
    "print('Runtime: ' + str(obj.getRuntime()))\n",
    "print('Memory (RSS): ' + str(obj.getMemoryRSS()))\n",
    "print('Memory (USS): ' + str(obj.getMemoryUSS()))\n",
    "```\n",
    "\n"
   ],
   "metadata": {
    "id": "7oxhLiH0m-qK"
   },
   "id": "7oxhLiH0m-qK"
  },
  {
   "cell_type": "markdown",
   "source": [
    "### Example 3"
   ],
   "metadata": {
    "id": "OSqfgkWanCkc"
   },
   "id": "OSqfgkWanCkc"
  },
  {
   "cell_type": "code",
   "source": [
    "from PAMI.extras.convert import DF2DB as alg\n",
    "import pandas as pd\n",
    "import numpy as np\n",
    "#creating a 4 x 4 dataframe with random values\n",
    "data = np.random.randint(1, 100, size=(4, 4))\n",
    "dataFrame = pd.DataFrame(data,\n",
    "columns=['POINT(0 0)', 'POINT(0 1)',\n",
    "'POINT(0 2)', 'POINT(0 3)']\n",
    ")\n",
    "obj = alg.DF2DB(dataFrame)\n",
    "obj.convert2TransactionalDatabase(\n",
    "oFile='georeferencedTransactionalDatabase.txt',\n",
    "condition='>=', thresholdValue=36\n",
    ")\n",
    "print('Runtime: ' + str(obj.getRuntime()))\n",
    "print('Memory (RSS): ' + str(obj.getMemoryRSS()))\n",
    "print('Memory (USS): ' + str(obj.getMemoryUSS()))"
   ],
   "metadata": {
    "colab": {
     "base_uri": "https://localhost:8080/"
    },
    "id": "kt1L-C0Umj3q",
    "outputId": "8886aab9-2d0e-44b0-e669-56f8d701ac42",
    "ExecuteTime": {
     "end_time": "2025-06-16T15:04:55.125289Z",
     "start_time": "2025-06-16T15:04:55.107309Z"
    }
   },
   "id": "kt1L-C0Umj3q",
   "outputs": [
    {
     "name": "stdout",
     "output_type": "stream",
     "text": [
      "Runtime: 0.0020339488983154297\n",
      "Memory (RSS): 66338816\n",
      "Memory (USS): 43335680\n"
     ]
    }
   ],
   "execution_count": 10
  },
  {
   "cell_type": "markdown",
   "source": [
    "## Converting a Georeferenced Dataframe into a Georeferenced Temporal Database"
   ],
   "metadata": {
    "id": "rAcb22r-psuQ"
   },
   "id": "rAcb22r-psuQ"
  },
  {
   "cell_type": "markdown",
   "source": [
    "### Generic\n",
    "\n",
    "\n",
    "\n",
    "```python\n",
    "from PAMI.extras.convert import DF2DB as alg\n",
    "\n",
    "\n",
    "#converting the database into a transactional database by\n",
    "#considering values greater than or equal to 36\n",
    "obj = alg.DF2DB(dataFrame)\n",
    "obj.convert2TemporalDatabase(oFile='outputFileName', condition='>=|>|<=|<|==|!=', thresholdValue=36)\n",
    "\n",
    "print('Runtime: ' + str(obj.getRuntime()))\n",
    "print('Memory (RSS): ' + str(obj.getMemoryRSS()))\n",
    "print('Memory (USS): ' + str(obj.getMemoryUSS()))\n",
    "```\n",
    "\n"
   ],
   "metadata": {
    "id": "VMfa4ehep2sF"
   },
   "id": "VMfa4ehep2sF"
  },
  {
   "cell_type": "markdown",
   "source": [
    "### Example 4"
   ],
   "metadata": {
    "id": "ndimpkv7p5iE"
   },
   "id": "ndimpkv7p5iE"
  },
  {
   "cell_type": "code",
   "source": [
    "from PAMI.extras.convert import DF2DB as alg\n",
    "import pandas as pd\n",
    "import numpy as np\n",
    "\n",
    "#creating a 5 x 4 dataframe with random values\n",
    "data = np.random.randint(1, 100, size=(5, 4))\n",
    "dataFrame = pd.DataFrame(data,\n",
    "             columns=['POINT(0 0)', 'POINT(0 1)',\n",
    "             'POINT(0 2)', 'POINT(0 3)']\n",
    "            )\n",
    "# Adding a timestamp column with specific values\n",
    "timestamps = [1, 3, 3, 5, 8]\n",
    "dataFrame.insert(0, 'timestamp', timestamps)\n",
    "\n",
    "#converting the database into a transactional database by\n",
    "#considering values greater than or equal to 36\n",
    "obj = alg.DF2DB(dataFrame)\n",
    "obj.convert2TemporalDatabase(\n",
    "        oFile='georeferencedTemporalDatabase.txt',\n",
    "       condition='>=', thresholdValue=36\n",
    "     )\n",
    "print('Runtime: ' + str(obj.getRuntime()))\n",
    "print('Memory (RSS): ' + str(obj.getMemoryRSS()))\n",
    "print('Memory (USS): ' + str(obj.getMemoryUSS()))"
   ],
   "metadata": {
    "colab": {
     "base_uri": "https://localhost:8080/"
    },
    "id": "xDASdnHEpxtV",
    "outputId": "94102901-326b-4c2d-83ee-94c93a148810",
    "ExecuteTime": {
     "end_time": "2025-06-16T15:04:56.795199Z",
     "start_time": "2025-06-16T15:04:56.785866Z"
    }
   },
   "id": "xDASdnHEpxtV",
   "outputs": [
    {
     "name": "stdout",
     "output_type": "stream",
     "text": [
      "Runtime: 0.0028388500213623047\n",
      "Memory (RSS): 68141056\n",
      "Memory (USS): 45006848\n"
     ]
    }
   ],
   "execution_count": 11
  },
  {
   "cell_type": "markdown",
   "source": [
    "## Getting Statistical Details for a Geo-referenced Transactional Database"
   ],
   "metadata": {
    "id": "0zEqbScpq5hZ"
   },
   "id": "0zEqbScpq5hZ"
  },
  {
   "cell_type": "markdown",
   "source": [
    "### Generic\n",
    "\n",
    "\n",
    "```\n",
    "from PAMI.extras.dbStats import georeferencedTransactionalDatabase as stat\n",
    "\n",
    "obj = stat.georeferencedTransactionalDatabase(iFile=\"transactionalDatabase.csv\")\n",
    "obj.run()\n",
    "obj.printStats()\n",
    "obj.plotGraphs()\n",
    "obj.plotLocations()\n",
    "```\n",
    "\n"
   ],
   "metadata": {
    "id": "IjJIYsOcq7vP"
   },
   "id": "IjJIYsOcq7vP"
  },
  {
   "cell_type": "markdown",
   "source": [
    "### Example"
   ],
   "metadata": {
    "id": "2xklh1MKq9px"
   },
   "id": "2xklh1MKq9px"
  },
  {
   "cell_type": "code",
   "source": [
    "from PAMI.extras.dbStats import GeoreferencedTransactionalDatabase as stat\n",
    "\n",
    "obj = stat.GeoreferencedTransactionalDatabase(iFile=\"georeferencedTransactionalDatabase.txt\")\n",
    "obj.run()\n",
    "obj.printStats()\n",
    "obj.plotGraphs()"
   ],
   "metadata": {
    "colab": {
     "base_uri": "https://localhost:8080/",
     "height": 1000
    },
    "id": "tfe5hD25q7VG",
    "outputId": "44ceb0ff-e743-4165-db56-26f3661ec3ec",
    "ExecuteTime": {
     "end_time": "2025-06-16T15:04:58.549497Z",
     "start_time": "2025-06-16T15:04:57.710904Z"
    }
   },
   "id": "tfe5hD25q7VG",
   "outputs": [
    {
     "name": "stdout",
     "output_type": "stream",
     "text": [
      "Database size (total no of transactions) : 4\n",
      "Number of items : 4\n",
      "Minimum Transaction Size : 1\n",
      "Average Transaction Size : 2.75\n",
      "Maximum Transaction Size : 4\n",
      "Standard Deviation Transaction Size : 1.299038105676658\n",
      "Variance in Transaction Sizes : 2.25\n",
      "Sparsity : 0.3125\n"
     ]
    },
    {
     "data": {
      "text/plain": [
       "<Figure size 640x480 with 1 Axes>"
      ],
      "image/png": "[encoded data removed]"
     },
     "metadata": {},
     "output_type": "display_data"
    },
    {
     "data": {
      "text/plain": [
       "<Figure size 640x480 with 1 Axes>"
      ],
      "image/png": "[encoded data removed]"
     },
     "metadata": {},
     "output_type": "display_data"
    }
   ],
   "execution_count": 12
  },
  {
   "cell_type": "markdown",
   "source": [
    "## Getting Statistical Details for a Geo-referenced Timeseries Database"
   ],
   "metadata": {
    "id": "sc6bbeRrvdH6"
   },
   "id": "sc6bbeRrvdH6"
  },
  {
   "cell_type": "code",
   "source": [
    "from PAMI.extras.dbStats import  GeoreferencedTemporalDatabase as stat\n",
    "\n",
    "obj = stat.GeoreferencedTemporalDatabase(iFile=\"georeferencedTemporalDatabase.txt\")\n",
    "obj.run()\n",
    "obj.printStats()\n",
    "obj.plotGraphs()"
   ],
   "metadata": {
    "id": "AjR7CDylrb2q",
    "outputId": "eb0510cb-70b3-40a9-ada7-dd8e5de3a8b0",
    "colab": {
     "base_uri": "https://localhost:8080/",
     "height": 1000
    },
    "ExecuteTime": {
     "end_time": "2025-06-16T15:04:58.656871Z",
     "start_time": "2025-06-16T15:04:58.558778Z"
    }
   },
   "id": "AjR7CDylrb2q",
   "outputs": [
    {
     "name": "stdout",
     "output_type": "stream",
     "text": [
      "Database size : 5\n",
      "Number of items : 4\n",
      "Minimum Transaction Size : 2\n",
      "Average Transaction Size : 2.8\n",
      "Maximum Transaction Size : 4\n",
      "Minimum Inter Arrival Period : 1\n",
      "Average Inter Arrival Period : 1.0\n",
      "Maximum Inter Arrival Period : 1\n",
      "Minimum periodicity : 1\n",
      "Average periodicity : 2.5\n",
      "Maximum periodicicty : 4\n",
      "Standard Deviation Transaction Size : 0.7483314773547883\n",
      "Variance : 0.7\n",
      "Sparsity : 0.3\n"
     ]
    },
    {
     "data": {
      "text/plain": [
       "<Figure size 640x480 with 1 Axes>"
      ],
      "image/png": "[encoded data removed]"
     },
     "metadata": {},
     "output_type": "display_data"
    },
    {
     "data": {
      "text/plain": [
       "<Figure size 640x480 with 1 Axes>"
      ],
      "image/png": "[encoded data removed]"
     },
     "metadata": {},
     "output_type": "display_data"
    }
   ],
   "execution_count": 13
  },
  {
   "metadata": {
    "ExecuteTime": {
     "end_time": "2025-06-16T15:04:58.681391Z",
     "start_time": "2025-06-16T15:04:58.678171Z"
    }
   },
   "cell_type": "code",
   "source": "",
   "id": "cdac453f741a5df5",
   "outputs": [],
   "execution_count": null
  },
  {
   "metadata": {},
   "cell_type": "code",
   "outputs": [],
   "execution_count": null,
   "source": "",
   "id": "418bdb65ea022d21"
  }
 ],
 "metadata": {
  "kernelspec": {
   "display_name": "Python 3",
   "language": "python",
   "name": "python3"
  },
  "language_info": {
   "codemirror_mode": {
    "name": "ipython",
    "version": 2
   },
   "file_extension": ".py",
   "mimetype": "text/x-python",
   "name": "python",
   "nbconvert_exporter": "python",
   "pygments_lexer": "ipython2",
   "version": "2.7.6"
  },
  "colab": {
   "provenance": [],
   "include_colab_link": true
  }
 },
 "nbformat": 4,
 "nbformat_minor": 5
}
