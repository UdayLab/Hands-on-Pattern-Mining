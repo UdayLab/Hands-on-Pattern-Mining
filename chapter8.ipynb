{
 "cells": [
  {
   "cell_type": "markdown",
   "metadata": {
    "id": "view-in-github",
    "colab_type": "text"
   },
   "source": [
    "<a href=\"https://colab.research.google.com/github/UdayLab/Hands-on-Pattern-Mining/blob/main/chapter8.ipynb\" target=\"_parent\"><img src=\"https://colab.research.google.com/assets/colab-badge.svg\" alt=\"Open In Colab\"/></a>"
   ],
   "id": "2521d50d8972d9ab"
  },
  {
   "cell_type": "markdown",
   "source": [
    "# Chapter 8: Pattern Discovery in Spatial Databases"
   ],
   "metadata": {
    "id": "QEIUU4wNGAO0"
   },
   "id": "QEIUU4wNGAO0"
  },
  {
   "cell_type": "markdown",
   "source": [
    "## Install the PAMI library"
   ],
   "metadata": {
    "id": "RQsoe-_uGDOi"
   },
   "id": "RQsoe-_uGDOi"
  },
  {
   "cell_type": "code",
   "id": "initial_id",
   "metadata": {
    "collapsed": true,
    "colab": {
     "base_uri": "https://localhost:8080/"
    },
    "id": "initial_id",
    "outputId": "59ba03ef-a326-4057-84b8-196025594a5d",
    "ExecuteTime": {
     "end_time": "2025-06-16T15:19:51.517968Z",
     "start_time": "2025-06-16T15:19:51.394941Z"
    }
   },
   "source": [
    "!pip install --upgrade pami"
   ],
   "outputs": [
    {
     "name": "stdout",
     "output_type": "stream",
     "text": [
      "zsh:1: command not found: pip\r\n"
     ]
    }
   ],
   "execution_count": 1
  },
  {
   "cell_type": "markdown",
   "source": [
    "## Download the Georeferenced Transactional Database"
   ],
   "metadata": {
    "id": "Y9ourtvMGJs6"
   },
   "id": "Y9ourtvMGJs6"
  },
  {
   "cell_type": "code",
   "source": "!wget -nc https://web-ext.u-aizu.ac.jp/~udayrage/datasets/spatioTransactionalDatabases/spatiotransactional_T10I4D100K.csv",
   "metadata": {
    "id": "G2bQKEXvGPAe",
    "colab": {
     "base_uri": "https://localhost:8080/"
    },
    "outputId": "cb2fb0f4-e8ea-4c8e-8482-0fc619c18ce1",
    "ExecuteTime": {
     "end_time": "2025-06-16T15:19:51.736794Z",
     "start_time": "2025-06-16T15:19:51.612632Z"
    }
   },
   "id": "G2bQKEXvGPAe",
   "outputs": [
    {
     "name": "stdout",
     "output_type": "stream",
     "text": [
      "File ‘spatiotransactional_T10I4D100K.csv’ already there; not retrieving.\r\n",
      "\r\n"
     ]
    }
   ],
   "execution_count": 2
  },
  {
   "cell_type": "markdown",
   "source": [
    "## Download the Georeferenced Temporal Database"
   ],
   "metadata": {
    "id": "8QbB8T7-GPlK"
   },
   "id": "8QbB8T7-GPlK"
  },
  {
   "cell_type": "code",
   "source": [
    "!wget -nc https://web-ext.u-aizu.ac.jp/~udayrage/datasets/spatioTemporalDatabases/spatiotemporal_T10I4D100K.csv"
   ],
   "metadata": {
    "colab": {
     "base_uri": "https://localhost:8080/"
    },
    "id": "ST1Bs7c7GRz2",
    "outputId": "9522cc19-7730-441a-dc61-facf0f8f766f",
    "ExecuteTime": {
     "end_time": "2025-06-16T15:19:51.865508Z",
     "start_time": "2025-06-16T15:19:51.745126Z"
    }
   },
   "id": "ST1Bs7c7GRz2",
   "outputs": [
    {
     "name": "stdout",
     "output_type": "stream",
     "text": [
      "File ‘spatiotemporal_T10I4D100K.csv’ already there; not retrieving.\r\n",
      "\r\n"
     ]
    }
   ],
   "execution_count": 3
  },
  {
   "cell_type": "markdown",
   "source": [
    "## Creating the neighborhood file for georeferenced transactional database"
   ],
   "metadata": {
    "id": "5Hhvc0FbG3Ns"
   },
   "id": "5Hhvc0FbG3Ns"
  },
  {
   "cell_type": "markdown",
   "source": [
    "### Generic\n",
    "\n",
    "\n",
    "\n",
    "```python\n",
    "from PAMI.extras.neighbors import findNeighboursUsingEuclidean as db\n",
    "  \n",
    "obj = db.findNeighboursUsingEuclidean(\n",
    "    iFile='inputFileName',\n",
    "    maxDist=maxEucledianDistance,\n",
    "    sep='\\t')\n",
    "obj.create()\n",
    "obj.save(oFile='outputFileName',)\n",
    "#read the generated transactions into a dataframe\n",
    "neighboringItems=obj.getNeighboringInformation()[link text](https://)\n",
    "#stats\n",
    "print('Runtime: ' + str(obj.getRuntime()))\n",
    "print('Memory (RSS): ' + str(obj.getMemoryRSS()))\n",
    "print('Memory (USS): ' + str(obj.getMemoryUSS()))\n",
    "```"
   ],
   "metadata": {
    "id": "rFj7V6SRHBjd"
   },
   "id": "rFj7V6SRHBjd"
  },
  {
   "cell_type": "markdown",
   "source": [
    "### Example 1"
   ],
   "metadata": {
    "id": "ANeb6Ty3QEuZ"
   },
   "id": "ANeb6Ty3QEuZ"
  },
  {
   "cell_type": "code",
   "source": [
    "from PAMI.extras.neighbours import FindNeighboursUsingEuclidean as db\n",
    "\n",
    "obj = db.FindNeighboursUsingEuclidean(\n",
    "    iFile='spatiotransactional_T10I4D100K.csv',\n",
    "    maxDist=1000,\n",
    "    sep=', ')\n",
    "obj.create()\n",
    "obj.save(oFile='neighbors.txt',)\n",
    "#read the generated transactions into a dataframe\n",
    "neighboringItems=obj.getNeighboringInformationAsDataFrame()\n",
    "#stats\n",
    "print('Runtime: ' + str(obj.getRuntime()))\n",
    "print('Memory (RSS): ' + str(obj.getMemoryRSS()))\n",
    "print('Memory (USS): ' + str(obj.getMemoryUSS()))"
   ],
   "metadata": {
    "id": "6gT5ievFG3oz",
    "ExecuteTime": {
     "end_time": "2025-06-16T15:19:52.809310Z",
     "start_time": "2025-06-16T15:19:51.872845Z"
    }
   },
   "id": "6gT5ievFG3oz",
   "outputs": [
    {
     "name": "stdout",
     "output_type": "stream",
     "text": [
      "Number of points: 833\n",
      "Number of neighbors: 693056\n"
     ]
    },
    {
     "name": "stderr",
     "output_type": "stream",
     "text": [
      "100%|██████████| 833/833 [00:00<00:00, 3748.29it/s]"
     ]
    },
    {
     "name": "stdout",
     "output_type": "stream",
     "text": [
      "Runtime: 0.47449612617492676\n",
      "Memory (RSS): 149635072\n",
      "Memory (USS): 90767360\n"
     ]
    },
    {
     "name": "stderr",
     "output_type": "stream",
     "text": [
      "\n"
     ]
    }
   ],
   "execution_count": 4
  },
  {
   "cell_type": "markdown",
   "source": [
    "## Discovering Georeferenced Frequent Patterns\n"
   ],
   "metadata": {
    "id": "bs8oDMSqPp4N"
   },
   "id": "bs8oDMSqPp4N"
  },
  {
   "cell_type": "markdown",
   "source": [
    "### Generic\n",
    "\n",
    "\n",
    "```python\n",
    "from PAMI.georeferencedFrequentPattern.basic import FSPGrowth as alg\n",
    "\n",
    "obj = alg.FSPGrowth(\"inputFile\",\n",
    "        \"neighborhoodFile\", minimumSupportValue, '\\t')\n",
    "\n",
    "obj.mine()\n",
    "obj.save('outputFileName')\n",
    "\n",
    "# Retrieve the patterns as a DataFrame\n",
    "GFPs = obj.getPatternsAsDataFrame()\n",
    "\n",
    "# Display summary information\n",
    "print('#Patterns: ' + str(len(GFPs)))\n",
    "print('Runtime: ' + str(obj.getRuntime()))\n",
    "print('Memory (RSS): ' + str(obj.getMemoryRSS()))\n",
    "print('Memory (USS): ' + str(obj.getMemoryUSS()))\n",
    "```\n",
    "\n"
   ],
   "metadata": {
    "id": "HUD_1cySPtie"
   },
   "id": "HUD_1cySPtie"
  },
  {
   "cell_type": "markdown",
   "source": [
    "### Example 2"
   ],
   "metadata": {
    "id": "HND4Z97XP88J"
   },
   "id": "HND4Z97XP88J"
  },
  {
   "cell_type": "code",
   "source": [
    "from PAMI.georeferencedFrequentPattern.basic import FSPGrowth as alg\n",
    "\n",
    "obj = alg.FSPGrowth(\"spatiotransactional_T10I4D100K.csv\",\n",
    "        \"neighbors.txt\", 1500, '\\t')\n",
    "\n",
    "obj.mine()\n",
    "obj.save('georeferencedFrequentPatterns.txt')\n",
    "\n",
    "# Retrieve the patterns as a DataFrame\n",
    "GFPs = obj.getPatternsAsDataFrame()\n",
    "\n",
    "# Display summary information\n",
    "print('#Patterns: ' + str(len(GFPs)))\n",
    "print('Runtime: ' + str(obj.getRuntime()))\n",
    "print('Memory (RSS): ' + str(obj.getMemoryRSS()))\n",
    "print('Memory (USS): ' + str(obj.getMemoryUSS()))"
   ],
   "metadata": {
    "id": "YNd27OpuPs-q",
    "ExecuteTime": {
     "end_time": "2025-06-16T15:20:36.414979Z",
     "start_time": "2025-06-16T15:19:52.830367Z"
    }
   },
   "id": "YNd27OpuPs-q",
   "outputs": [
    {
     "name": "stdout",
     "output_type": "stream",
     "text": [
      "100000 833\n",
      "Frequent Spatial Patterns successfully generated using FSPGrowth\n",
      "#Patterns: 0\n",
      "Runtime: 43.544142961502075\n",
      "Memory (RSS): 223264768\n",
      "Memory (USS): 200818688\n"
     ]
    }
   ],
   "execution_count": 5
  },
  {
   "cell_type": "markdown",
   "source": [
    "## Discovering Georeferenced Periodic-Frequent Patterns"
   ],
   "metadata": {
    "id": "V97DeMHHQJUE"
   },
   "id": "V97DeMHHQJUE"
  },
  {
   "cell_type": "markdown",
   "source": [
    "### Generic\n",
    "\n",
    "\n",
    "\n",
    "```python\n",
    "from PAMI.geoReferencedPeriodicFrequentPattern.basic\n",
    "    import GPFPMiner  as alg\n",
    "\n",
    "obj = alg.GPFPMiner(\"inputTemporalDatabaseFile\",\n",
    "        \"neighborhoodFile\", minimumSupportCount, maximumPeriodicityCount '\\t')\n",
    "\n",
    "obj.mine()\n",
    "obj.save('outputFileName')\n",
    "\n",
    "periodicFrequentPatternsDF= obj.getPatternsAsDataFrame()  \n",
    "print('Total No of patterns: ' + str(periodicFrequentPatternsDF))  \n",
    "print('Runtime: ' + str(obj.getRuntime())) #measure the runtime\n",
    "\n",
    "print('Memory (RSS): ' + str(obj.getMemoryRSS()))\n",
    "print('Memory (USS): ' + str(obj.getMemoryUSS()))\n",
    "```\n",
    "\n"
   ],
   "metadata": {
    "id": "rgEcixRRQTeY"
   },
   "id": "rgEcixRRQTeY"
  },
  {
   "cell_type": "markdown",
   "source": [
    "### Example 3"
   ],
   "metadata": {
    "id": "Za844l9TQm3g"
   },
   "id": "Za844l9TQm3g"
  },
  {
   "cell_type": "code",
   "source": [
    "from PAMI.geoReferencedPeriodicFrequentPattern.basic import GPFPMiner  as alg\n",
    "\n",
    "obj = alg.GPFPMiner(\"spatiotemporal_T10I4D100K.csv\",\n",
    "        \"neighbors.txt\", 1500, 500, '\\t')\n",
    "\n",
    "obj.mine()\n",
    "obj.save('georeferencedPeriodicFrequentPatterns.txt')\n",
    "\n",
    "periodicFrequentPatternsDF= obj.getPatternsAsDataFrame()\n",
    "print('Total No of patterns: ' + str(periodicFrequentPatternsDF))\n",
    "print('Runtime: ' + str(obj.getRuntime())) #measure the runtime\n",
    "\n",
    "print('Memory (RSS): ' + str(obj.getMemoryRSS()))\n",
    "print('Memory (USS): ' + str(obj.getMemoryUSS()))"
   ],
   "metadata": {
    "id": "LzaXuBeqQTWp",
    "ExecuteTime": {
     "end_time": "2025-06-16T15:21:00.539625Z",
     "start_time": "2025-06-16T15:21:00.040139Z"
    }
   },
   "id": "LzaXuBeqQTWp",
   "outputs": [
    {
     "name": "stdout",
     "output_type": "stream",
     "text": [
      "Spatial Periodic Frequent patterns were generated successfully using SpatialEclat algorithm\n",
      "Total No of patterns:       Patterns  Support  Period\n",
      "0    (49 93)\\t     7828     113\n",
      "1    (47 23)\\t     7057     133\n",
      "2    (73 84)\\t     6810     146\n",
      "3     (4 15)\\t     6265     112\n",
      "4    (39 24)\\t     6180     180\n",
      "..         ...      ...     ...\n",
      "209  (70 61)\\t     1531     390\n",
      "210  (15 37)\\t     1525     486\n",
      "211   (43 1)\\t     1523     496\n",
      "212  (22 83)\\t     1518     461\n",
      "213   (40 3)\\t     1516     483\n",
      "\n",
      "[214 rows x 3 columns]\n",
      "Runtime: 0.43216419219970703\n",
      "Memory (RSS): 182779904\n",
      "Memory (USS): 173785088\n"
     ]
    }
   ],
   "execution_count": 7
  },
  {
   "cell_type": "code",
   "source": [],
   "metadata": {
    "id": "SR0NqevZQS8S"
   },
   "id": "SR0NqevZQS8S",
   "execution_count": null,
   "outputs": []
  }
 ],
 "metadata": {
  "kernelspec": {
   "display_name": "Python 3",
   "language": "python",
   "name": "python3"
  },
  "language_info": {
   "codemirror_mode": {
    "name": "ipython",
    "version": 2
   },
   "file_extension": ".py",
   "mimetype": "text/x-python",
   "name": "python",
   "nbconvert_exporter": "python",
   "pygments_lexer": "ipython2",
   "version": "2.7.6"
  },
  "colab": {
   "provenance": [],
   "include_colab_link": true
  }
 },
 "nbformat": 4,
 "nbformat_minor": 5
}
