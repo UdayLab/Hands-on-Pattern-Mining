{
 "cells": [
  {
   "cell_type": "code",
   "execution_count": null,
   "id": "initial_id",
   "metadata": {
    "collapsed": true
   },
   "outputs": [],
   "source": [
    ""
   ]
  },
  {
   "metadata": {},
   "cell_type": "markdown",
   "source": "# Chapter 15:  Knowledge Discovery in Uncertain Databases",
   "id": "e9db9b872f27c70b"
  },
  {
   "metadata": {
    "ExecuteTime": {
     "end_time": "2025-06-17T00:13:27.432688Z",
     "start_time": "2025-06-17T00:13:27.350964Z"
    }
   },
   "cell_type": "code",
   "source": [
    "from PAMI.extras.syntheticDataGenerator import UncertainTransactionalDatabase as db\n",
    "\n",
    "obj = db.UncertainTransactionalDatabase(\n",
    "databaseSize=100000,\n",
    "avgItemsPerTransaction=10,\n",
    "numItems=1000,\n",
    "sep=\n",
    "'\\t'\n",
    ")\n",
    "obj.create()\n",
    "obj.save('uncertainTDB.csv')\n",
    "#readthegeneratedtransactionsintoadataframe\n",
    "transactionalDataFrame=obj.getTransactions()\n",
    "#stats\n",
    "print('Runtime:' + str(obj.getRuntime()))\n",
    "print('Memory (RSS):' + str(obj.getMemoryRSS()))\n",
    "print('Memory (USS):' + str(obj.getMemoryUSS()))"
   ],
   "id": "794e188ab8e46bce",
   "outputs": [
    {
     "ename": "ImportError",
     "evalue": "cannot import name 'UncertainTransactionalDatabase' from 'PAMI.extras.syntheticDataGenerator' (/Users/tarunsreepada/PycharmProjects/PAMI/PAMI/extras/syntheticDataGenerator/__init__.py)",
     "output_type": "error",
     "traceback": [
      "\u001B[31m---------------------------------------------------------------------------\u001B[39m",
      "\u001B[31mImportError\u001B[39m                               Traceback (most recent call last)",
      "\u001B[36mCell\u001B[39m\u001B[36m \u001B[39m\u001B[32mIn[1]\u001B[39m\u001B[32m, line 1\u001B[39m\n\u001B[32m----> \u001B[39m\u001B[32m1\u001B[39m \u001B[38;5;28;01mfrom\u001B[39;00m\u001B[38;5;250m \u001B[39m\u001B[34;01mPAMI\u001B[39;00m\u001B[34;01m.\u001B[39;00m\u001B[34;01mextras\u001B[39;00m\u001B[34;01m.\u001B[39;00m\u001B[34;01msyntheticDataGenerator\u001B[39;00m\u001B[38;5;250m \u001B[39m\u001B[38;5;28;01mimport\u001B[39;00m UncertainTransactionalDatabase \u001B[38;5;28;01mas\u001B[39;00m db\n\u001B[32m      3\u001B[39m obj = db.UncertainTransactionalDatabase(\n\u001B[32m      4\u001B[39m databaseSize=\u001B[32m100000\u001B[39m,\n\u001B[32m      5\u001B[39m avgItemsPerTransaction=\u001B[32m10\u001B[39m,\n\u001B[32m   (...)\u001B[39m\u001B[32m      8\u001B[39m \u001B[33m'\u001B[39m\u001B[38;5;130;01m\\t\u001B[39;00m\u001B[33m'\u001B[39m\n\u001B[32m      9\u001B[39m )\n\u001B[32m     10\u001B[39m obj.create()\n",
      "\u001B[31mImportError\u001B[39m: cannot import name 'UncertainTransactionalDatabase' from 'PAMI.extras.syntheticDataGenerator' (/Users/tarunsreepada/PycharmProjects/PAMI/PAMI/extras/syntheticDataGenerator/__init__.py)"
     ]
    }
   ],
   "execution_count": 1
  },
  {
   "metadata": {
    "ExecuteTime": {
     "end_time": "2025-06-17T00:17:37.806908Z",
     "start_time": "2025-06-17T00:17:37.325235Z"
    }
   },
   "cell_type": "code",
   "source": [
    "from PAMI.extras.convert import DF2DB as alg\n",
    "import pandas as pd\n",
    "import numpy as np\n",
    "\n",
    "# Create a 100x4 DataFrame with random float values in [0, 1)\n",
    "data = np.random.uniform(0, 1, size=(100, 4))\n",
    "dataFrame = pd.DataFrame(data, columns=['Item1', 'Item2', 'Item3', 'Item4'])\n",
    "\n",
    "# Convert the DataFrame to an uncertain transactional database\n",
    "# using a threshold: keep values >= 0.6\n",
    "obj = alg.DF2DB(dataFrame)\n",
    "obj.convert2UncertainTransactionalDatabase(\n",
    "    oFile='UTDB.csv',\n",
    "    condition='>=',\n",
    "    thresholdValue=0.6\n",
    ")\n",
    "\n",
    "\n",
    "\n",
    "# Print runtime and memory usage statistics\n",
    "print('Runtime:      ', obj.getRuntime())\n",
    "print('Memory (RSS):', obj.getMemoryRSS())\n",
    "print('Memory (USS):', obj.getMemoryUSS())\n"
   ],
   "id": "266e79839586665c",
   "outputs": [
    {
     "name": "stdout",
     "output_type": "stream",
     "text": [
      "Runtime:       0.0\n",
      "Memory (RSS): 0.0\n",
      "Memory (USS): 0.0\n"
     ]
    }
   ],
   "execution_count": 2
  },
  {
   "metadata": {
    "ExecuteTime": {
     "end_time": "2025-06-17T00:24:12.258499Z",
     "start_time": "2025-06-17T00:24:11.335605Z"
    }
   },
   "cell_type": "code",
   "source": [
    "from PAMI.extras.dbStats import \\\n",
    "UncertainTransactionalDatabase as stat\n",
    "#Loadtheuncertaintransactionaldatabase\n",
    "obj = stat.UncertainTransactionalDatabase(\"UTDB.csv\")\n",
    "#Runthestatisticsgeneration\n",
    "obj.run()\n",
    "#Printthecalculatedstatistics\n",
    "obj.printStats()\n",
    "#Plotgraphicalrepresentationsofthestatistics\n",
    "obj.plotGraphs()"
   ],
   "id": "8b7c73972d8b1923",
   "outputs": [
    {
     "name": "stdout",
     "output_type": "stream",
     "text": [
      "Database size (total no of transactions) : 84\n",
      "Number of items : 4\n",
      "Minimum Transaction Size : 1\n",
      "Average Transaction Size : 1.8095238095238095\n",
      "Maximum Transaction Size : 4\n",
      "Standard Deviation Transaction Size : 0.7939681905015746\n",
      "Variance in Transaction Sizes : 0.6379804934021801\n",
      "Sparsity : 0.5476190476190477\n"
     ]
    },
    {
     "ename": "TypeError",
     "evalue": "unsupported operand type(s) for /: 'str' and 'int'",
     "output_type": "error",
     "traceback": [
      "\u001B[31m---------------------------------------------------------------------------\u001B[39m",
      "\u001B[31mTypeError\u001B[39m                                 Traceback (most recent call last)",
      "\u001B[36mCell\u001B[39m\u001B[36m \u001B[39m\u001B[32mIn[3]\u001B[39m\u001B[32m, line 10\u001B[39m\n\u001B[32m      8\u001B[39m obj.printStats()\n\u001B[32m      9\u001B[39m \u001B[38;5;66;03m#Plotgraphicalrepresentationsofthestatistics\u001B[39;00m\n\u001B[32m---> \u001B[39m\u001B[32m10\u001B[39m \u001B[43mobj\u001B[49m\u001B[43m.\u001B[49m\u001B[43mplotGraphs\u001B[49m\u001B[43m(\u001B[49m\u001B[43m)\u001B[49m\n",
      "\u001B[36mFile \u001B[39m\u001B[32m~/PycharmProjects/PAMI/PAMI/extras/dbStats/UncertainTransactionalDatabase.py:323\u001B[39m, in \u001B[36mUncertainTransactionalDatabase.plotGraphs\u001B[39m\u001B[34m(self)\u001B[39m\n\u001B[32m    321\u001B[39m itemFrequencies = \u001B[38;5;28mself\u001B[39m.getFrequenciesInRange()\n\u001B[32m    322\u001B[39m transactionLength = \u001B[38;5;28mself\u001B[39m.getTransanctionalLengthDistribution()\n\u001B[32m--> \u001B[39m\u001B[32m323\u001B[39m \u001B[43mplt\u001B[49m\u001B[43m.\u001B[49m\u001B[43mplotLineGraphFromDictionary\u001B[49m\u001B[43m(\u001B[49m\u001B[43mitemFrequencies\u001B[49m\u001B[43m,\u001B[49m\u001B[43m \u001B[49m\u001B[32;43m100\u001B[39;49m\u001B[43m,\u001B[49m\u001B[43m \u001B[49m\u001B[33;43m'\u001B[39;49m\u001B[33;43mFrequency\u001B[39;49m\u001B[33;43m'\u001B[39;49m\u001B[43m,\u001B[49m\u001B[43m \u001B[49m\u001B[33;43m'\u001B[39;49m\u001B[33;43mNo of items\u001B[39;49m\u001B[33;43m'\u001B[39;49m\u001B[43m,\u001B[49m\u001B[43m \u001B[49m\u001B[33;43m'\u001B[39;49m\u001B[33;43mfrequency\u001B[39;49m\u001B[33;43m'\u001B[39;49m\u001B[43m)\u001B[49m\n\u001B[32m    324\u001B[39m plt.plotLineGraphFromDictionary(transactionLength, \u001B[32m100\u001B[39m, \u001B[33m'\u001B[39m\u001B[33mtransaction length\u001B[39m\u001B[33m'\u001B[39m, \u001B[33m'\u001B[39m\u001B[33mtransaction length\u001B[39m\u001B[33m'\u001B[39m, \u001B[33m'\u001B[39m\u001B[33mfrequency\u001B[39m\u001B[33m'\u001B[39m)\n",
      "\u001B[36mFile \u001B[39m\u001B[32m~/PycharmProjects/PAMI/PAMI/extras/graph/plotLineGraphFromDictionary.py:77\u001B[39m, in \u001B[36mplotLineGraphFromDictionary.__init__\u001B[39m\u001B[34m(self, data, end, start, title, xlabel, ylabel)\u001B[39m\n\u001B[32m     61\u001B[39m \u001B[38;5;250m\u001B[39m\u001B[33;03m\"\"\"\u001B[39;00m\n\u001B[32m     62\u001B[39m \u001B[33;03mdraw line graph. Plot the input data key as x and value as y\u001B[39;00m\n\u001B[32m     63\u001B[39m \n\u001B[32m   (...)\u001B[39m\u001B[32m     74\u001B[39m \u001B[33;03m:return: None\u001B[39;00m\n\u001B[32m     75\u001B[39m \u001B[33;03m\"\"\"\u001B[39;00m\n\u001B[32m     76\u001B[39m end = \u001B[38;5;28mint\u001B[39m(\u001B[38;5;28mlen\u001B[39m(data) * end / \u001B[32m100\u001B[39m)\n\u001B[32m---> \u001B[39m\u001B[32m77\u001B[39m start = \u001B[38;5;28mint\u001B[39m(\u001B[38;5;28;43mlen\u001B[39;49m\u001B[43m(\u001B[49m\u001B[43mdata\u001B[49m\u001B[43m)\u001B[49m\u001B[43m \u001B[49m\u001B[43m*\u001B[49m\u001B[43m \u001B[49m\u001B[43mstart\u001B[49m\u001B[43m \u001B[49m\u001B[43m/\u001B[49m\u001B[43m \u001B[49m\u001B[32;43m100\u001B[39;49m)\n\u001B[32m     78\u001B[39m x = \u001B[38;5;28mlist\u001B[39m(\u001B[38;5;28mrange\u001B[39m(\u001B[38;5;28mlen\u001B[39m(data)))\n\u001B[32m     79\u001B[39m y = \u001B[38;5;28mlist\u001B[39m(\u001B[38;5;28mtuple\u001B[39m(data.values())[start:end])\n",
      "\u001B[31mTypeError\u001B[39m: unsupported operand type(s) for /: 'str' and 'int'"
     ]
    }
   ],
   "execution_count": 3
  },
  {
   "metadata": {
    "ExecuteTime": {
     "end_time": "2025-06-17T00:27:11.410829Z",
     "start_time": "2025-06-17T00:27:11.343648Z"
    }
   },
   "cell_type": "code",
   "source": [
    "import PAMI.uncertainFrequentPattern.basic.TubeP as alg\n",
    "\n",
    "# Input file and minimum support count for frequent pattern mining\n",
    "inputFile = 'UTDB.csv'\n",
    "minSupport = 100\n",
    "\n",
    "# Create an instance of the TubeP algorithm\n",
    "obj = alg.TUFP(iFile=inputFile, minSup=minSupport, sep='\\t')\n",
    "\n",
    "# Mine frequent patterns\n",
    "obj.mine()\n",
    "\n",
    "# Save the discovered frequent patterns to a file\n",
    "obj.save('frequentPatterns.txt')\n",
    "\n",
    "# Convert the frequent patterns into a DataFrame\n",
    "frequentPatternsDF = obj.getPatternsAsDataFrame()\n",
    "\n",
    "# Display the number of frequent patterns and resource usage\n",
    "print('#Patterns: ' + str(len(frequentPatternsDF)))\n",
    "print('Runtime:   ' + str(obj.getRuntime()))\n"
   ],
   "id": "1775d50bcb12fb41",
   "outputs": [
    {
     "ename": "ValueError",
     "evalue": "substring not found",
     "output_type": "error",
     "traceback": [
      "\u001B[31m---------------------------------------------------------------------------\u001B[39m",
      "\u001B[31mValueError\u001B[39m                                Traceback (most recent call last)",
      "\u001B[36mCell\u001B[39m\u001B[36m \u001B[39m\u001B[32mIn[9]\u001B[39m\u001B[32m, line 11\u001B[39m\n\u001B[32m      8\u001B[39m obj = alg.TUFP(iFile=inputFile, minSup=minSupport, sep=\u001B[33m'\u001B[39m\u001B[38;5;130;01m\\t\u001B[39;00m\u001B[33m'\u001B[39m)\n\u001B[32m     10\u001B[39m \u001B[38;5;66;03m# Mine frequent patterns\u001B[39;00m\n\u001B[32m---> \u001B[39m\u001B[32m11\u001B[39m \u001B[43mobj\u001B[49m\u001B[43m.\u001B[49m\u001B[43mmine\u001B[49m\u001B[43m(\u001B[49m\u001B[43m)\u001B[49m\n\u001B[32m     13\u001B[39m \u001B[38;5;66;03m# Save the discovered frequent patterns to a file\u001B[39;00m\n\u001B[32m     14\u001B[39m obj.save(\u001B[33m'\u001B[39m\u001B[33mfrequentPatterns.txt\u001B[39m\u001B[33m'\u001B[39m)\n",
      "\u001B[36mFile \u001B[39m\u001B[32m~/PycharmProjects/PAMI/PAMI/uncertainFrequentPattern/basic/TubeP.py:440\u001B[39m, in \u001B[36mTUFP.mine\u001B[39m\u001B[34m(self)\u001B[39m\n\u001B[32m    438\u001B[39m \u001B[38;5;28;01mglobal\u001B[39;00m _minSup\n\u001B[32m    439\u001B[39m \u001B[38;5;28mself\u001B[39m._startTime = _ab._time.time()\n\u001B[32m--> \u001B[39m\u001B[32m440\u001B[39m \u001B[38;5;28;43mself\u001B[39;49m\u001B[43m.\u001B[49m\u001B[43m_creatingItemSets\u001B[49m\u001B[43m(\u001B[49m\u001B[43m)\u001B[49m\n\u001B[32m    441\u001B[39m \u001B[38;5;28mself\u001B[39m._minSup = \u001B[38;5;28mself\u001B[39m._convert(\u001B[38;5;28mself\u001B[39m._minSup)\n\u001B[32m    442\u001B[39m _minSup = \u001B[38;5;28mself\u001B[39m._minSup\n",
      "\u001B[36mFile \u001B[39m\u001B[32m~/PycharmProjects/PAMI/PAMI/uncertainFrequentPattern/basic/TubeP.py:294\u001B[39m, in \u001B[36mTUFP._creatingItemSets\u001B[39m\u001B[34m(self)\u001B[39m\n\u001B[32m    292\u001B[39m tr = []\n\u001B[32m    293\u001B[39m \u001B[38;5;28;01mfor\u001B[39;00m i \u001B[38;5;129;01min\u001B[39;00m temp:\n\u001B[32m--> \u001B[39m\u001B[32m294\u001B[39m     i1 = \u001B[43mi\u001B[49m\u001B[43m.\u001B[49m\u001B[43mindex\u001B[49m\u001B[43m(\u001B[49m\u001B[33;43m'\u001B[39;49m\u001B[33;43m(\u001B[39;49m\u001B[33;43m'\u001B[39;49m\u001B[43m)\u001B[49m\n\u001B[32m    295\u001B[39m     i2 = i.index(\u001B[33m'\u001B[39m\u001B[33m)\u001B[39m\u001B[33m'\u001B[39m)\n\u001B[32m    296\u001B[39m     item = i[\u001B[32m0\u001B[39m:i1]\n",
      "\u001B[31mValueError\u001B[39m: substring not found"
     ]
    }
   ],
   "execution_count": 9
  },
  {
   "metadata": {},
   "cell_type": "code",
   "outputs": [],
   "execution_count": null,
   "source": "",
   "id": "83aab485a695b70a"
  }
 ],
 "metadata": {
  "kernelspec": {
   "display_name": "Python 3",
   "language": "python",
   "name": "python3"
  },
  "language_info": {
   "codemirror_mode": {
    "name": "ipython",
    "version": 2
   },
   "file_extension": ".py",
   "mimetype": "text/x-python",
   "name": "python",
   "nbconvert_exporter": "python",
   "pygments_lexer": "ipython2",
   "version": "2.7.6"
  }
 },
 "nbformat": 4,
 "nbformat_minor": 5
}
