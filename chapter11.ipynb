{
 "cells": [
  {
   "metadata": {},
   "cell_type": "markdown",
   "source": "# Chapter 11: Sequence Databases: Representation, Creation, and Statistics",
   "id": "5cc87d28936a1d21"
  },
  {
   "cell_type": "code",
   "id": "initial_id",
   "metadata": {
    "collapsed": true,
    "ExecuteTime": {
     "end_time": "2025-06-16T23:44:41.428343Z",
     "start_time": "2025-06-16T23:44:40.984824Z"
    }
   },
   "source": [
    "from PAMI.extras.syntheticDataGenerator import SequentialDatabase as db\n",
    "\n",
    "# Create synthetic sequential database\n",
    "obj = db.SequentialDatabase(\n",
    "\n",
    "    # databaseSize=100000,\n",
    "    # numItems=1000,\n",
    "    # avgItemsPerPatterns=10,\n",
    "    # avgPatternsPerSequence=10,\n",
    "    # sep='\\t'\n",
    ")\n",
    "\n",
    "\n",
    "# def __init__(self, numSeq, avgItemsetPerSeq, avgItemsPerItemset, numItems, maxItem=0, maxItemset=0,\n",
    "#              seqSep=\"-1\") -> None\n",
    "\n",
    "# Generate and save the data\n",
    "obj.create()\n",
    "obj.save('sequentialDatabase.csv')\n",
    "\n",
    "# Read the generated sequences into a DataFrame\n",
    "sequentialDataFrame = obj.getTransactions()\n",
    "\n",
    "# Print performance stats\n",
    "print('Runtime:       ' + str(obj.getRuntime()))\n",
    "print('Memory (RSS):  ' + str(obj.getMemoryRSS()))\n",
    "print('Memory (USS):  ' + str(obj.getMemoryUSS()))\n"
   ],
   "outputs": [
    {
     "ename": "TypeError",
     "evalue": "SequentialDatabase.__init__() got an unexpected keyword argument 'databaseSize'",
     "output_type": "error",
     "traceback": [
      "\u001B[31m---------------------------------------------------------------------------\u001B[39m",
      "\u001B[31mTypeError\u001B[39m                                 Traceback (most recent call last)",
      "\u001B[36mCell\u001B[39m\u001B[36m \u001B[39m\u001B[32mIn[1]\u001B[39m\u001B[32m, line 4\u001B[39m\n\u001B[32m      1\u001B[39m \u001B[38;5;28;01mfrom\u001B[39;00m\u001B[38;5;250m \u001B[39m\u001B[34;01mPAMI\u001B[39;00m\u001B[34;01m.\u001B[39;00m\u001B[34;01mextras\u001B[39;00m\u001B[34;01m.\u001B[39;00m\u001B[34;01msyntheticDataGenerator\u001B[39;00m\u001B[38;5;250m \u001B[39m\u001B[38;5;28;01mimport\u001B[39;00m SequentialDatabase \u001B[38;5;28;01mas\u001B[39;00m db\n\u001B[32m      3\u001B[39m \u001B[38;5;66;03m# Create synthetic sequential database\u001B[39;00m\n\u001B[32m----> \u001B[39m\u001B[32m4\u001B[39m obj = \u001B[43mdb\u001B[49m\u001B[43m.\u001B[49m\u001B[43mSequentialDatabase\u001B[49m\u001B[43m(\u001B[49m\n\u001B[32m      5\u001B[39m \u001B[43m    \u001B[49m\u001B[43mdatabaseSize\u001B[49m\u001B[43m=\u001B[49m\u001B[32;43m100000\u001B[39;49m\u001B[43m,\u001B[49m\n\u001B[32m      6\u001B[39m \u001B[43m    \u001B[49m\u001B[43mnumItems\u001B[49m\u001B[43m=\u001B[49m\u001B[32;43m1000\u001B[39;49m\u001B[43m,\u001B[49m\n\u001B[32m      7\u001B[39m \u001B[43m    \u001B[49m\u001B[43mavgItemsPerPatterns\u001B[49m\u001B[43m=\u001B[49m\u001B[32;43m10\u001B[39;49m\u001B[43m,\u001B[49m\n\u001B[32m      8\u001B[39m \u001B[43m    \u001B[49m\u001B[43mavgPatternsPerSequence\u001B[49m\u001B[43m=\u001B[49m\u001B[32;43m10\u001B[39;49m\u001B[43m,\u001B[49m\n\u001B[32m      9\u001B[39m \u001B[43m    \u001B[49m\u001B[43msep\u001B[49m\u001B[43m=\u001B[49m\u001B[33;43m'\u001B[39;49m\u001B[38;5;130;43;01m\\t\u001B[39;49;00m\u001B[33;43m'\u001B[39;49m\n\u001B[32m     10\u001B[39m \u001B[43m)\u001B[49m\n\u001B[32m     12\u001B[39m \u001B[38;5;66;03m# Generate and save the data\u001B[39;00m\n\u001B[32m     13\u001B[39m obj.create()\n",
      "\u001B[31mTypeError\u001B[39m: SequentialDatabase.__init__() got an unexpected keyword argument 'databaseSize'"
     ]
    }
   ],
   "execution_count": 1
  },
  {
   "metadata": {
    "ExecuteTime": {
     "end_time": "2025-06-16T23:52:19.446876Z",
     "start_time": "2025-06-16T23:52:19.407643Z"
    }
   },
   "cell_type": "code",
   "source": [
    "from PAMI.extras.convert import DF2DB as alg\n",
    "import pandas as pd\n",
    "import numpy as np\n",
    "\n",
    "# Generate random data (4 rows, 4 columns)\n",
    "data = np.random.randint(1, 100, size=(4, 4))\n",
    "dataFrame = pd.DataFrame(data, columns=['Item1', 'Item2', 'Item3', 'Item4'])\n",
    "\n",
    "# Generate random customer IDs (1 row, 4 columns → transpose to match 4 rows)\n",
    "customerID = np.random.randint(1, 3, size=(4, 1))  # Changed shape\n",
    "customerIDdataFrame = pd.DataFrame(customerID, columns=['customerID'])\n",
    "\n",
    "# Combine customer ID and item data\n",
    "dataFrame = pd.concat([customerIDdataFrame, dataFrame], axis=1)\n",
    "\n",
    "# Convert DataFrame to database object\n",
    "obj = alg.DF2DB(dataFrame)\n",
    "obj.convert2SequentialDatabase(\n",
    "    sep='\\t',  # Specify the separator for the database\n",
    "    iFile='sequentialDatabase.csv'  # Output file name\n",
    ")"
   ],
   "id": "11433bac627c5e26",
   "outputs": [
    {
     "ename": "AttributeError",
     "evalue": "'DF2DB' object has no attribute 'convert2SequentialDatabase'",
     "output_type": "error",
     "traceback": [
      "\u001B[31m---------------------------------------------------------------------------\u001B[39m",
      "\u001B[31mAttributeError\u001B[39m                            Traceback (most recent call last)",
      "\u001B[36mCell\u001B[39m\u001B[36m \u001B[39m\u001B[32mIn[3]\u001B[39m\u001B[32m, line 18\u001B[39m\n\u001B[32m     16\u001B[39m \u001B[38;5;66;03m# Convert DataFrame to database object\u001B[39;00m\n\u001B[32m     17\u001B[39m obj = alg.DF2DB(dataFrame)\n\u001B[32m---> \u001B[39m\u001B[32m18\u001B[39m \u001B[43mobj\u001B[49m\u001B[43m.\u001B[49m\u001B[43mconvert2SequentialDatabase\u001B[49m(\n\u001B[32m     19\u001B[39m     sep=\u001B[33m'\u001B[39m\u001B[38;5;130;01m\\t\u001B[39;00m\u001B[33m'\u001B[39m,  \u001B[38;5;66;03m# Specify the separator for the database\u001B[39;00m\n\u001B[32m     20\u001B[39m     iFile=\u001B[33m'\u001B[39m\u001B[33msequentialDatabase.csv\u001B[39m\u001B[33m'\u001B[39m  \u001B[38;5;66;03m# Output file name\u001B[39;00m\n\u001B[32m     21\u001B[39m )\n",
      "\u001B[31mAttributeError\u001B[39m: 'DF2DB' object has no attribute 'convert2SequentialDatabase'"
     ]
    }
   ],
   "execution_count": 3
  },
  {
   "metadata": {
    "ExecuteTime": {
     "end_time": "2025-06-16T23:52:41.727101Z",
     "start_time": "2025-06-16T23:52:41.693639Z"
    }
   },
   "cell_type": "code",
   "source": [
    "# 1 from PAMI.extras.stats import SequentialDatabase as stat\n",
    "# 2\n",
    "# 3 obj = stat.SequentialDatabase(\"sequentialDatabase.csv\")\n",
    "# 4 obj.run()\n",
    "# 5 obj.printStats()\n",
    "# 6\n",
    "# 7 obj.plotGraphs()\n",
    "\n",
    "from PAMI.extras.stats import SequentialDatabase as stat\n",
    "\n",
    "obj = stat.SequentialDatabase(\"sequentialDatabase.csv\")\n",
    "obj.run()\n",
    "obj.printStats()\n",
    "obj.plotGraphs()"
   ],
   "id": "aba92deb07ed57fa",
   "outputs": [
    {
     "ename": "ImportError",
     "evalue": "cannot import name 'SequentialDatabase' from 'PAMI.extras.stats' (/Users/tarunsreepada/PycharmProjects/PAMI/PAMI/extras/stats/__init__.py)",
     "output_type": "error",
     "traceback": [
      "\u001B[31m---------------------------------------------------------------------------\u001B[39m",
      "\u001B[31mImportError\u001B[39m                               Traceback (most recent call last)",
      "\u001B[36mCell\u001B[39m\u001B[36m \u001B[39m\u001B[32mIn[4]\u001B[39m\u001B[32m, line 9\u001B[39m\n\u001B[32m      1\u001B[39m \u001B[38;5;66;03m# 1 from PAMI.extras.stats import SequentialDatabase as stat\u001B[39;00m\n\u001B[32m      2\u001B[39m \u001B[38;5;66;03m# 2\u001B[39;00m\n\u001B[32m      3\u001B[39m \u001B[38;5;66;03m# 3 obj = stat.SequentialDatabase(\"sequentialDatabase.csv\")\u001B[39;00m\n\u001B[32m   (...)\u001B[39m\u001B[32m      6\u001B[39m \u001B[38;5;66;03m# 6\u001B[39;00m\n\u001B[32m      7\u001B[39m \u001B[38;5;66;03m# 7 obj.plotGraphs()\u001B[39;00m\n\u001B[32m----> \u001B[39m\u001B[32m9\u001B[39m \u001B[38;5;28;01mfrom\u001B[39;00m\u001B[38;5;250m \u001B[39m\u001B[34;01mPAMI\u001B[39;00m\u001B[34;01m.\u001B[39;00m\u001B[34;01mextras\u001B[39;00m\u001B[34;01m.\u001B[39;00m\u001B[34;01mstats\u001B[39;00m\u001B[38;5;250m \u001B[39m\u001B[38;5;28;01mimport\u001B[39;00m SequentialDatabase \u001B[38;5;28;01mas\u001B[39;00m stat\n\u001B[32m     11\u001B[39m obj = stat.SequentialDatabase(\u001B[33m\"\u001B[39m\u001B[33msequentialDatabase.csv\u001B[39m\u001B[33m\"\u001B[39m)\n\u001B[32m     12\u001B[39m obj.run()\n",
      "\u001B[31mImportError\u001B[39m: cannot import name 'SequentialDatabase' from 'PAMI.extras.stats' (/Users/tarunsreepada/PycharmProjects/PAMI/PAMI/extras/stats/__init__.py)"
     ]
    }
   ],
   "execution_count": 4
  },
  {
   "metadata": {},
   "cell_type": "code",
   "outputs": [],
   "execution_count": null,
   "source": "",
   "id": "c2c2072462771e62"
  }
 ],
 "metadata": {
  "kernelspec": {
   "display_name": "Python 3",
   "language": "python",
   "name": "python3"
  },
  "language_info": {
   "codemirror_mode": {
    "name": "ipython",
    "version": 2
   },
   "file_extension": ".py",
   "mimetype": "text/x-python",
   "name": "python",
   "nbconvert_exporter": "python",
   "pygments_lexer": "ipython2",
   "version": "2.7.6"
  }
 },
 "nbformat": 4,
 "nbformat_minor": 5
}
