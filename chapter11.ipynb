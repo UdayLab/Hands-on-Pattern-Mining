{
  "cells": [
    {
      "cell_type": "markdown",
      "metadata": {
        "id": "view-in-github",
        "colab_type": "text"
      },
      "source": [
        "<a href=\"https://colab.research.google.com/github/UdayLab/Hands-on-Pattern-Mining/blob/main/chapter11.ipynb\" target=\"_parent\"><img src=\"https://colab.research.google.com/assets/colab-badge.svg\" alt=\"Open In Colab\"/></a>"
      ]
    },
    {
      "metadata": {
        "id": "5cc87d28936a1d21"
      },
      "cell_type": "markdown",
      "source": [
        "# Chapter 11: Sequence Databases: Representation, Creation, and Statistics"
      ],
      "id": "5cc87d28936a1d21"
    },
    {
      "cell_type": "code",
      "id": "initial_id",
      "metadata": {
        "collapsed": true,
        "ExecuteTime": {
          "end_time": "2025-06-16T23:44:41.428343Z",
          "start_time": "2025-06-16T23:44:40.984824Z"
        },
        "id": "initial_id",
        "outputId": "d18a70c0-36a4-4aca-c388-d160fb2b7012"
      },
      "source": [
        "from PAMI.extras.syntheticDataGenerator import SequentialDatabase as db\n",
        "\n",
        "# Create synthetic sequential database\n",
        "obj = db.SequentialDatabase(\n",
        "\n",
        "    # databaseSize=100000,\n",
        "    # numItems=1000,\n",
        "    # avgItemsPerPatterns=10,\n",
        "    # avgPatternsPerSequence=10,\n",
        "    # sep='\\t'\n",
        ")\n",
        "\n",
        "\n",
        "# def __init__(self, numSeq, avgItemsetPerSeq, avgItemsPerItemset, numItems, maxItem=0, maxItemset=0,\n",
        "#              seqSep=\"-1\") -> None\n",
        "\n",
        "# Generate and save the data\n",
        "obj.create()\n",
        "obj.save('sequentialDatabase.csv')\n",
        "\n",
        "# Read the generated sequences into a DataFrame\n",
        "sequentialDataFrame = obj.getTransactions()\n",
        "\n",
        "# Print performance stats\n",
        "print('Runtime:       ' + str(obj.getRuntime()))\n",
        "print('Memory (RSS):  ' + str(obj.getMemoryRSS()))\n",
        "print('Memory (USS):  ' + str(obj.getMemoryUSS()))\n"
      ],
      "outputs": [
        {
          "ename": "TypeError",
          "evalue": "SequentialDatabase.__init__() got an unexpected keyword argument 'databaseSize'",
          "output_type": "error",
          "traceback": [
            "\u001b[31m---------------------------------------------------------------------------\u001b[39m",
            "\u001b[31mTypeError\u001b[39m                                 Traceback (most recent call last)",
            "\u001b[36mCell\u001b[39m\u001b[36m \u001b[39m\u001b[32mIn[1]\u001b[39m\u001b[32m, line 4\u001b[39m\n\u001b[32m      1\u001b[39m \u001b[38;5;28;01mfrom\u001b[39;00m\u001b[38;5;250m \u001b[39m\u001b[34;01mPAMI\u001b[39;00m\u001b[34;01m.\u001b[39;00m\u001b[34;01mextras\u001b[39;00m\u001b[34;01m.\u001b[39;00m\u001b[34;01msyntheticDataGenerator\u001b[39;00m\u001b[38;5;250m \u001b[39m\u001b[38;5;28;01mimport\u001b[39;00m SequentialDatabase \u001b[38;5;28;01mas\u001b[39;00m db\n\u001b[32m      3\u001b[39m \u001b[38;5;66;03m# Create synthetic sequential database\u001b[39;00m\n\u001b[32m----> \u001b[39m\u001b[32m4\u001b[39m obj = \u001b[43mdb\u001b[49m\u001b[43m.\u001b[49m\u001b[43mSequentialDatabase\u001b[49m\u001b[43m(\u001b[49m\n\u001b[32m      5\u001b[39m \u001b[43m    \u001b[49m\u001b[43mdatabaseSize\u001b[49m\u001b[43m=\u001b[49m\u001b[32;43m100000\u001b[39;49m\u001b[43m,\u001b[49m\n\u001b[32m      6\u001b[39m \u001b[43m    \u001b[49m\u001b[43mnumItems\u001b[49m\u001b[43m=\u001b[49m\u001b[32;43m1000\u001b[39;49m\u001b[43m,\u001b[49m\n\u001b[32m      7\u001b[39m \u001b[43m    \u001b[49m\u001b[43mavgItemsPerPatterns\u001b[49m\u001b[43m=\u001b[49m\u001b[32;43m10\u001b[39;49m\u001b[43m,\u001b[49m\n\u001b[32m      8\u001b[39m \u001b[43m    \u001b[49m\u001b[43mavgPatternsPerSequence\u001b[49m\u001b[43m=\u001b[49m\u001b[32;43m10\u001b[39;49m\u001b[43m,\u001b[49m\n\u001b[32m      9\u001b[39m \u001b[43m    \u001b[49m\u001b[43msep\u001b[49m\u001b[43m=\u001b[49m\u001b[33;43m'\u001b[39;49m\u001b[38;5;130;43;01m\\t\u001b[39;49;00m\u001b[33;43m'\u001b[39;49m\n\u001b[32m     10\u001b[39m \u001b[43m)\u001b[49m\n\u001b[32m     12\u001b[39m \u001b[38;5;66;03m# Generate and save the data\u001b[39;00m\n\u001b[32m     13\u001b[39m obj.create()\n",
            "\u001b[31mTypeError\u001b[39m: SequentialDatabase.__init__() got an unexpected keyword argument 'databaseSize'"
          ]
        }
      ],
      "execution_count": null
    },
    {
      "metadata": {
        "ExecuteTime": {
          "end_time": "2025-06-16T23:52:19.446876Z",
          "start_time": "2025-06-16T23:52:19.407643Z"
        },
        "id": "11433bac627c5e26",
        "outputId": "5a6e9d73-b629-4f12-b2b3-a2273db25c52"
      },
      "cell_type": "code",
      "source": [
        "from PAMI.extras.convert import DF2DB as alg\n",
        "import pandas as pd\n",
        "import numpy as np\n",
        "\n",
        "# Generate random data (4 rows, 4 columns)\n",
        "data = np.random.randint(1, 100, size=(4, 4))\n",
        "dataFrame = pd.DataFrame(data, columns=['Item1', 'Item2', 'Item3', 'Item4'])\n",
        "\n",
        "# Generate random customer IDs (1 row, 4 columns → transpose to match 4 rows)\n",
        "customerID = np.random.randint(1, 3, size=(4, 1))  # Changed shape\n",
        "customerIDdataFrame = pd.DataFrame(customerID, columns=['customerID'])\n",
        "\n",
        "# Combine customer ID and item data\n",
        "dataFrame = pd.concat([customerIDdataFrame, dataFrame], axis=1)\n",
        "\n",
        "# Convert DataFrame to database object\n",
        "obj = alg.DF2DB(dataFrame)\n",
        "obj.convert2SequentialDatabase(\n",
        "    sep='\\t',  # Specify the separator for the database\n",
        "    iFile='sequentialDatabase.csv'  # Output file name\n",
        ")"
      ],
      "id": "11433bac627c5e26",
      "outputs": [
        {
          "ename": "AttributeError",
          "evalue": "'DF2DB' object has no attribute 'convert2SequentialDatabase'",
          "output_type": "error",
          "traceback": [
            "\u001b[31m---------------------------------------------------------------------------\u001b[39m",
            "\u001b[31mAttributeError\u001b[39m                            Traceback (most recent call last)",
            "\u001b[36mCell\u001b[39m\u001b[36m \u001b[39m\u001b[32mIn[3]\u001b[39m\u001b[32m, line 18\u001b[39m\n\u001b[32m     16\u001b[39m \u001b[38;5;66;03m# Convert DataFrame to database object\u001b[39;00m\n\u001b[32m     17\u001b[39m obj = alg.DF2DB(dataFrame)\n\u001b[32m---> \u001b[39m\u001b[32m18\u001b[39m \u001b[43mobj\u001b[49m\u001b[43m.\u001b[49m\u001b[43mconvert2SequentialDatabase\u001b[49m(\n\u001b[32m     19\u001b[39m     sep=\u001b[33m'\u001b[39m\u001b[38;5;130;01m\\t\u001b[39;00m\u001b[33m'\u001b[39m,  \u001b[38;5;66;03m# Specify the separator for the database\u001b[39;00m\n\u001b[32m     20\u001b[39m     iFile=\u001b[33m'\u001b[39m\u001b[33msequentialDatabase.csv\u001b[39m\u001b[33m'\u001b[39m  \u001b[38;5;66;03m# Output file name\u001b[39;00m\n\u001b[32m     21\u001b[39m )\n",
            "\u001b[31mAttributeError\u001b[39m: 'DF2DB' object has no attribute 'convert2SequentialDatabase'"
          ]
        }
      ],
      "execution_count": null
    },
    {
      "metadata": {
        "ExecuteTime": {
          "end_time": "2025-06-16T23:52:41.727101Z",
          "start_time": "2025-06-16T23:52:41.693639Z"
        },
        "id": "aba92deb07ed57fa",
        "outputId": "9eb29e4d-d51a-4182-d2b6-ea3af150012c"
      },
      "cell_type": "code",
      "source": [
        "# 1 from PAMI.extras.stats import SequentialDatabase as stat\n",
        "# 2\n",
        "# 3 obj = stat.SequentialDatabase(\"sequentialDatabase.csv\")\n",
        "# 4 obj.run()\n",
        "# 5 obj.printStats()\n",
        "# 6\n",
        "# 7 obj.plotGraphs()\n",
        "\n",
        "from PAMI.extras.stats import SequentialDatabase as stat\n",
        "\n",
        "obj = stat.SequentialDatabase(\"sequentialDatabase.csv\")\n",
        "obj.run()\n",
        "obj.printStats()\n",
        "obj.plotGraphs()"
      ],
      "id": "aba92deb07ed57fa",
      "outputs": [
        {
          "ename": "ImportError",
          "evalue": "cannot import name 'SequentialDatabase' from 'PAMI.extras.stats' (/Users/tarunsreepada/PycharmProjects/PAMI/PAMI/extras/stats/__init__.py)",
          "output_type": "error",
          "traceback": [
            "\u001b[31m---------------------------------------------------------------------------\u001b[39m",
            "\u001b[31mImportError\u001b[39m                               Traceback (most recent call last)",
            "\u001b[36mCell\u001b[39m\u001b[36m \u001b[39m\u001b[32mIn[4]\u001b[39m\u001b[32m, line 9\u001b[39m\n\u001b[32m      1\u001b[39m \u001b[38;5;66;03m# 1 from PAMI.extras.stats import SequentialDatabase as stat\u001b[39;00m\n\u001b[32m      2\u001b[39m \u001b[38;5;66;03m# 2\u001b[39;00m\n\u001b[32m      3\u001b[39m \u001b[38;5;66;03m# 3 obj = stat.SequentialDatabase(\"sequentialDatabase.csv\")\u001b[39;00m\n\u001b[32m   (...)\u001b[39m\u001b[32m      6\u001b[39m \u001b[38;5;66;03m# 6\u001b[39;00m\n\u001b[32m      7\u001b[39m \u001b[38;5;66;03m# 7 obj.plotGraphs()\u001b[39;00m\n\u001b[32m----> \u001b[39m\u001b[32m9\u001b[39m \u001b[38;5;28;01mfrom\u001b[39;00m\u001b[38;5;250m \u001b[39m\u001b[34;01mPAMI\u001b[39;00m\u001b[34;01m.\u001b[39;00m\u001b[34;01mextras\u001b[39;00m\u001b[34;01m.\u001b[39;00m\u001b[34;01mstats\u001b[39;00m\u001b[38;5;250m \u001b[39m\u001b[38;5;28;01mimport\u001b[39;00m SequentialDatabase \u001b[38;5;28;01mas\u001b[39;00m stat\n\u001b[32m     11\u001b[39m obj = stat.SequentialDatabase(\u001b[33m\"\u001b[39m\u001b[33msequentialDatabase.csv\u001b[39m\u001b[33m\"\u001b[39m)\n\u001b[32m     12\u001b[39m obj.run()\n",
            "\u001b[31mImportError\u001b[39m: cannot import name 'SequentialDatabase' from 'PAMI.extras.stats' (/Users/tarunsreepada/PycharmProjects/PAMI/PAMI/extras/stats/__init__.py)"
          ]
        }
      ],
      "execution_count": null
    },
    {
      "metadata": {
        "id": "c2c2072462771e62"
      },
      "cell_type": "code",
      "outputs": [],
      "execution_count": null,
      "source": [],
      "id": "c2c2072462771e62"
    }
  ],
  "metadata": {
    "kernelspec": {
      "display_name": "Python 3",
      "language": "python",
      "name": "python3"
    },
    "language_info": {
      "codemirror_mode": {
        "name": "ipython",
        "version": 2
      },
      "file_extension": ".py",
      "mimetype": "text/x-python",
      "name": "python",
      "nbconvert_exporter": "python",
      "pygments_lexer": "ipython2",
      "version": "2.7.6"
    },
    "colab": {
      "provenance": [],
      "include_colab_link": true
    }
  },
  "nbformat": 4,
  "nbformat_minor": 5
}