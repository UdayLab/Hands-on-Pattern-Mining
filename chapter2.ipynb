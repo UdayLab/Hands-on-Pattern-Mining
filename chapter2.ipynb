{
 "cells": [
  {
   "cell_type": "markdown",
   "metadata": {
    "id": "view-in-github",
    "colab_type": "text"
   },
   "source": [
    "<a href=\"https://colab.research.google.com/github/UdayLab/Hands-on-Pattern-Mining/blob/main/chapter2.ipynb\" target=\"_parent\"><img src=\"https://colab.research.google.com/assets/colab-badge.svg\" alt=\"Open In Colab\"/></a>"
   ],
   "id": "c336865688adb822"
  },
  {
   "cell_type": "markdown",
   "source": [
    "# Chapter 2: Handling Big Data - Classification, Storage, and Processing Techniques"
   ],
   "metadata": {
    "id": "1GHrHEuK6lBk"
   },
   "id": "1GHrHEuK6lBk"
  },
  {
   "cell_type": "markdown",
   "source": [
    "## Install the PAMI package"
   ],
   "metadata": {
    "id": "fx5Hz6eW7Rke"
   },
   "id": "fx5Hz6eW7Rke"
  },
  {
   "cell_type": "code",
   "source": [
    "!pip install PAMI"
   ],
   "metadata": {
    "colab": {
     "base_uri": "https://localhost:8080/"
    },
    "id": "CnQTyyz67VyB",
    "outputId": "0ce13f4d-83e4-46d5-b847-4318cee75dbf",
    "ExecuteTime": {
     "end_time": "2025-06-16T14:48:36.749322Z",
     "start_time": "2025-06-16T14:48:36.623371Z"
    }
   },
   "id": "CnQTyyz67VyB",
   "outputs": [
    {
     "name": "stdout",
     "output_type": "stream",
     "text": [
      "zsh:1: command not found: pip\r\n"
     ]
    }
   ],
   "execution_count": 1
  },
  {
   "cell_type": "markdown",
   "source": [
    "## Downloading a sample file"
   ],
   "metadata": {
    "id": "Q8htUugz7YcK"
   },
   "id": "Q8htUugz7YcK"
  },
  {
   "cell_type": "code",
   "source": [
    "!wget -nc https://web-ext.u-aizu.ac.jp/~udayrage/datasets/transactionalDatabases/Transactional_T10I4D100K.csv"
   ],
   "metadata": {
    "colab": {
     "base_uri": "https://localhost:8080/"
    },
    "id": "tCi3Di8p7gQY",
    "outputId": "d23d99bb-20ef-4212-c5d0-ceb476d85f04",
    "ExecuteTime": {
     "end_time": "2025-06-16T14:48:36.895350Z",
     "start_time": "2025-06-16T14:48:36.760387Z"
    }
   },
   "id": "tCi3Di8p7gQY",
   "outputs": [
    {
     "name": "stdout",
     "output_type": "stream",
     "text": [
      "File ‘Transactional_T10I4D100K.csv’ already there; not retrieving.\r\n",
      "\r\n"
     ]
    }
   ],
   "execution_count": 2
  },
  {
   "cell_type": "markdown",
   "source": [
    "## Converting a CSV file into a Paraquet file"
   ],
   "metadata": {
    "id": "1PFXFFlT6ucs"
   },
   "id": "1PFXFFlT6ucs"
  },
  {
   "cell_type": "markdown",
   "source": [
    "### Generic\n",
    "\n",
    "\n",
    "\n",
    "```python\n",
    "from PAMI.extras.convert import CSV2Parquet as alg\n",
    "\n",
    "obj = alg.CSV2Parquet(inputFile,outputFile,sep)\n",
    "obj.convert()\n",
    "\n",
    "print('Runtime: ' + str(obj.getRuntime()))\n",
    "print('Memory (RSS): ' + str(obj.getMemoryRSS()))\n",
    "print('Memory (USS): ' + str(obj.getMemoryUSS()))\n",
    "```\n",
    "\n"
   ],
   "metadata": {
    "id": "nOE0pBDh7J-F"
   },
   "id": "nOE0pBDh7J-F"
  },
  {
   "cell_type": "markdown",
   "source": [
    "### Example 1: CSV2Paraquet"
   ],
   "metadata": {
    "id": "2Xp10l1q7nP_"
   },
   "id": "2Xp10l1q7nP_"
  },
  {
   "cell_type": "code",
   "source": [
    "import PAMI.extras.convert.CSV2Parquet as cp\n",
    "\n",
    "obj = cp.CSV2Parquet(inputFile='Transactional_T10I4D100K.csv',\\\n",
    "      outputFile='Transactional_T10I4D100K.parquet',sep='\\t')\n",
    "obj.convert()\n",
    "\n",
    "print('Runtime: ' + str(obj.getRuntime()))\n",
    "print('Memory (RSS): ' + str(obj.getMemoryRSS()))\n",
    "print('Memory (USS): ' + str(obj.getMemoryUSS()))"
   ],
   "metadata": {
    "colab": {
     "base_uri": "https://localhost:8080/"
    },
    "id": "pcYsmPmS7Jb8",
    "outputId": "bfe40ad5-a378-49b2-8648-efbf2e1270f9",
    "ExecuteTime": {
     "end_time": "2025-06-16T14:48:37.808212Z",
     "start_time": "2025-06-16T14:48:37.010956Z"
    }
   },
   "id": "pcYsmPmS7Jb8",
   "outputs": [
    {
     "name": "stdout",
     "output_type": "stream",
     "text": [
      "Runtime: 0.40280604362487793\n",
      "Memory (RSS): 255557632\n",
      "Memory (USS): 199639040\n"
     ]
    }
   ],
   "execution_count": 3
  },
  {
   "cell_type": "markdown",
   "source": [
    "## Converting a Paraquet file into a CSV file"
   ],
   "metadata": {
    "id": "l2rgi_u-7vgb"
   },
   "id": "l2rgi_u-7vgb"
  },
  {
   "cell_type": "markdown",
   "source": [
    "### Generic\n",
    "\n",
    "\n",
    "```python\n",
    "from PAMI.extras.convert import Parquet2CSV as alg\n",
    "\n",
    "obj = alg.Parquet2CSV(inputFile,outputFile,sep)\n",
    "obj.convert()\n",
    "\n",
    "print('Runtime: ' + str(obj.getRuntime()))\n",
    "print('Memory (RSS): ' + str(obj.getMemoryRSS()))\n",
    "print('Memory (USS): ' + str(obj.getMemoryUSS()))\n",
    "```\n",
    "\n"
   ],
   "metadata": {
    "id": "42PpT09771IK"
   },
   "id": "42PpT09771IK"
  },
  {
   "cell_type": "markdown",
   "source": [
    "### Example 2: Paraquet2CSV"
   ],
   "metadata": {
    "id": "UbOyc6I77-xQ"
   },
   "id": "UbOyc6I77-xQ"
  },
  {
   "cell_type": "code",
   "id": "initial_id",
   "metadata": {
    "collapsed": true,
    "colab": {
     "base_uri": "https://localhost:8080/"
    },
    "id": "initial_id",
    "outputId": "be26b81d-4ffe-4b14-c560-7f59b4a857f3",
    "ExecuteTime": {
     "end_time": "2025-06-16T14:48:38.678194Z",
     "start_time": "2025-06-16T14:48:37.826720Z"
    }
   },
   "source": [
    "import PAMI.extras.convert.Parquet2CSV as cp\n",
    "\n",
    "obj = cp.Parquet2CSV(inputFile='Transactional_T10I4D100K.parquet',\\\n",
    "      outputFile='new_Tran_T10I4D100K.csv',sep='\\t')\n",
    "obj.convert()\n",
    "\n",
    "print('Runtime: ' + str(obj.getRuntime()))\n",
    "print('Memory (RSS): ' + str(obj.getMemoryRSS()))\n",
    "print('Memory (USS): ' + str(obj.getMemoryUSS()))"
   ],
   "outputs": [
    {
     "name": "stdout",
     "output_type": "stream",
     "text": [
      "Runtime: 0.8319060802459717\n",
      "Memory (RSS): 232554496\n",
      "Memory (USS): 151224320\n"
     ]
    }
   ],
   "execution_count": 4
  },
  {
   "cell_type": "markdown",
   "source": [
    "## Converting a Dataframe into a Particular Database Type"
   ],
   "metadata": {
    "id": "Ebjt91yQ8Ork"
   },
   "id": "Ebjt91yQ8Ork"
  },
  {
   "cell_type": "markdown",
   "source": [
    "### Generic\n",
    "\n",
    "```python\n",
    "from PAMI.extras.convert import DF2DB as alg\n",
    "import pandas as pd\n",
    "import numpy as np\n",
    "\n",
    "obj = alg.DF2DB(dataFrame)\n",
    "obj.convert2ParticularDatabase(outputFileName, other parameters)\n",
    "\n",
    "print('Runtime: ' + str(obj.getRuntime()))\n",
    "print('Memory (RSS): ' + str(obj.getMemoryRSS()))\n",
    "print('Memory (USS): ' + str(obj.getMemoryUSS()))\n",
    "```\n",
    "\n"
   ],
   "metadata": {
    "id": "phvlOkxS8bxY"
   },
   "id": "phvlOkxS8bxY"
  },
  {
   "cell_type": "markdown",
   "source": [
    "### Example 3: Dataframe to transactional database"
   ],
   "metadata": {
    "id": "Ql_OVBuQ8sIm"
   },
   "id": "Ql_OVBuQ8sIm"
  },
  {
   "cell_type": "code",
   "source": [
    "from PAMI.extras.convert import DF2DB as alg\n",
    "import pandas as pd\n",
    "import numpy as np\n",
    "\n",
    "data = np.random.randint(1, 100, size=(1000, 4))\n",
    "dataFrame = pd.DataFrame(data,\n",
    "             columns=['Item1', 'Item2', 'Item3', 'Item4']\n",
    "            )\n",
    "\n",
    "obj = alg.DF2DB(dataFrame)\n",
    "obj.convert2TransactionalDatabase(oFile='transactionalDB.csv',\n",
    "       condition='>=', thresholdValue=36\n",
    "     )\n",
    "print('Runtime: ' + str(obj.getRuntime()))\n",
    "print('Memory (RSS): ' + str(obj.getMemoryRSS()))\n",
    "print('Memory (USS): ' + str(obj.getMemoryUSS()))"
   ],
   "metadata": {
    "colab": {
     "base_uri": "https://localhost:8080/"
    },
    "id": "daMtu0F48epP",
    "outputId": "23406cb1-27af-45cd-f062-f92c17792217",
    "ExecuteTime": {
     "end_time": "2025-06-16T14:48:38.717084Z",
     "start_time": "2025-06-16T14:48:38.699438Z"
    }
   },
   "id": "daMtu0F48epP",
   "outputs": [
    {
     "name": "stdout",
     "output_type": "stream",
     "text": [
      "Runtime: 0.007760047912597656\n",
      "Memory (RSS): 228573184\n",
      "Memory (USS): 152125440\n"
     ]
    }
   ],
   "execution_count": 5
  },
  {
   "cell_type": "code",
   "source": [
    "!head transactionalDB.csv #printing the created transactional database"
   ],
   "metadata": {
    "colab": {
     "base_uri": "https://localhost:8080/"
    },
    "id": "nJWWRCEd8V-7",
    "outputId": "25519703-0c3a-4fc9-8e91-b0235cd3fa53",
    "ExecuteTime": {
     "end_time": "2025-06-16T14:48:38.879356Z",
     "start_time": "2025-06-16T14:48:38.754780Z"
    }
   },
   "id": "nJWWRCEd8V-7",
   "outputs": [
    {
     "name": "stdout",
     "output_type": "stream",
     "text": [
      "Item1\tItem2\tItem3\r\n",
      "Item1\tItem2\tItem3\r\n",
      "Item1\tItem2\tItem3\r\n",
      "Item1\tItem2\tItem4\r\n",
      "Item1\tItem2\tItem4\r\n",
      "Item2\tItem3\r\n",
      "Item1\tItem2\tItem3\tItem4\r\n",
      "Item2\tItem3\tItem4\r\n",
      "Item1\tItem3\tItem4\r\n",
      "Item1\tItem4\r\n"
     ]
    }
   ],
   "execution_count": 6
  }
 ],
 "metadata": {
  "kernelspec": {
   "display_name": "Python 3",
   "language": "python",
   "name": "python3"
  },
  "language_info": {
   "codemirror_mode": {
    "name": "ipython",
    "version": 2
   },
   "file_extension": ".py",
   "mimetype": "text/x-python",
   "name": "python",
   "nbconvert_exporter": "python",
   "pygments_lexer": "ipython2",
   "version": "2.7.6"
  },
  "colab": {
   "provenance": [],
   "toc_visible": true,
   "include_colab_link": true
  }
 },
 "nbformat": 4,
 "nbformat_minor": 5
}
