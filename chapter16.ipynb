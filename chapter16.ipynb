{
 "cells": [
  {
   "cell_type": "code",
   "execution_count": null,
   "id": "initial_id",
   "metadata": {
    "collapsed": true
   },
   "outputs": [],
   "source": [
    ""
   ]
  },
  {
   "metadata": {},
   "cell_type": "markdown",
   "source": "# Chapter 16: Finding Useful Patterns in Graph Databases",
   "id": "ba3f0ad6e78c11d7"
  },
  {
   "metadata": {
    "ExecuteTime": {
     "end_time": "2025-06-17T00:32:27.205067Z",
     "start_time": "2025-06-17T00:32:27.092393Z"
    }
   },
   "cell_type": "code",
   "source": [
    "from PAMI.extras.graph import GraphConvertor as gc\n",
    "\n",
    "# Create GraphConvertor object with input file\n",
    "obj = gc.GraphConvertor(iFile='traditionalGraphData.txt')\n",
    "\n",
    "# Convert traditional graph format to compressed representation\n",
    "obj.convertTraditional2Compressed()\n",
    "\n",
    "# Optionally convert back from compressed to traditional\n",
    "# obj.convertFromCompressed2Traditional()\n",
    "\n",
    "# Save the compressed graph to a file\n",
    "obj.save('compressedGraphData.csv')\n",
    "\n",
    "# Print resource usage statistics\n",
    "print('Runtime:      ' + str(obj.getRuntime()))\n",
    "print('Memory (RSS): ' + str(obj.getMemoryRSS()))\n",
    "print('Memory (USS): ' + str(obj.getMemoryUSS()))\n"
   ],
   "id": "db1cdd30b21de5a5",
   "outputs": [
    {
     "ename": "FileNotFoundError",
     "evalue": "[Errno 2] No such file or directory: 'traditionalGraphData.txt'",
     "output_type": "error",
     "traceback": [
      "\u001B[31m---------------------------------------------------------------------------\u001B[39m",
      "\u001B[31mFileNotFoundError\u001B[39m                         Traceback (most recent call last)",
      "\u001B[36mCell\u001B[39m\u001B[36m \u001B[39m\u001B[32mIn[2]\u001B[39m\u001B[32m, line 7\u001B[39m\n\u001B[32m      4\u001B[39m obj = gc.GraphConvertor(iFile=\u001B[33m'\u001B[39m\u001B[33mtraditionalGraphData.txt\u001B[39m\u001B[33m'\u001B[39m)\n\u001B[32m      6\u001B[39m \u001B[38;5;66;03m# Convert traditional graph format to compressed representation\u001B[39;00m\n\u001B[32m----> \u001B[39m\u001B[32m7\u001B[39m \u001B[43mobj\u001B[49m\u001B[43m.\u001B[49m\u001B[43mconvertTraditional2Compressed\u001B[49m\u001B[43m(\u001B[49m\u001B[43m)\u001B[49m\n\u001B[32m      9\u001B[39m \u001B[38;5;66;03m# Optionally convert back from compressed to traditional\u001B[39;00m\n\u001B[32m     10\u001B[39m \u001B[38;5;66;03m# obj.convertFromCompressed2Traditional()\u001B[39;00m\n\u001B[32m     11\u001B[39m \n\u001B[32m     12\u001B[39m \u001B[38;5;66;03m# Save the compressed graph to a file\u001B[39;00m\n\u001B[32m     13\u001B[39m obj.save(\u001B[33m'\u001B[39m\u001B[33mcompressedGraphData.csv\u001B[39m\u001B[33m'\u001B[39m)\n",
      "\u001B[36mFile \u001B[39m\u001B[32m~/PycharmProjects/PAMI/PAMI/extras/graph/GraphConvertor.py:43\u001B[39m, in \u001B[36mGraphConvertor.convertTraditional2Compressed\u001B[39m\u001B[34m(self)\u001B[39m\n\u001B[32m     41\u001B[39m graph = {}\n\u001B[32m     42\u001B[39m \u001B[38;5;28mself\u001B[39m.convertedData = []\n\u001B[32m---> \u001B[39m\u001B[32m43\u001B[39m \u001B[38;5;28;01mwith\u001B[39;00m \u001B[38;5;28;43mopen\u001B[39;49m\u001B[43m(\u001B[49m\u001B[38;5;28;43mself\u001B[39;49m\u001B[43m.\u001B[49m\u001B[43miFile\u001B[49m\u001B[43m,\u001B[49m\u001B[43m \u001B[49m\u001B[33;43m'\u001B[39;49m\u001B[33;43mr\u001B[39;49m\u001B[33;43m'\u001B[39;49m\u001B[43m)\u001B[49m \u001B[38;5;28;01mas\u001B[39;00m iFile:\n\u001B[32m     44\u001B[39m     \u001B[38;5;28;01mfor\u001B[39;00m line \u001B[38;5;129;01min\u001B[39;00m iFile:\n\u001B[32m     45\u001B[39m         parts = line.strip().split()\n",
      "\u001B[31mFileNotFoundError\u001B[39m: [Errno 2] No such file or directory: 'traditionalGraphData.txt'"
     ]
    }
   ],
   "execution_count": 2
  },
  {
   "metadata": {
    "ExecuteTime": {
     "end_time": "2025-06-17T00:38:31.188746Z",
     "start_time": "2025-06-17T00:38:31.149791Z"
    }
   },
   "cell_type": "code",
   "source": [
    "from PAMI.extras.syntheticDataGenerator import createSyntheticGraphTransactions as db\n",
    "\n",
    "# Create a synthetic graph generator\n",
    "obj = db.SyntheticGraphGenerator(\n",
    "    numGraphs=100,\n",
    "    avgNumVertices=10,\n",
    "    avgNumEdges=6,\n",
    "    numVertexLabels=5,\n",
    "    numEdgeLabels=3,\n",
    "    outputFileName='opn.txt',\n",
    "    format='old'\n",
    ")\n",
    "\n",
    "# Generate synthetic graph transactions\n",
    "obj.generate()\n",
    "\n",
    "# Print resource usage statistics\n",
    "print('Runtime:      ' + str(obj.getRuntime()))\n",
    "print('Memory (RSS): ' + str(obj.getMemoryRSS()))\n",
    "print('Memory (USS): ' + str(obj.getMemoryUSS()))\n"
   ],
   "id": "c8eb45c71879bcd0",
   "outputs": [
    {
     "ename": "ImportError",
     "evalue": "cannot import name 'createSyntheticGraphTransactions' from 'PAMI.extras.syntheticDataGenerator' (/Users/tarunsreepada/PycharmProjects/PAMI/PAMI/extras/syntheticDataGenerator/__init__.py)",
     "output_type": "error",
     "traceback": [
      "\u001B[31m---------------------------------------------------------------------------\u001B[39m",
      "\u001B[31mImportError\u001B[39m                               Traceback (most recent call last)",
      "\u001B[36mCell\u001B[39m\u001B[36m \u001B[39m\u001B[32mIn[3]\u001B[39m\u001B[32m, line 1\u001B[39m\n\u001B[32m----> \u001B[39m\u001B[32m1\u001B[39m \u001B[38;5;28;01mfrom\u001B[39;00m\u001B[38;5;250m \u001B[39m\u001B[34;01mPAMI\u001B[39;00m\u001B[34;01m.\u001B[39;00m\u001B[34;01mextras\u001B[39;00m\u001B[34;01m.\u001B[39;00m\u001B[34;01msyntheticDataGenerator\u001B[39;00m\u001B[38;5;250m \u001B[39m\u001B[38;5;28;01mimport\u001B[39;00m createSyntheticGraphTransactions \u001B[38;5;28;01mas\u001B[39;00m db\n\u001B[32m      3\u001B[39m \u001B[38;5;66;03m# Create a synthetic graph generator\u001B[39;00m\n\u001B[32m      4\u001B[39m obj = db.SyntheticGraphGenerator(\n\u001B[32m      5\u001B[39m     numGraphs=\u001B[32m100\u001B[39m,\n\u001B[32m      6\u001B[39m     avgNumVertices=\u001B[32m10\u001B[39m,\n\u001B[32m   (...)\u001B[39m\u001B[32m     11\u001B[39m     \u001B[38;5;28mformat\u001B[39m=\u001B[33m'\u001B[39m\u001B[33mold\u001B[39m\u001B[33m'\u001B[39m\n\u001B[32m     12\u001B[39m )\n",
      "\u001B[31mImportError\u001B[39m: cannot import name 'createSyntheticGraphTransactions' from 'PAMI.extras.syntheticDataGenerator' (/Users/tarunsreepada/PycharmProjects/PAMI/PAMI/extras/syntheticDataGenerator/__init__.py)"
     ]
    }
   ],
   "execution_count": 3
  },
  {
   "metadata": {
    "ExecuteTime": {
     "end_time": "2025-06-17T02:58:47.325244Z",
     "start_time": "2025-06-17T02:58:47.287750Z"
    }
   },
   "cell_type": "code",
   "source": [
    "from PAMI.subgraphMining.basic import gspan as alg\n",
    "\n",
    "# Define input file and minimum support\n",
    "inputFile = 'datasets/Chemical_340.txt'\n",
    "minSupport = 1  # Replace with your actual support threshold\n",
    "\n",
    "# Create and run the gSpan algorithm\n",
    "obj = alg.GSpan(inputFile, minSupport, outputGraphIds=True)\n",
    "obj.mine()\n",
    "\n",
    "# Retrieve results\n",
    "frequentGraphs = obj.getFrequentSubgraphs()\n",
    "\n",
    "# Print stats\n",
    "print(\"Total Memory in USS: \", obj.getMemoryUSS())\n",
    "print(\"Total Memory in RSS: \", obj.getMemoryRSS())\n",
    "print(\"Total Execution Time (s):\", obj.getRuntime())\n",
    "\n",
    "# Save discovered subgraphs\n",
    "obj.save('frequentSubgraphs.txt')\n"
   ],
   "id": "391194979d964a6c",
   "outputs": [
    {
     "name": "stdout",
     "output_type": "stream",
     "text": [
      "Total Memory in USS:  31752192\n",
      "Total Memory in RSS:  38977536\n",
      "Total Execution Time (s): 0.030318021774291992\n"
     ]
    }
   ],
   "execution_count": 21
  },
  {
   "metadata": {
    "ExecuteTime": {
     "end_time": "2025-06-17T02:57:30.898704Z",
     "start_time": "2025-06-17T02:57:29.344931Z"
    }
   },
   "cell_type": "code",
   "source": [
    "from PAMI.subgraphMining.topK import tkg as alg\n",
    "\n",
    "# Create a TKG (Top-K Graph) mining instance\n",
    "obj = alg.TKG(iFile='datasets/Chemical_340.txt', k=100)\n",
    "\n",
    "# Perform the mining\n",
    "obj.mine()\n",
    "\n",
    "# Retrieve the top-K frequent subgraphs\n",
    "frequentGraphs = obj.getKSubgraphs()\n",
    "\n",
    "# Print memory usage and runtime\n",
    "print(\"Total Memory in USS: \", obj.getMemoryUSS())\n",
    "print(\"Total Memory in RSS: \", obj.getMemoryRSS())\n",
    "print(\"Total Execution Time (s):\", obj.getRuntime())\n",
    "\n",
    "# Save the top-K subgraphs to file\n",
    "obj.save('frequentTopkSubgraphs.txt')\n"
   ],
   "id": "73e81bc7c0d68a8f",
   "outputs": [
    {
     "name": "stdout",
     "output_type": "stream",
     "text": [
      "Total Memory in USS:  52641792\n",
      "Total Memory in RSS:  59195392\n",
      "Total Execution Time (s): 1.5454928874969482\n"
     ]
    }
   ],
   "execution_count": 17
  },
  {
   "metadata": {
    "ExecuteTime": {
     "end_time": "2025-06-17T02:57:36.355351Z",
     "start_time": "2025-06-17T02:57:36.310594Z"
    }
   },
   "cell_type": "code",
   "source": [
    "from PAMI.extras.visualize import graphs as vis\n",
    "\n",
    "obj = vis.graphDatabase(iFile='frequentSubgraphs.txt')\n",
    "obj.plot()"
   ],
   "id": "d3607779099b17fb",
   "outputs": [
    {
     "ename": "ZeroDivisionError",
     "evalue": "integer division or modulo by zero",
     "output_type": "error",
     "traceback": [
      "\u001B[31m---------------------------------------------------------------------------\u001B[39m",
      "\u001B[31mZeroDivisionError\u001B[39m                         Traceback (most recent call last)",
      "\u001B[36mCell\u001B[39m\u001B[36m \u001B[39m\u001B[32mIn[19]\u001B[39m\u001B[32m, line 4\u001B[39m\n\u001B[32m      1\u001B[39m \u001B[38;5;28;01mfrom\u001B[39;00m\u001B[38;5;250m \u001B[39m\u001B[34;01mPAMI\u001B[39;00m\u001B[34;01m.\u001B[39;00m\u001B[34;01mextras\u001B[39;00m\u001B[34;01m.\u001B[39;00m\u001B[34;01mvisualize\u001B[39;00m\u001B[38;5;250m \u001B[39m\u001B[38;5;28;01mimport\u001B[39;00m graphs \u001B[38;5;28;01mas\u001B[39;00m vis\n\u001B[32m      3\u001B[39m obj = vis.graphDatabase(iFile=\u001B[33m'\u001B[39m\u001B[33mfrequentSubgraphs.txt\u001B[39m\u001B[33m'\u001B[39m)\n\u001B[32m----> \u001B[39m\u001B[32m4\u001B[39m \u001B[43mobj\u001B[49m\u001B[43m.\u001B[49m\u001B[43mplot\u001B[49m\u001B[43m(\u001B[49m\u001B[43m)\u001B[49m\n",
      "\u001B[36mFile \u001B[39m\u001B[32m~/PycharmProjects/PAMI/PAMI/extras/visualize/graphs.py:39\u001B[39m, in \u001B[36mgraphDatabase.plot\u001B[39m\u001B[34m(self)\u001B[39m\n\u001B[32m     36\u001B[39m     graphs.append((current_graph, vertex_labels, edge_labels))\n\u001B[32m     38\u001B[39m n_rows = \u001B[38;5;28mint\u001B[39m(\u001B[38;5;28mlen\u001B[39m(graphs) ** \u001B[32m0.5\u001B[39m)\n\u001B[32m---> \u001B[39m\u001B[32m39\u001B[39m n_cols = (\u001B[38;5;28;43mlen\u001B[39;49m\u001B[43m(\u001B[49m\u001B[43mgraphs\u001B[49m\u001B[43m)\u001B[49m\u001B[43m \u001B[49m\u001B[43m/\u001B[49m\u001B[43m/\u001B[49m\u001B[43m \u001B[49m\u001B[43mn_rows\u001B[49m) + (\u001B[38;5;28mlen\u001B[39m(graphs) % n_rows > \u001B[32m0\u001B[39m)\n\u001B[32m     41\u001B[39m plt.figure(figsize=(n_cols * \u001B[32m4\u001B[39m, n_rows * \u001B[32m4\u001B[39m))\n\u001B[32m     43\u001B[39m \u001B[38;5;28;01mfor\u001B[39;00m i, (graph, vertex_labels, edge_labels) \u001B[38;5;129;01min\u001B[39;00m \u001B[38;5;28menumerate\u001B[39m(graphs):\n",
      "\u001B[31mZeroDivisionError\u001B[39m: integer division or modulo by zero"
     ]
    }
   ],
   "execution_count": 19
  },
  {
   "metadata": {
    "ExecuteTime": {
     "end_time": "2025-06-17T02:57:31.023656Z",
     "start_time": "2025-06-17T02:57:31.020731Z"
    }
   },
   "cell_type": "code",
   "source": "",
   "id": "8233a65b83fdcd90",
   "outputs": [],
   "execution_count": null
  },
  {
   "metadata": {
    "ExecuteTime": {
     "end_time": "2025-06-17T02:57:33.934510Z",
     "start_time": "2025-06-17T02:57:33.930376Z"
    }
   },
   "cell_type": "code",
   "source": "",
   "id": "b2aadb31b3da9d09",
   "outputs": [],
   "execution_count": null
  },
  {
   "metadata": {},
   "cell_type": "code",
   "outputs": [],
   "execution_count": null,
   "source": "",
   "id": "4be3577c2cd805e3"
  }
 ],
 "metadata": {
  "kernelspec": {
   "display_name": "Python 3",
   "language": "python",
   "name": "python3"
  },
  "language_info": {
   "codemirror_mode": {
    "name": "ipython",
    "version": 2
   },
   "file_extension": ".py",
   "mimetype": "text/x-python",
   "name": "python",
   "nbconvert_exporter": "python",
   "pygments_lexer": "ipython2",
   "version": "2.7.6"
  }
 },
 "nbformat": 4,
 "nbformat_minor": 5
}
