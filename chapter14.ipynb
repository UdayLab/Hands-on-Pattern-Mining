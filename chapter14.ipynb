{
 "cells": [
  {
   "cell_type": "code",
   "id": "initial_id",
   "metadata": {
    "collapsed": true,
    "ExecuteTime": {
     "end_time": "2025-06-17T00:07:59.583537Z",
     "start_time": "2025-06-17T00:07:57.934506Z"
    }
   },
   "source": "!wget -nc https://web-ext.u-aizu.ac.jp/~udayrage/datasets/fuzzyDatabases/Fuzzy_T10I4D100K.csv",
   "outputs": [
    {
     "name": "stdout",
     "output_type": "stream",
     "text": [
      "--2025-06-17 09:07:58--  https://web-ext.u-aizu.ac.jp/~udayrage/datasets/fuzzyDatabases/Fuzzy_T10I4D100K.csv\r\n",
      "Resolving web-ext.u-aizu.ac.jp (web-ext.u-aizu.ac.jp)... 163.143.103.34\r\n",
      "Connecting to web-ext.u-aizu.ac.jp (web-ext.u-aizu.ac.jp)|163.143.103.34|:443... connected.\r\n",
      "HTTP request sent, awaiting response... 200 OK\r\n",
      "Length: 9151461 (8.7M) [text/csv]\r\n",
      "Saving to: ‘Fuzzy_T10I4D100K.csv’\r\n",
      "\r\n",
      "Fuzzy_T10I4D100K.cs 100%[===================>]   8.73M  13.2MB/s    in 0.7s    \r\n",
      "\r\n",
      "2025-06-17 09:07:59 (13.2 MB/s) - ‘Fuzzy_T10I4D100K.csv’ saved [9151461/9151461]\r\n",
      "\r\n"
     ]
    }
   ],
   "execution_count": 8
  },
  {
   "metadata": {},
   "cell_type": "markdown",
   "source": "# Chapter 14: Pattern Discovery in Fuzzy Databases",
   "id": "87d318d277d49ee2"
  },
  {
   "metadata": {
    "ExecuteTime": {
     "end_time": "2025-06-17T00:08:08.607007Z",
     "start_time": "2025-06-17T00:08:00.555053Z"
    }
   },
   "cell_type": "code",
   "source": [
    "from PAMI.fuzzyFrequentPattern.basic import FFIMiner as alg\n",
    "inputFile = 'Fuzzy_T10I4D100K.csv'\n",
    "minimumSupportCount = 100\n",
    "# obj = alg.FFIMiner(iFile=inputFile, minSup=minimumSupportCount, sep=\n",
    "# obj.mine()\n",
    "# '\\t')\n",
    "\n",
    "obj = alg.FFIMiner(iFile=inputFile, minSup=minimumSupportCount, sep='\\t')\n",
    "obj.mine()  # Start the mining process\n",
    "\n",
    "#Retrievediscoveredpatternsandresourceusage\n",
    "obj.save('fuzzyfrequentPatterns.txt')\n",
    "Patterns = obj.getPatterns()\n",
    "print(\"Total number of Fuzzy Frequent Patterns:\",len(Patterns))\n",
    "#Displaymemoryandruntimestatistics\n",
    "memUSS = obj.getMemoryUSS()\n",
    "print(\"Total Memory in USS:\", memUSS)\n",
    "memRSS = obj.getMemoryRSS()\n",
    "print(\"Total Memory in RSS:\", memRSS)\n",
    "runTime = obj.getRuntime()\n",
    "print(\"Total Execution Time in ms:\", runTime)"
   ],
   "id": "c2f3e7af8cf37030",
   "outputs": [
    {
     "name": "stdout",
     "output_type": "stream",
     "text": [
      "Total number of Fuzzy Frequent Patterns: 21691\n",
      "Total Memory in USS: 378208256\n",
      "Total Memory in RSS: 395902976\n",
      "Total Execution Time in ms: 8.036922931671143\n"
     ]
    }
   ],
   "execution_count": 9
  },
  {
   "metadata": {},
   "cell_type": "code",
   "outputs": [],
   "execution_count": null,
   "source": "",
   "id": "38a669d06c3532fd"
  }
 ],
 "metadata": {
  "kernelspec": {
   "display_name": "Python 3",
   "language": "python",
   "name": "python3"
  },
  "language_info": {
   "codemirror_mode": {
    "name": "ipython",
    "version": 2
   },
   "file_extension": ".py",
   "mimetype": "text/x-python",
   "name": "python",
   "nbconvert_exporter": "python",
   "pygments_lexer": "ipython2",
   "version": "2.7.6"
  }
 },
 "nbformat": 4,
 "nbformat_minor": 5
}
