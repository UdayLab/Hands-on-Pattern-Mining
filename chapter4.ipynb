{
 "cells": [
  {
   "cell_type": "markdown",
   "metadata": {
    "id": "view-in-github",
    "colab_type": "text"
   },
   "source": [
    "<a href=\"https://colab.research.google.com/github/UdayLab/Hands-on-Pattern-Mining/blob/main/chapter4.ipynb\" target=\"_parent\"><img src=\"https://colab.research.google.com/assets/colab-badge.svg\" alt=\"Open In Colab\"/></a>"
   ],
   "id": "5e1bfd3764b0a09f"
  },
  {
   "cell_type": "markdown",
   "source": [
    "# Chapter 4: Pattern Discovery in Transactional Databases"
   ],
   "metadata": {
    "id": "14HciOZCFrYm"
   },
   "id": "14HciOZCFrYm"
  },
  {
   "cell_type": "markdown",
   "source": [
    "## Install PAMI repository"
   ],
   "metadata": {
    "id": "OXAsDHIFFwxx"
   },
   "id": "OXAsDHIFFwxx"
  },
  {
   "cell_type": "code",
   "id": "initial_id",
   "metadata": {
    "collapsed": true,
    "colab": {
     "base_uri": "https://localhost:8080/"
    },
    "id": "initial_id",
    "outputId": "712ce502-6650-453c-de40-effe0fda6b3e",
    "ExecuteTime": {
     "end_time": "2025-06-16T14:50:08.723829Z",
     "start_time": "2025-06-16T14:50:08.603047Z"
    }
   },
   "source": [
    "!pip install pami"
   ],
   "outputs": [
    {
     "name": "stdout",
     "output_type": "stream",
     "text": [
      "zsh:1: command not found: pip\r\n"
     ]
    }
   ],
   "execution_count": 1
  },
  {
   "cell_type": "markdown",
   "source": [
    "## Download the sample transactional database"
   ],
   "metadata": {
    "id": "aXMwnQmBF4rr"
   },
   "id": "aXMwnQmBF4rr"
  },
  {
   "cell_type": "code",
   "source": [
    "!wget -nc https://web-ext.u-aizu.ac.jp/~udayrage/datasets/transactionalDatabases/Transactional_T10I4D100K.csv"
   ],
   "metadata": {
    "colab": {
     "base_uri": "https://localhost:8080/"
    },
    "id": "9i5Wvom4F-kr",
    "outputId": "f2d02062-dbea-439c-99ca-62e26ca9068e",
    "ExecuteTime": {
     "end_time": "2025-06-16T14:50:08.959003Z",
     "start_time": "2025-06-16T14:50:08.832669Z"
    }
   },
   "id": "9i5Wvom4F-kr",
   "outputs": [
    {
     "name": "stdout",
     "output_type": "stream",
     "text": [
      "File ‘Transactional_T10I4D100K.csv’ already there; not retrieving.\r\n",
      "\r\n"
     ]
    }
   ],
   "execution_count": 2
  },
  {
   "cell_type": "markdown",
   "source": [
    "## Discovering frequent patterns using FP-growth"
   ],
   "metadata": {
    "id": "tiKA5YNBGkZZ"
   },
   "id": "tiKA5YNBGkZZ"
  },
  {
   "cell_type": "markdown",
   "source": [
    "### Generic\n",
    "\n",
    "```python\n",
    "from PAMI.frequentPattern.basic import FPGrowth  as alg\n",
    "\n",
    "obj = alg.FPGrowth(iFile='inputFileName',minSup=minimumSupportvalue,sep='\\t')\n",
    "obj.mine()\n",
    "obj.save('outputFileName')\n",
    "\n",
    "frequentPatternsDF= obj.getPatternsAsDataFrame()\n",
    "print('#Patterns: ' + str(len(frequentPatternsDF)))\n",
    "print('Runtime: ' + str(obj.getRuntime()))\n",
    "print('Memory (RSS): ' + str(obj.getMemoryRSS()))\n",
    "print('Memory (USS): ' + str(obj.getMemoryUSS()))\n",
    "```\n",
    "\n"
   ],
   "metadata": {
    "id": "RwAbDmPAGpLZ"
   },
   "id": "RwAbDmPAGpLZ"
  },
  {
   "cell_type": "markdown",
   "source": [
    "### Example 1"
   ],
   "metadata": {
    "id": "p1h7KQYiG9ae"
   },
   "id": "p1h7KQYiG9ae"
  },
  {
   "cell_type": "code",
   "source": [
    "from PAMI.frequentPattern.basic import FPGrowth  as alg\n",
    "\n",
    "obj = alg.FPGrowth(iFile='Transactional_T10I4D100K.csv',minSup=300,sep='\\t')\n",
    "obj.mine()\n",
    "obj.save('frequentPatternsAtMinSupCount300.txt')\n",
    "\n",
    "frequentPatternsDF= obj.getPatternsAsDataFrame()\n",
    "print('#Patterns: ' + str(len(frequentPatternsDF)))\n",
    "print('Runtime: ' + str(obj.getRuntime()))\n",
    "print('Memory (RSS): ' + str(obj.getMemoryRSS()))\n",
    "print('Memory (USS): ' + str(obj.getMemoryUSS()))"
   ],
   "metadata": {
    "colab": {
     "base_uri": "https://localhost:8080/"
    },
    "id": "aonyqnmUGgyJ",
    "outputId": "36f1488a-1b7f-4079-c24c-9b773f8180f6",
    "ExecuteTime": {
     "end_time": "2025-06-16T14:50:11.632150Z",
     "start_time": "2025-06-16T14:50:08.966277Z"
    }
   },
   "id": "aonyqnmUGgyJ",
   "outputs": [
    {
     "name": "stdout",
     "output_type": "stream",
     "text": [
      "Frequent patterns were generated successfully using frequentPatternGrowth algorithm\n",
      "#Patterns: 4540\n",
      "Runtime: 2.4022600650787354\n",
      "Memory (RSS): 434585600\n",
      "Memory (USS): 411533312\n"
     ]
    }
   ],
   "execution_count": 3
  },
  {
   "cell_type": "markdown",
   "source": [
    "## Discovering Closed Frequent Patterns"
   ],
   "metadata": {
    "id": "vww7aVdQHP3Z"
   },
   "id": "vww7aVdQHP3Z"
  },
  {
   "cell_type": "markdown",
   "source": [
    "### Generic\n",
    "\n",
    "\n",
    "\n",
    "```python\n",
    "from PAMI.frequentPattern.closed import CHARM  as alg\n",
    "\n",
    "obj = alg.CHARM(iFile='inputFileName', minSup=minimumSupportValue)\n",
    "obj.mine()\n",
    "obj.save('outputFileName')\n",
    "\n",
    "closedFPsDF= obj.getPatternsAsDataFrame()\n",
    "\n",
    "print('#Patterns: ' + str(len(obj.getPatternsAsDataFrame())))  \n",
    "print('Runtime: ' + str(obj.getRuntime()))\n",
    "print('Memory (RSS): ' + str(obj.getMemoryRSS()))\n",
    "print('Memory (USS): ' + str(obj.getMemoryUSS()))\n",
    "```\n",
    "\n"
   ],
   "metadata": {
    "id": "y-Lm5Na9HTvT"
   },
   "id": "y-Lm5Na9HTvT"
  },
  {
   "cell_type": "markdown",
   "source": [
    "### Example 2"
   ],
   "metadata": {
    "id": "TBNI5kT3HqbH"
   },
   "id": "TBNI5kT3HqbH"
  },
  {
   "cell_type": "code",
   "source": [
    "from PAMI.frequentPattern.closed import CHARM  as alg\n",
    "\n",
    "obj = alg.CHARM(iFile='Transactional_T10I4D100K.csv', minSup=300)\n",
    "obj.mine()\n",
    "obj.save('closedFrequentPatterns.txt')\n",
    "\n",
    "closedFPsDF= obj.getPatternsAsDataFrame()\n",
    "\n",
    "print('#Patterns: ' + str(len(obj.getPatternsAsDataFrame())))\n",
    "print('Runtime: ' + str(obj.getRuntime()))\n",
    "print('Memory (RSS): ' + str(obj.getMemoryRSS()))\n",
    "print('Memory (USS): ' + str(obj.getMemoryUSS()))"
   ],
   "metadata": {
    "colab": {
     "base_uri": "https://localhost:8080/"
    },
    "id": "ljtbQUopF1fE",
    "outputId": "4f37d742-281f-47c3-9d19-991f06e2d5b5",
    "ExecuteTime": {
     "end_time": "2025-06-16T14:50:15.580580Z",
     "start_time": "2025-06-16T14:50:11.651707Z"
    }
   },
   "id": "ljtbQUopF1fE",
   "outputs": [
    {
     "name": "stdout",
     "output_type": "stream",
     "text": [
      "Closed Frequent patterns were generated successfully using CHARM algorithm\n",
      "#Patterns: 2856\n",
      "Runtime: 3.9080770015716553\n",
      "Memory (RSS): 208666624\n",
      "Memory (USS): 174768128\n"
     ]
    }
   ],
   "execution_count": 4
  },
  {
   "cell_type": "markdown",
   "source": [
    "## Discovering Maximal Frequent Patterns"
   ],
   "metadata": {
    "id": "NWzSMDsjH3hs"
   },
   "id": "NWzSMDsjH3hs"
  },
  {
   "cell_type": "markdown",
   "source": [
    "### Generic\n",
    "\n",
    "```python\n",
    "from PAMI.frequentPattern.maximal import MaxFPGrowth  as alg\n",
    "\n",
    "obj = alg.MaxFPGrowth(iFile='inputFileName', minSup=minimumSupportValue)\n",
    "obj.mine()\n",
    "obj.save('outputFileName')\n",
    "\n",
    "maximalFPsDF= obj.getPatternsAsDataFrame()\n",
    "\n",
    "print('#Patterns: ' + str(len(obj.getPatternsAsDataFrame())))\n",
    "print('Runtime: ' + str(obj.getRuntime()))\n",
    "print('Memory (RSS): ' + str(obj.getMemoryRSS()))\n",
    "print('Memory (USS): ' + str(obj.getMemoryUSS()))\n",
    "```\n",
    "\n"
   ],
   "metadata": {
    "id": "ww4Vv1_pH694"
   },
   "id": "ww4Vv1_pH694"
  },
  {
   "cell_type": "markdown",
   "source": [
    "### Example 3"
   ],
   "metadata": {
    "id": "rOeQDaIKIXWi"
   },
   "id": "rOeQDaIKIXWi"
  },
  {
   "cell_type": "code",
   "source": [
    "from PAMI.frequentPattern.maximal import MaxFPGrowth  as alg\n",
    "\n",
    "obj = alg.MaxFPGrowth(iFile='Transactional_T10I4D100K.csv', minSup=300)\n",
    "obj.mine()\n",
    "obj.save('maximalFrequentPatternsAtMinSupCount100.txt')\n",
    "\n",
    "maximalFPsDF= obj.getPatternsAsDataFrame()\n",
    "\n",
    "print('#Patterns: ' + str(len(obj.getPatternsAsDataFrame())))\n",
    "print('Runtime: ' + str(obj.getRuntime()))\n",
    "print('Memory (RSS): ' + str(obj.getMemoryRSS()))\n",
    "print('Memory (USS): ' + str(obj.getMemoryUSS()))"
   ],
   "metadata": {
    "colab": {
     "base_uri": "https://localhost:8080/"
    },
    "id": "_-px1Mv6H6gZ",
    "outputId": "da253725-2c81-4acc-98be-5bf8de520a99",
    "ExecuteTime": {
     "end_time": "2025-06-16T14:50:18.446662Z",
     "start_time": "2025-06-16T14:50:15.606142Z"
    }
   },
   "id": "_-px1Mv6H6gZ",
   "outputs": [
    {
     "name": "stdout",
     "output_type": "stream",
     "text": [
      "Maximal Frequent patterns were generated successfully using MaxFp-Growth algorithm \n",
      "#Patterns: 1292\n",
      "Runtime: 2.7118637561798096\n",
      "Memory (RSS): 263372800\n",
      "Memory (USS): 239828992\n"
     ]
    }
   ],
   "execution_count": 5
  },
  {
   "cell_type": "markdown",
   "source": [
    "## Discovering Top-k Frequently Occurring Patterns"
   ],
   "metadata": {
    "id": "9r52n1lwIqwO"
   },
   "id": "9r52n1lwIqwO"
  },
  {
   "cell_type": "markdown",
   "source": [
    "### Generic\n",
    "\n",
    "\n",
    "\n",
    "```python\n",
    "from PAMI.frequentPattern.topk import FAE  as alg\n",
    "\n",
    "obj = alg.FAE(iFile='inputFileName', k=number of frequently patterns needed)\n",
    "obj.mine()\n",
    "obj.save('outputFileName')\n",
    "\n",
    "print('#Patterns: ' + str(len(obj.getPatternsAsDataFrame())))\n",
    "print('Runtime: ' + str(obj.getRuntime()))\n",
    "print('Memory (RSS): ' + str(obj.getMemoryRSS()))\n",
    "print('Memory (USS): ' + str(obj.getMemoryUSS()))\n",
    "```\n",
    "\n"
   ],
   "metadata": {
    "id": "bFQ93rypIwdJ"
   },
   "id": "bFQ93rypIwdJ"
  },
  {
   "cell_type": "markdown",
   "source": [
    "### Example 4"
   ],
   "metadata": {
    "id": "8A-ig8K-JBsZ"
   },
   "id": "8A-ig8K-JBsZ"
  },
  {
   "cell_type": "code",
   "source": [
    "from PAMI.frequentPattern.topk import FAE  as alg\n",
    "\n",
    "obj = alg.FAE(iFile='Transactional_T10I4D100K.csv', k=1000)\n",
    "obj.mine()\n",
    "obj.save('topkFrequentPatterns.txt')\n",
    "\n",
    "print('#Patterns: ' + str(len(obj.getPatternsAsDataFrame())))\n",
    "print('Runtime: ' + str(obj.getRuntime()))\n",
    "print('Memory (RSS): ' + str(obj.getMemoryRSS()))\n",
    "print('Memory (USS): ' + str(obj.getMemoryUSS()))"
   ],
   "metadata": {
    "colab": {
     "base_uri": "https://localhost:8080/"
    },
    "id": "FUEpvCYhIv3r",
    "outputId": "da2df095-2cbc-44dd-9dd4-923bee43a411",
    "ExecuteTime": {
     "end_time": "2025-06-16T14:50:24.568121Z",
     "start_time": "2025-06-16T14:50:18.460627Z"
    }
   },
   "id": "FUEpvCYhIv3r",
   "outputs": [
    {
     "name": "stdout",
     "output_type": "stream",
     "text": [
      " TopK frequent patterns were successfully generated using FAE algorithm.\n",
      "#Patterns: 1000\n",
      "Runtime: 6.061453819274902\n",
      "Memory (RSS): 74563584\n",
      "Memory (USS): 56082432\n"
     ]
    }
   ],
   "execution_count": 6
  },
  {
   "cell_type": "markdown",
   "source": [
    "## Rare Item Problem - Calculating the items' MIS values"
   ],
   "metadata": {
    "id": "Gc_k_tfwJTOD"
   },
   "id": "Gc_k_tfwJTOD"
  },
  {
   "cell_type": "markdown",
   "source": [
    "### Generic\n",
    "\n",
    "\n",
    "\n",
    "```python\n",
    "from PAMI.extras.calculateMISValues import usingBeta as ub\n",
    "cd = ub.usingBeta(iFile='inputFileName',\n",
    "        beta=percentageOfItemsFrequency, LS=lowestMinimumSupportForAnItem) #using default tab separator\n",
    "cd.calculateMIS()\n",
    "cd.save('outputFileName')\n",
    "```\n",
    "\n"
   ],
   "metadata": {
    "id": "sems1MQUJbaR"
   },
   "id": "sems1MQUJbaR"
  },
  {
   "cell_type": "markdown",
   "source": [
    "### Example 5"
   ],
   "metadata": {
    "id": "fvoG0ZTlJeDk"
   },
   "id": "fvoG0ZTlJeDk"
  },
  {
   "cell_type": "code",
   "source": [
    "from PAMI.extras.calculateMISValues import usingBeta as ub\n",
    "cd = ub.usingBeta(iFile='Transactional_T10I4D100K.csv',\n",
    "        beta=0.5, LS=100) #using default tab separator\n",
    "cd.calculateMIS()\n",
    "cd.save('MIS.txt')"
   ],
   "metadata": {
    "id": "bIA9BiDwJatI",
    "ExecuteTime": {
     "end_time": "2025-06-16T14:50:24.811732Z",
     "start_time": "2025-06-16T14:50:24.585703Z"
    }
   },
   "id": "bIA9BiDwJatI",
   "outputs": [],
   "execution_count": 7
  },
  {
   "cell_type": "markdown",
   "source": [
    "## Rare Item Problem - Mining Frequent Patterns using Multiple Minimum Support Values"
   ],
   "metadata": {
    "id": "7Vq4trmIKL-J"
   },
   "id": "7Vq4trmIKL-J"
  },
  {
   "cell_type": "markdown",
   "source": [
    "### Generic\n",
    "\n",
    "\n",
    "```python\n",
    "from PAMI.multipleMinimumSupportBasedFrequentPattern.basic \\\n",
    "    import CFPGrowthPlus as alg\n",
    "\n",
    "obj = alg.CFPGrowthPlus(iFile='inputFileName',\n",
    "        MIS='MIS.txt')  #using default tab separator\n",
    "obj.mine()         \n",
    "obj.save('outputFileName')\n",
    "print('Total No of patterns: ' +\n",
    "    str(len(obj.getPatternsAsDataFrame())))\n",
    "print('Runtime: ' + str(obj.getRuntime()))\n",
    "print('Memory (RSS): ' + str(obj.getMemoryRSS()))\n",
    "print('Memory (USS): ' + str(obj.getMemoryUSS()))\n",
    "```\n",
    "\n"
   ],
   "metadata": {
    "id": "k4z2tnqxKUiq"
   },
   "id": "k4z2tnqxKUiq"
  },
  {
   "cell_type": "markdown",
   "source": [
    "### Example 6"
   ],
   "metadata": {
    "id": "Ybolv5HeKX0n"
   },
   "id": "Ybolv5HeKX0n"
  },
  {
   "cell_type": "code",
   "source": [
    "from PAMI.multipleMinimumSupportBasedFrequentPattern.basic \\\n",
    "    import CFPGrowthPlus as alg\n",
    "\n",
    "obj = alg.CFPGrowthPlus(iFile='Transactional_T10I4D100K.csv',\n",
    "        MIS='MIS.txt')  #using default tab separator\n",
    "obj.mine()\n",
    "obj.save('frequentPatternsMultipleMinimumSupports.txt')\n",
    "print('Total No of patterns: ' +\n",
    "    str(len(obj.getPatternsAsDataFrame())))\n",
    "print('Runtime: ' + str(obj.getRuntime()))\n",
    "print('Memory (RSS): ' + str(obj.getMemoryRSS()))\n",
    "print('Memory (USS): ' + str(obj.getMemoryUSS()))"
   ],
   "metadata": {
    "colab": {
     "base_uri": "https://localhost:8080/"
    },
    "id": "dNFmwbO3KT8p",
    "outputId": "5b9882a3-1ff6-4b75-ce5c-3e914b5ae402",
    "ExecuteTime": {
     "end_time": "2025-06-16T14:50:30.772297Z",
     "start_time": "2025-06-16T14:50:24.822806Z"
    }
   },
   "id": "dNFmwbO3KT8p",
   "outputs": [
    {
     "name": "stdout",
     "output_type": "stream",
     "text": [
      "Frequent patterns were generated successfully using Conditional Frequent Pattern Growth algorithm\n",
      "Total No of patterns: 4947\n",
      "Runtime: 4.247186899185181\n",
      "Memory (RSS): 443777024\n",
      "Memory (USS): 432095232\n"
     ]
    }
   ],
   "execution_count": 8
  },
  {
   "cell_type": "markdown",
   "source": [
    "## Discovering Correlated Patterns"
   ],
   "metadata": {
    "id": "bmNkbtS_LIAR"
   },
   "id": "bmNkbtS_LIAR"
  },
  {
   "cell_type": "markdown",
   "source": [
    "### Generic\n",
    "\n",
    "\n",
    "\n",
    "```python\n",
    "from PAMI.correlatedPattern.basic import CoMine as alg\n",
    "\n",
    "obj = alg.CoMine(iFile='inputFileName',\n",
    "        minSup=minimumSupportValue, minAllConf=minimumAllConfidenceValue)\n",
    "obj.mine()\n",
    "obj.save('correlatedPatterns.txt')\n",
    "\n",
    "print('#Patterns: ' + str(len(obj.getPatternsAsDataFrame())))\n",
    "print('Runtime: ' + str(obj.getRuntime()))\n",
    "print('Memory (RSS): ' + str(obj.getMemoryRSS()))\n",
    "print('Memory (USS): ' + str(obj.getMemoryUSS()))\n",
    "```\n",
    "\n"
   ],
   "metadata": {
    "id": "-KMikDejLNj8"
   },
   "id": "-KMikDejLNj8"
  },
  {
   "cell_type": "markdown",
   "source": [
    "### Example 7"
   ],
   "metadata": {
    "id": "VeWLau1ELQvt"
   },
   "id": "VeWLau1ELQvt"
  },
  {
   "cell_type": "code",
   "source": [
    "from PAMI.correlatedPattern.basic import CoMine as alg\n",
    "\n",
    "obj = alg.CoMine(iFile='Transactional_T10I4D100K.csv', minSup=300, minAllConf=0.5)\n",
    "obj.mine()\n",
    "obj.save('correlatedPatterns.txt')\n",
    "\n",
    "print('#Patterns: ' + str(len(obj.getPatternsAsDataFrame())))\n",
    "print('Runtime: ' + str(obj.getRuntime()))\n",
    "print('Memory (RSS): ' + str(obj.getMemoryRSS()))\n",
    "print('Memory (USS): ' + str(obj.getMemoryUSS()))"
   ],
   "metadata": {
    "colab": {
     "base_uri": "https://localhost:8080/"
    },
    "id": "lanvH9puLL_F",
    "outputId": "89905d9f-fe58-42fd-9e1f-a2860fe96bc3",
    "ExecuteTime": {
     "end_time": "2025-06-16T14:50:33.572744Z",
     "start_time": "2025-06-16T14:50:30.786569Z"
    }
   },
   "id": "lanvH9puLL_F",
   "outputs": [
    {
     "name": "stdout",
     "output_type": "stream",
     "text": [
      "Correlated patterns were generated successfully using CoMine algorithm\n",
      "#Patterns: 723\n",
      "Runtime: 2.6564199924468994\n",
      "Memory (RSS): 458899456\n",
      "Memory (USS): 446398464\n"
     ]
    }
   ],
   "execution_count": 9
  },
  {
   "cell_type": "markdown",
   "source": [
    "## Discovering Relative Frequent Patterns"
   ],
   "metadata": {
    "id": "oiCPzdFxLwQ2"
   },
   "id": "oiCPzdFxLwQ2"
  },
  {
   "cell_type": "markdown",
   "source": [
    "### Generic\n",
    "\n",
    "\n",
    "\n",
    "```python\n",
    "from PAMI.relativeFrequentPattern.basic import RSFPGrowth as alg\n",
    "\n",
    "obj = alg.RSFPGrowth(iFile='inputFileName', minSup=minimumSupportCount, minRS=minimumRelativeSupportValue)\n",
    "\n",
    "obj.mine()\n",
    "obj.save('outputFileName')\n",
    "\n",
    "relativeFrequentPatternsDF= obj.getPatternsAsDataFrame()\n",
    "print('#Patterns: ' + str(len(relativeFrequentPatternsDF)))\n",
    "print('Runtime: ' + str(obj.getRuntime())) #measure the runtime\n",
    "print('Memory (RSS): ' + str(obj.getMemoryRSS()))\n",
    "print('Memory (USS): ' + str(obj.getMemoryUSS()))\n",
    "```\n",
    "\n"
   ],
   "metadata": {
    "id": "NgoNQlG9L7nH"
   },
   "id": "NgoNQlG9L7nH"
  },
  {
   "cell_type": "markdown",
   "source": [
    "### Example 8"
   ],
   "metadata": {
    "id": "9pz77qyYL-9T"
   },
   "id": "9pz77qyYL-9T"
  },
  {
   "cell_type": "code",
   "source": [
    "from PAMI.relativeFrequentPattern.basic import RSFPGrowth as alg\n",
    "\n",
    "obj = alg.RSFPGrowth(iFile='Transactional_T10I4D100K.csv', minSup=300, minRS=0.75)\n",
    "\n",
    "obj.mine()\n",
    "obj.save('relativeFrequentPatterns.txt')\n",
    "\n",
    "relativeFrequentPatternsDF= obj.getPatternsAsDataFrame()\n",
    "print('#Patterns: ' + str(len(relativeFrequentPatternsDF)))\n",
    "print('Runtime: ' + str(obj.getRuntime())) #measure the runtime\n",
    "print('Memory (RSS): ' + str(obj.getMemoryRSS()))\n",
    "print('Memory (USS): ' + str(obj.getMemoryUSS()))"
   ],
   "metadata": {
    "colab": {
     "base_uri": "https://localhost:8080/"
    },
    "id": "RG3r3mWELz67",
    "outputId": "d48d2d29-7435-4248-e5f5-922577127a26",
    "ExecuteTime": {
     "end_time": "2025-06-16T14:50:38.746360Z",
     "start_time": "2025-06-16T14:50:33.587436Z"
    }
   },
   "id": "RG3r3mWELz67",
   "outputs": [
    {
     "name": "stdout",
     "output_type": "stream",
     "text": [
      "Relative support frequent patterns were generated successfully using RSFPGrowth algorithm\n",
      "#Patterns: 4540\n",
      "Runtime: 4.575530290603638\n",
      "Memory (RSS): 453230592\n",
      "Memory (USS): 410288128\n"
     ]
    }
   ],
   "execution_count": 10
  },
  {
   "cell_type": "markdown",
   "source": [
    "## Discovering Fault-Tolerant Frequent Patterns"
   ],
   "metadata": {
    "id": "v2NKfNVSMciE"
   },
   "id": "v2NKfNVSMciE"
  },
  {
   "cell_type": "markdown",
   "source": [
    "### Generic\n",
    "\n",
    "\n",
    "\n",
    "```python\n",
    "from PAMI.faultTolerantFrequentPattern.basic import FTFPGrowth as alg\n",
    "\n",
    "obj = alg.FTFPGrowth(iFile='inputFileName', minSup=minimumSupportValue, itemSup=minimumSupportAnItemHasToMaintain, minLength=minimumLengthOfAnItemset, faultTolerance=faultTolerantValue, sep=\"\\t\")\n",
    "obj.mine()\n",
    "\n",
    "print('#Patterns: ' + str(len(relativeFrequentPatternsDF)))\n",
    "print('Runtime: ' + str(obj.getRuntime())) #measure the runtime\n",
    "print('Memory (RSS): ' + str(obj.getMemoryRSS()))\n",
    "print('Memory (USS): ' + str(obj.getMemoryUSS()))\n",
    "```\n",
    "\n"
   ],
   "metadata": {
    "id": "MhOhZwq3MgQ2"
   },
   "id": "MhOhZwq3MgQ2"
  },
  {
   "cell_type": "markdown",
   "source": [
    "### Example 9"
   ],
   "metadata": {
    "id": "2-GzQqFuMj3-"
   },
   "id": "2-GzQqFuMj3-"
  },
  {
   "cell_type": "code",
   "source": [
    "from PAMI.faultTolerantFrequentPattern.basic import FTFPGrowth as alg\n",
    "\n",
    "obj = alg.FTFPGrowth(iFile='Transactional_T10I4D100K.csv', minSup=100, itemSup=100, minLength=3, faultTolerance=1, sep=\"\\t\")\n",
    "\n",
    "obj.mine()\n",
    "\n",
    "print('#Patterns: ' + str(len(relativeFrequentPatternsDF)))\n",
    "print('Runtime: ' + str(obj.getRuntime())) #measure the runtime\n",
    "print('Memory (RSS): ' + str(obj.getMemoryRSS()))\n",
    "print('Memory (USS): ' + str(obj.getMemoryUSS()))"
   ],
   "metadata": {
    "colab": {
     "base_uri": "https://localhost:8080/"
    },
    "id": "nSkzk503Mfhs",
    "outputId": "934499cc-952d-4fe7-b0bf-0900b612d377",
    "ExecuteTime": {
     "end_time": "2025-06-16T14:50:42.944021Z",
     "start_time": "2025-06-16T14:50:38.757288Z"
    }
   },
   "id": "nSkzk503Mfhs",
   "outputs": [
    {
     "name": "stdout",
     "output_type": "stream",
     "text": [
      "Frequent patterns were generated successfully using frequentPatternGrowth algorithm\n",
      "#Patterns: 4540\n",
      "Runtime: 4.158264875411987\n",
      "Memory (RSS): 636108800\n",
      "Memory (USS): 624377856\n"
     ]
    }
   ],
   "execution_count": 11
  },
  {
   "cell_type": "markdown",
   "source": [
    "## Discovering Association Rules From the Frequent Patterns"
   ],
   "metadata": {
    "id": "8PigaEY6Ng3t"
   },
   "id": "8PigaEY6Ng3t"
  },
  {
   "cell_type": "markdown",
   "source": [
    "### Generic\n",
    "\n",
    "\n",
    "\n",
    "```python\n",
    "from PAMI.AssociationRules.basic import confidence as alg\n",
    "\n",
    "obj = alg.confidence('inputFileName', minConf=minimumConfidenceValue)\n",
    "obj.mine()\n",
    "obj.printResults()\n",
    "obj.save(\"outputFileName\")\n",
    "```\n",
    "\n"
   ],
   "metadata": {
    "id": "jeFj4OWVNmtm"
   },
   "id": "jeFj4OWVNmtm"
  },
  {
   "cell_type": "markdown",
   "source": [
    "### Example 10"
   ],
   "metadata": {
    "id": "EZEFTHfsNsLR"
   },
   "id": "EZEFTHfsNsLR"
  },
  {
   "cell_type": "code",
   "source": [
    "from PAMI.AssociationRules.basic import confidence as alg\n",
    "\n",
    "obj = alg.confidence('frequentPatternsAtMinSupCount300.txt', minConf=0.75)\n",
    "obj.mine()\n",
    "obj.printResults()\n",
    "obj.save(\"associationRulesconfidence.csv\")"
   ],
   "metadata": {
    "colab": {
     "base_uri": "https://localhost:8080/"
    },
    "id": "5otyL8jjNkdh",
    "outputId": "ef9153df-00a8-4e5f-f123-2748a445c955",
    "ExecuteTime": {
     "end_time": "2025-06-16T14:50:43.013509Z",
     "start_time": "2025-06-16T14:50:42.958673Z"
    }
   },
   "id": "5otyL8jjNkdh",
   "outputs": [
    {
     "name": "stdout",
     "output_type": "stream",
     "text": [
      "Association rules successfully  generated from frequent patterns \n",
      "Total number of Association Rules: 22984\n",
      "Total Memory in USS: 629325824\n",
      "Total Memory in RSS 641220608\n",
      "Total ExecutionTime in ms: 0.012109041213989258\n"
     ]
    }
   ],
   "execution_count": 12
  }
 ],
 "metadata": {
  "kernelspec": {
   "display_name": "Python 3",
   "language": "python",
   "name": "python3"
  },
  "language_info": {
   "codemirror_mode": {
    "name": "ipython",
    "version": 2
   },
   "file_extension": ".py",
   "mimetype": "text/x-python",
   "name": "python",
   "nbconvert_exporter": "python",
   "pygments_lexer": "ipython2",
   "version": "2.7.6"
  },
  "colab": {
   "provenance": [],
   "toc_visible": true,
   "include_colab_link": true
  }
 },
 "nbformat": 4,
 "nbformat_minor": 5
}
