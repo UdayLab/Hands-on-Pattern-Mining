{
 "cells": [
  {
   "cell_type": "markdown",
   "metadata": {
    "id": "view-in-github",
    "colab_type": "text"
   },
   "source": [
    "<a href=\"https://colab.research.google.com/github/UdayLab/Hands-on-Pattern-Mining/blob/main/chapter3.ipynb\" target=\"_parent\"><img src=\"https://colab.research.google.com/assets/colab-badge.svg\" alt=\"Open In Colab\"/></a>"
   ],
   "id": "5ded63cd30d7bef4"
  },
  {
   "cell_type": "markdown",
   "source": [
    "# **Chapter 3: Transactional Databases - Representation, Creation, and Statistics**"
   ],
   "metadata": {
    "id": "rERy9OaWArsH"
   },
   "id": "rERy9OaWArsH"
  },
  {
   "cell_type": "markdown",
   "source": [
    "## Installing the PAMI Library"
   ],
   "metadata": {
    "id": "awgt4UMEAy2U"
   },
   "id": "awgt4UMEAy2U"
  },
  {
   "cell_type": "code",
   "source": [
    "!pip install pami"
   ],
   "metadata": {
    "colab": {
     "base_uri": "https://localhost:8080/"
    },
    "id": "dB4AHoJJBUL1",
    "outputId": "db1e7c6a-bac3-4ea5-f0ac-3702bd71d9a9",
    "ExecuteTime": {
     "end_time": "2025-06-16T14:49:42.288498Z",
     "start_time": "2025-06-16T14:49:42.166287Z"
    }
   },
   "id": "dB4AHoJJBUL1",
   "outputs": [
    {
     "name": "stdout",
     "output_type": "stream",
     "text": [
      "zsh:1: command not found: pip\r\n"
     ]
    }
   ],
   "execution_count": 1
  },
  {
   "cell_type": "markdown",
   "source": [
    "## Creating Synthetic Transactional Databases"
   ],
   "metadata": {
    "id": "8zOhEW2sBeM1"
   },
   "id": "8zOhEW2sBeM1"
  },
  {
   "cell_type": "markdown",
   "source": [
    "Generic\n",
    "\n",
    "```python\n",
    "from PAMI.extras.syntheticDataGenerator import TransactionalDatabase as db\n",
    "  \n",
    "obj = db.TransactionalDatabase(\n",
    "        databaseSize=numberOfTransactions,\n",
    "        avgItemsPerTransaction=averageNumberOfItemsInTransaction,\n",
    "        numItems=totalNumberOfItemsInADatabase,\n",
    "        sep='\\t' #default seperator\n",
    "        )\n",
    "obj.create() #creating the synthetic transactional database\n",
    "obj.save(outputFileName) #save the file\n",
    "transactionalDataFrame=obj.getTransactions() #reading the transactions into a dataframe\n",
    "\n",
    "#printing stats\n",
    "print('Runtime: ' + str(obj.getRuntime()))\n",
    "print('Memory (RSS): ' + str(obj.getMemoryRSS()))\n",
    "print('Memory (USS): ' + str(obj.getMemoryUSS()))\n",
    "```\n",
    "\n"
   ],
   "metadata": {
    "id": "tcPkA5njBqXy"
   },
   "id": "tcPkA5njBqXy"
  },
  {
   "cell_type": "markdown",
   "source": [
    "### Example 1"
   ],
   "metadata": {
    "id": "k1xnPqDUCNkt"
   },
   "id": "k1xnPqDUCNkt"
  },
  {
   "cell_type": "code",
   "id": "initial_id",
   "metadata": {
    "collapsed": true,
    "colab": {
     "base_uri": "https://localhost:8080/"
    },
    "id": "initial_id",
    "outputId": "f8a39e7e-4319-4a20-87a0-d724fda9e5aa",
    "ExecuteTime": {
     "end_time": "2025-06-16T14:49:48.033259Z",
     "start_time": "2025-06-16T14:49:42.412621Z"
    }
   },
   "source": [
    "from PAMI.extras.syntheticDataGenerator import TransactionalDatabase as db\n",
    "\n",
    "obj = db.TransactionalDatabase(\n",
    "        databaseSize=100000,\n",
    "        avgItemsPerTransaction=10,\n",
    "        numItems=1000,\n",
    "        sep='\\t'\n",
    "        )\n",
    "obj.create()\n",
    "obj.save('transactionalDatabase.csv')\n",
    "#read the generated transactions into a dataframe\n",
    "transactionalDataFrame=obj.getTransactions()\n",
    "#stats\n",
    "print('Runtime: ' + str(obj.getRuntime()))\n",
    "print('Memory (RSS): ' + str(obj.getMemoryRSS()))\n",
    "print('Memory (USS): ' + str(obj.getMemoryUSS()))"
   ],
   "outputs": [
    {
     "name": "stdout",
     "output_type": "stream",
     "text": [
      "Runtime: 4.526759147644043\n",
      "Memory (RSS): 88031232\n",
      "Memory (USS): 57589760\n"
     ]
    }
   ],
   "execution_count": 2
  },
  {
   "cell_type": "markdown",
   "source": [
    "## Deriving a Transactional Database from a DataFrame"
   ],
   "metadata": {
    "id": "nQ2A1cXwCgYz"
   },
   "id": "nQ2A1cXwCgYz"
  },
  {
   "cell_type": "markdown",
   "source": [
    "### Generic\n",
    "\n",
    "\n",
    "\n",
    "```python\n",
    "from PAMI.extras.convert import DF2DB as alg\n",
    "\n",
    "#converting the database into a transactional database by\n",
    "#considering values greater than or equal to 36\n",
    "obj = alg.DF2DB(dataFrame)\n",
    "obj.convert2TransactionalDatabase(oFile='outputFileName.csv',\n",
    "       condition='>=|>|==|!=|<=|<', thresholdValue=value\n",
    "     )\n",
    "print('Runtime: ' + str(obj.getRuntime()))\n",
    "print('Memory (RSS): ' + str(obj.getMemoryRSS()))\n",
    "print('Memory (USS): ' + str(obj.getMemoryUSS()))\n",
    "```\n",
    "\n"
   ],
   "metadata": {
    "id": "0iY2ZeIKCiO1"
   },
   "id": "0iY2ZeIKCiO1"
  },
  {
   "cell_type": "markdown",
   "source": [
    "### Example 2"
   ],
   "metadata": {
    "id": "AsEWUGacDIGD"
   },
   "id": "AsEWUGacDIGD"
  },
  {
   "cell_type": "code",
   "source": [
    "from PAMI.extras.convert import DF2DB as alg\n",
    "import pandas as pd\n",
    "import numpy as np\n",
    "\n",
    "#creating a 1000 x 4 dataframe with random values\n",
    "data = np.random.randint(1, 100, size=(1000, 4))\n",
    "dataFrame = pd.DataFrame(data,\n",
    "             columns=['Item1', 'Item2', 'Item3', 'Item4']\n",
    "            )\n",
    "#converting the database into a transactional database by\n",
    "#considering values greater than or equal to 36\n",
    "obj = alg.DF2DB(dataFrame)\n",
    "obj.convert2TransactionalDatabase(oFile='transactionalDB.csv',\n",
    "       condition='>=', thresholdValue=36\n",
    "     )\n",
    "print('Runtime: ' + str(obj.getRuntime()))\n",
    "print('Memory (RSS): ' + str(obj.getMemoryRSS()))\n",
    "print('Memory (USS): ' + str(obj.getMemoryUSS()))"
   ],
   "metadata": {
    "colab": {
     "base_uri": "https://localhost:8080/"
    },
    "id": "IoJFF28tChTC",
    "outputId": "fc620355-b712-4b1d-b582-eb649cc13e81",
    "ExecuteTime": {
     "end_time": "2025-06-16T14:49:48.065181Z",
     "start_time": "2025-06-16T14:49:48.049214Z"
    }
   },
   "id": "IoJFF28tChTC",
   "outputs": [
    {
     "name": "stdout",
     "output_type": "stream",
     "text": [
      "Runtime: 0.007049083709716797\n",
      "Memory (RSS): 108855296\n",
      "Memory (USS): 74858496\n"
     ]
    }
   ],
   "execution_count": 3
  },
  {
   "cell_type": "markdown",
   "source": [
    "## Knowing the Statistical Details"
   ],
   "metadata": {
    "id": "8QoekW_ODd0V"
   },
   "id": "8QoekW_ODd0V"
  },
  {
   "cell_type": "markdown",
   "source": [
    "### Generic"
   ],
   "metadata": {
    "id": "LN1pATQ3Dfrd"
   },
   "id": "LN1pATQ3Dfrd"
  },
  {
   "cell_type": "markdown",
   "source": [
    "\n",
    "#### *Detailed version*\n",
    "```python\n",
    "from PAMI.extras.dbStats import TransactionalDatabase as stat\n",
    "\n",
    "obj = stat.TransactionalDatabase(\"transactionalDatabase.csv\")\n",
    "obj.run()\n",
    "print(f'Database size : {obj.getDatabaseSize()}')\n",
    "print(f'Total number of items : {obj.getTotalNumberOfItems()}')\n",
    "print(f'Database sparsity : {obj.getSparsity()}')\n",
    "print(f'Minimum Transaction Size : {obj.getMinimumTransactionLength()}')\n",
    "print(f'Average Transaction Size : {obj.getAverageTransactionLength()}')\n",
    "print(f'Maximum Transaction Size : {obj.getMaximumTransactionLength()}')\n",
    "print(f'Standard Deviation Transaction Size : {obj.getStandardDeviationTransactionLength()}')\n",
    "print(f'Variance in Transaction Sizes : {obj.getVarianceTransactionLength()')\n",
    "print(f'Database sparsity :{obj.getSparsity()}')\n",
    "```"
   ],
   "metadata": {
    "id": "3eDA4akoEkSA"
   },
   "id": "3eDA4akoEkSA"
  },
  {
   "cell_type": "markdown",
   "source": [
    "#### *Simplified version*\n",
    "\n",
    "```python\n",
    "from PAMI.extras.dbStats import TransactionalDatabase as stat\n",
    "\n",
    "obj = stat.TransactionalDatabase(\"transactionalDatabase.csv\")\n",
    "obj.run()\n",
    "obj.printStats()\n",
    "obj.plotGraphs()\n",
    "```"
   ],
   "metadata": {
    "id": "BB9GJh1MEnHW"
   },
   "id": "BB9GJh1MEnHW"
  },
  {
   "cell_type": "markdown",
   "source": [
    "### Example 3"
   ],
   "metadata": {
    "id": "UUQXRQXXEesl"
   },
   "id": "UUQXRQXXEesl"
  },
  {
   "cell_type": "code",
   "source": [
    "from PAMI.extras.dbStats import TransactionalDatabase as stat\n",
    "\n",
    "obj = stat.TransactionalDatabase(\"transactionalDatabase.csv\")\n",
    "obj.run()\n",
    "obj.printStats()\n",
    "obj.plotGraphs()"
   ],
   "metadata": {
    "colab": {
     "base_uri": "https://localhost:8080/",
     "height": 1000
    },
    "id": "BufYVBvZDe9-",
    "outputId": "e311096e-4bf0-4b92-f920-c6181d829c76",
    "ExecuteTime": {
     "end_time": "2025-06-16T14:50:04.258279Z",
     "start_time": "2025-06-16T14:49:48.086491Z"
    }
   },
   "id": "BufYVBvZDe9-",
   "outputs": [
    {
     "name": "stdout",
     "output_type": "stream",
     "text": [
      "Database size (total no of transactions) : 100000\n",
      "Number of items : 1000\n",
      "Minimum Transaction Size : 1\n",
      "Average Transaction Size : 10.02488\n",
      "Maximum Transaction Size : 20\n",
      "Standard Deviation Transaction Size : 5.743070693070041\n",
      "Variance in Transaction Sizes : 32.983190817508174\n",
      "Sparsity : 0.98997512\n"
     ]
    },
    {
     "data": {
      "text/plain": [
       "<Figure size 640x480 with 1 Axes>"
      ],
      "image/png": "[encoded data removed]"
     },
     "metadata": {},
     "output_type": "display_data"
    },
    {
     "data": {
      "text/plain": [
       "<Figure size 640x480 with 1 Axes>"
      ],
      "image/png": "[encoded data removed]"
     },
     "metadata": {},
     "output_type": "display_data"
    }
   ],
   "execution_count": 4
  }
 ],
 "metadata": {
  "kernelspec": {
   "display_name": "Python 3",
   "language": "python",
   "name": "python3"
  },
  "language_info": {
   "codemirror_mode": {
    "name": "ipython",
    "version": 2
   },
   "file_extension": ".py",
   "mimetype": "text/x-python",
   "name": "python",
   "nbconvert_exporter": "python",
   "pygments_lexer": "ipython2",
   "version": "2.7.6"
  },
  "colab": {
   "provenance": [],
   "toc_visible": true,
   "include_colab_link": true
  }
 },
 "nbformat": 4,
 "nbformat_minor": 5
}
