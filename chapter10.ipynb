{
 "cells": [
  {
   "cell_type": "markdown",
   "metadata": {
    "id": "view-in-github",
    "colab_type": "text"
   },
   "source": [
    "<a href=\"https://colab.research.google.com/github/vanithakattumuri/Hands-on-Pattern-Mining/blob/main/chapter10.ipynb\" target=\"_parent\"><img src=\"https://colab.research.google.com/assets/colab-badge.svg\" alt=\"Open In Colab\"/></a>"
   ],
   "id": "a335c820b23596d1"
  },
  {
   "cell_type": "markdown",
   "source": [
    "# Chapter 10: Pattern Discovery in Utility Databases"
   ],
   "metadata": {
    "id": "tKoQVfK1FYf1"
   },
   "id": "tKoQVfK1FYf1"
  },
  {
   "cell_type": "markdown",
   "source": [
    "## Install the PAMI library"
   ],
   "metadata": {
    "id": "_0yJAW9QFbEI"
   },
   "id": "_0yJAW9QFbEI"
  },
  {
   "cell_type": "code",
   "id": "initial_id",
   "metadata": {
    "colab": {
     "base_uri": "https://localhost:8080/"
    },
    "id": "initial_id",
    "outputId": "0c5e43f5-f0a1-4982-90c6-9dc4633ba185",
    "ExecuteTime": {
     "end_time": "2025-06-16T23:00:34.134200Z",
     "start_time": "2025-06-16T23:00:34.006653Z"
    }
   },
   "source": [
    "!pip install --upgrade pami"
   ],
   "outputs": [
    {
     "name": "stdout",
     "output_type": "stream",
     "text": [
      "zsh:1: command not found: pip\r\n"
     ]
    }
   ],
   "execution_count": 1
  },
  {
   "cell_type": "markdown",
   "source": [
    "## Download the dataset"
   ],
   "metadata": {
    "id": "kFZuOhUBFgxM"
   },
   "id": "kFZuOhUBFgxM"
  },
  {
   "cell_type": "code",
   "source": [
    "!wget -nc https://web-ext.u-aizu.ac.jp/~udayrage/datasets/utilityDatabases/Utility_T10I4D100K.csv"
   ],
   "metadata": {
    "colab": {
     "base_uri": "https://localhost:8080/"
    },
    "id": "mHqZBS2rFjCg",
    "outputId": "17e80eff-b3d3-4ebc-fc25-6535201fd52a",
    "ExecuteTime": {
     "end_time": "2025-06-16T23:00:34.404585Z",
     "start_time": "2025-06-16T23:00:34.238944Z"
    }
   },
   "id": "mHqZBS2rFjCg",
   "outputs": [
    {
     "name": "stdout",
     "output_type": "stream",
     "text": [
      "File ‘Utility_T10I4D100K.csv’ already there; not retrieving.\r\n",
      "\r\n"
     ]
    }
   ],
   "execution_count": 2
  },
  {
   "cell_type": "markdown",
   "source": [
    "## Finding high utility patterns"
   ],
   "metadata": {
    "id": "zguYkimYFqQ4"
   },
   "id": "zguYkimYFqQ4"
  },
  {
   "cell_type": "markdown",
   "source": [
    "### Generic\n",
    "\n",
    "\n",
    "\n",
    "```python\n",
    "from PAMI.highUtilityPattern.basic\n",
    "    import EFIM  as alg#import the algorithm\n",
    "\n",
    "obj = alg.EFIM(iFile='utilityDatabase.csv',\n",
    "                minUtil=minUtilCount,\n",
    "                sep='\\t') #initialize\n",
    "obj.mine()            #start the mining process\n",
    "\n",
    "obj.save('utilityPatterns.txt') #save the patterns\n",
    "\n",
    "utilityPatternsDF= obj.getPatternsAsDataFrame()\n",
    "print('# patterns: ' + str(len(utilityPatternsDF)))  \n",
    "print('Runtime: ' + str(obj.getRuntime()))\n",
    "\n",
    "print('Memory (RSS): ' + str(obj.getMemoryRSS()))\n",
    "print('Memory (USS): ' + str(obj.getMemoryUSS()))\n",
    "```\n",
    "\n"
   ],
   "metadata": {
    "id": "rNYdHV5bF4qK"
   },
   "id": "rNYdHV5bF4qK"
  },
  {
   "cell_type": "markdown",
   "source": [
    "### Example 1"
   ],
   "metadata": {
    "id": "tAdGpFdrF_Ww"
   },
   "id": "tAdGpFdrF_Ww"
  },
  {
   "cell_type": "code",
   "source": [
    "from PAMI.highUtilityPattern.basic import EFIM  as alg #import the algorithm\n",
    "\n",
    "obj = alg.EFIM(iFile='Utility_T10I4D100K.csv',\n",
    "                minUtil=50000,\n",
    "                sep='\\t') #initialize\n",
    "obj.mine()            #start the mining process\n",
    "\n",
    "obj.save('utilityPatterns.txt') #save the patterns\n",
    "\n",
    "utilityPatternsDF= obj.getPatternsAsDataFrame()\n",
    "print('# patterns: ' + str(len(utilityPatternsDF)))\n",
    "print('Runtime: ' + str(obj.getRuntime()))\n",
    "\n",
    "print('Memory (RSS): ' + str(obj.getMemoryRSS()))\n",
    "print('Memory (USS): ' + str(obj.getMemoryUSS()))"
   ],
   "metadata": {
    "colab": {
     "base_uri": "https://localhost:8080/"
    },
    "id": "xHIfupwWF4HO",
    "outputId": "aabb1fd5-8d10-4deb-a1c2-d162bd348a19",
    "ExecuteTime": {
     "end_time": "2025-06-16T23:01:25.248067Z",
     "start_time": "2025-06-16T23:00:34.413747Z"
    }
   },
   "id": "xHIfupwWF4HO",
   "outputs": [
    {
     "name": "stdout",
     "output_type": "stream",
     "text": [
      "High Utility patterns were generated successfully using EFIM algorithm\n",
      "# patterns: 5968\n",
      "Runtime: 49.29777693748474\n",
      "Memory (RSS): 163725312\n",
      "Memory (USS): 157106176\n"
     ]
    }
   ],
   "execution_count": 3
  },
  {
   "cell_type": "markdown",
   "source": [
    "## Discovering High Utility Frequent Patterns"
   ],
   "metadata": {
    "id": "2g_aaMp1GMUX"
   },
   "id": "2g_aaMp1GMUX"
  },
  {
   "cell_type": "markdown",
   "source": [
    "### Generic\n",
    "\n",
    "\n",
    "\n",
    "\n",
    "```python\n",
    "from PAMI.highUtilityFrequentPattern.basic\n",
    "    import HUFIM  as alg\n",
    "\n",
    "obj = alg.HUFIM(iFile=inputFile,\n",
    "    minUtil=minUtilCount,\n",
    "    minSup=minimumSupportCount,\n",
    "    sep='\\t')\n",
    "obj.mine()   \n",
    "\n",
    "obj.save('utilityFrequentPatternsAtMinSup.txt')\n",
    "\n",
    "utilityFPDF= obj.getPatternsAsDataFrame()  \n",
    "print('Total No of patterns: ' + str(len(utilityFPDF))\n",
    "print('Runtime: ' + str(obj.getRuntime()))\n",
    "print('Memory (RSS): ' + str(obj.getMemoryRSS()))\n",
    "print('Memory (USS): ' + str(obj.getMemoryUSS()))\n",
    "```\n",
    "\n"
   ],
   "metadata": {
    "id": "nXJ1tx8DGRjW"
   },
   "id": "nXJ1tx8DGRjW"
  },
  {
   "cell_type": "markdown",
   "source": [
    "### Example 2"
   ],
   "metadata": {
    "id": "-cYE2RjmGYfu"
   },
   "id": "-cYE2RjmGYfu"
  },
  {
   "cell_type": "code",
   "source": [
    "from PAMI.highUtilityFrequentPattern.basic import HUFIM  as alg\n",
    "\n",
    "obj = alg.HUFIM(iFile='Utility_T10I4D100K.csv',\n",
    "    minUtil=50000,\n",
    "    minSup=1000,\n",
    "    sep='\\t')\n",
    "obj.mine()\n",
    "\n",
    "obj.save('utilityFrequentPatternsAtMinSup.txt')\n",
    "\n",
    "utilityFPDF= obj.getPatternsAsDataFrame()\n",
    "print('Total No of patterns: ' + str(len(utilityFPDF)))\n",
    "print('Runtime: ' + str(obj.getRuntime()))\n",
    "print('Memory (RSS): ' + str(obj.getMemoryRSS()))\n",
    "print('Memory (USS): ' + str(obj.getMemoryUSS()))"
   ],
   "metadata": {
    "id": "9hArhengGQz4",
    "outputId": "aa7cfdd6-8bc3-44f7-c606-497a7746df5b",
    "colab": {
     "base_uri": "https://localhost:8080/"
    },
    "ExecuteTime": {
     "end_time": "2025-06-16T23:01:46.658171Z",
     "start_time": "2025-06-16T23:01:25.291798Z"
    }
   },
   "id": "9hArhengGQz4",
   "outputs": [
    {
     "name": "stdout",
     "output_type": "stream",
     "text": [
      "High Utility Frequent patterns were generated successfully using HUFIM algorithm\n",
      "Total No of patterns: 382\n",
      "Runtime: 21.242650747299194\n",
      "Memory (RSS): 93847552\n",
      "Memory (USS): 87343104\n"
     ]
    }
   ],
   "execution_count": 4
  },
  {
   "cell_type": "code",
   "source": [],
   "metadata": {
    "id": "DsdPQENx-3TE",
    "ExecuteTime": {
     "end_time": "2025-06-16T23:01:46.760148Z",
     "start_time": "2025-06-16T23:01:46.758816Z"
    }
   },
   "id": "DsdPQENx-3TE",
   "outputs": [],
   "execution_count": null
  }
 ],
 "metadata": {
  "kernelspec": {
   "display_name": "Python 3",
   "language": "python",
   "name": "python3"
  },
  "language_info": {
   "codemirror_mode": {
    "name": "ipython",
    "version": 2
   },
   "file_extension": ".py",
   "mimetype": "text/x-python",
   "name": "python",
   "nbconvert_exporter": "python",
   "pygments_lexer": "ipython2",
   "version": "2.7.6"
  },
  "colab": {
   "provenance": [],
   "include_colab_link": true
  }
 },
 "nbformat": 4,
 "nbformat_minor": 5
}
