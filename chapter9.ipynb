{
 "cells": [
  {
   "cell_type": "markdown",
   "metadata": {
    "id": "view-in-github",
    "colab_type": "text"
   },
   "source": [
    "<a href=\"https://colab.research.google.com/github/vanithakattumuri/Hands-on-Pattern-Mining/blob/main/chapter9.ipynb\" target=\"_parent\"><img src=\"https://colab.research.google.com/assets/colab-badge.svg\" alt=\"Open In Colab\"/></a>"
   ],
   "id": "2ee65741344a4020"
  },
  {
   "cell_type": "markdown",
   "source": [
    "# Chapter 9: Utility Databases - Representation, Creation, and Statistics"
   ],
   "metadata": {
    "id": "acRa2JmapsJQ"
   },
   "id": "acRa2JmapsJQ"
  },
  {
   "cell_type": "markdown",
   "source": [
    "## Install the PAMI library"
   ],
   "metadata": {
    "id": "y742XB9opvlu"
   },
   "id": "y742XB9opvlu"
  },
  {
   "cell_type": "code",
   "id": "initial_id",
   "metadata": {
    "collapsed": true,
    "colab": {
     "base_uri": "https://localhost:8080/"
    },
    "id": "initial_id",
    "outputId": "00f97314-9f95-4b06-82b2-e24e237299d8",
    "ExecuteTime": {
     "end_time": "2025-06-16T15:21:06.682022Z",
     "start_time": "2025-06-16T15:21:06.556434Z"
    }
   },
   "source": [
    "!pip install --upgrade pami"
   ],
   "outputs": [
    {
     "name": "stdout",
     "output_type": "stream",
     "text": [
      "zsh:1: command not found: pip\r\n"
     ]
    }
   ],
   "execution_count": 1
  },
  {
   "cell_type": "markdown",
   "source": [
    "## Download the dataset"
   ],
   "metadata": {
    "id": "_2M0-iNBp01l"
   },
   "id": "_2M0-iNBp01l"
  },
  {
   "cell_type": "code",
   "source": [
    "!wget -nc https://web-ext.u-aizu.ac.jp/~udayrage/datasets/utilityDatabases/Utility_T10I4D100K.csv"
   ],
   "metadata": {
    "colab": {
     "base_uri": "https://localhost:8080/"
    },
    "id": "4qZMLku4sRtj",
    "outputId": "82cb25d6-9899-4ce6-d4cc-a41c8ee6fbc5",
    "ExecuteTime": {
     "end_time": "2025-06-16T15:21:08.572861Z",
     "start_time": "2025-06-16T15:21:06.808779Z"
    }
   },
   "id": "4qZMLku4sRtj",
   "outputs": [
    {
     "name": "stdout",
     "output_type": "stream",
     "text": [
      "--2025-06-17 00:21:06--  https://web-ext.u-aizu.ac.jp/~udayrage/datasets/utilityDatabases/Utility_T10I4D100K.csv\r\n",
      "Resolving web-ext.u-aizu.ac.jp (web-ext.u-aizu.ac.jp)... 163.143.103.34\r\n",
      "Connecting to web-ext.u-aizu.ac.jp (web-ext.u-aizu.ac.jp)|163.143.103.34|:443... connected.\r\n",
      "HTTP request sent, awaiting response... 200 OK\r\n",
      "Length: 7356594 (7.0M) [text/csv]\r\n",
      "Saving to: ‘Utility_T10I4D100K.csv’\r\n",
      "\r\n",
      "Utility_T10I4D100K. 100%[===================>]   7.02M  8.01MB/s    in 0.9s    \r\n",
      "\r\n",
      "2025-06-17 00:21:08 (8.01 MB/s) - ‘Utility_T10I4D100K.csv’ saved [7356594/7356594]\r\n",
      "\r\n"
     ]
    }
   ],
   "execution_count": 2
  },
  {
   "cell_type": "markdown",
   "source": [
    "## Generic of Synthetic Utility Database"
   ],
   "metadata": {
    "id": "M5SDuUmOpzRW"
   },
   "id": "M5SDuUmOpzRW"
  },
  {
   "cell_type": "markdown",
   "source": [
    "### Generic\n",
    "\n",
    "\n",
    "\n",
    "```python\n",
    "\n",
    "from PAMI.extras.syntheticDataGenerator  import utilityDatabase as db\n",
    "  \n",
    "# Create a UtilityDatabase object with specified parameters\n",
    "obj = db.UtilityDataGenerator(\n",
    "        databaseSize=totalNumberOfTransactions,\n",
    "        avgItemsPerTransaction=averageItemsPerTransaction,\n",
    "        numItems=totalNumberOfItemsInDatabase,\n",
    "        minInternalUtilityValue=minimumInternalUtilityAnItemCanHaveInDatabase,\n",
    "        maxInternalUtilityValue=maximumInternalUtilityAnItemCanHaveInDatabase,\n",
    "        minExternalUtilityValue=minimumExternalUtilityAnItemCanHaveInDatabase,\n",
    "        maxExternalUtilityValue=maximumExternalUtilityAnItemCanHaveInDatabase,\n",
    "        sep='\\t'\n",
    "        )\n",
    "\n",
    "# Generate the synthetic utility database\n",
    "obj.Generate()\n",
    "\n",
    "# Save the generated database to a CSV file\n",
    "obj.Save('utilityDatabase.csv')\n",
    "\n",
    "# Read the generated transactions into a dataframe\n",
    "utilityDataFrame = obj.GetUtilityData()\n",
    "print(utilityDataFrame)\n",
    "```\n",
    "\n"
   ],
   "metadata": {
    "id": "iyXwPfq4qBMw"
   },
   "id": "iyXwPfq4qBMw"
  },
  {
   "cell_type": "markdown",
   "source": [
    "### Example 1"
   ],
   "metadata": {
    "id": "xUG5nDGiqJ2I"
   },
   "id": "xUG5nDGiqJ2I"
  },
  {
   "cell_type": "code",
   "source": [
    "from PAMI.extras.syntheticDataGenerator import UtilityDatabase as db\n",
    "\n",
    "# Create a UtilityDatabase object with specified parameters\n",
    "obj = db.UtilityDatabase(\n",
    "        databaseSize=100000,\n",
    "        avgItemsPerTransaction=10,\n",
    "        numItems=1000,\n",
    "        minInternalUtilityValue=1,\n",
    "        maxInternalUtilityValue=100,\n",
    "        minExternalUtilityValue=100,\n",
    "        maxExternalUtilityValue=1000)\n",
    "\n",
    "obj.create()\n",
    "\n",
    "# Save the generated database to a CSV file\n",
    "obj.save('utilityDatabase.csv')\n",
    "\n",
    "# Read the generated utility transactions into a dataframe\n",
    "utilityDataFrame = obj.GetUtilityData()\n",
    "print(utilityDataFrame)"
   ],
   "metadata": {
    "colab": {
     "base_uri": "https://localhost:8080/"
    },
    "id": "joKbxtWPqDPy",
    "outputId": "4161a5a0-238a-4d95-81a2-f3815fa6e31c",
    "ExecuteTime": {
     "end_time": "2025-06-16T23:00:02.042818Z",
     "start_time": "2025-06-16T22:59:44.131429Z"
    }
   },
   "id": "joKbxtWPqDPy",
   "outputs": [
    {
     "name": "stdout",
     "output_type": "stream",
     "text": [
      "       Entry ID                                            Entries    Sum\n",
      "0             1  [99, 80, 10, 91, 60, 5, 88, 44, 73, 52, 4, 43,...  50738\n",
      "1             2  [91, 61, 33, 50, 45, 66, 36, 46, 28, 68, 63, 3...  51336\n",
      "2             3  [97, 21, 31, 85, 95, 71, 100, 76, 66, 48, 74, ...  51364\n",
      "3             4  [63, 39, 67, 4, 59, 20, 43, 17, 41, 15, 59, 39...  51086\n",
      "4             5  [43, 63, 98, 21, 22, 79, 64, 46, 8, 100, 13, 7...  47936\n",
      "...         ...                                                ...    ...\n",
      "99995     99996  [9, 75, 37, 66, 76, 93, 34, 67, 29, 97, 36, 38...  50285\n",
      "99996     99997  [2, 47, 17, 95, 11, 65, 27, 51, 7, 27, 17, 49,...  49214\n",
      "99997     99998  [50, 51, 79, 64, 52, 12, 33, 47, 57, 39, 5, 10...  52103\n",
      "99998     99999  [12, 26, 81, 67, 95, 13, 21, 51, 82, 87, 32, 1...  48782\n",
      "99999    100000  [74, 84, 45, 48, 47, 44, 2, 48, 24, 44, 30, 26...  51056\n",
      "\n",
      "[100000 rows x 3 columns]\n"
     ]
    }
   ],
   "execution_count": 9
  },
  {
   "cell_type": "markdown",
   "source": [
    "## Converting a DataFrame into a Utility Database"
   ],
   "metadata": {
    "id": "DwW52E5-q9O-"
   },
   "id": "DwW52E5-q9O-"
  },
  {
   "cell_type": "markdown",
   "source": [
    "### Generic code\n",
    "\n",
    "\n",
    "\n",
    "```python\n",
    "\n",
    "from PAMI.extras.convert import DF2DB as alg\n",
    "import pandas as pd\n",
    "import numpy as np\n",
    "\n",
    "#creating a 4 x 4 dataframe with random values\n",
    "data = np.random.randint(1, 100, size=(4, 4))\n",
    "dataFrame = pd.DataFrame(data_4x4,\n",
    "             columns=['Item1', 'Item2', 'Item3', 'Item4']\n",
    "            )\n",
    "#converting the database into a transactional database by\n",
    "#considering values greater than or equal to 36\n",
    "obj = alg.DF2DB(dataFrame)\n",
    "obj.convert2UtilityDatabase(oFile='utilityDB.csv')\n",
    "print('Runtime: ' + str(obj.getRuntime()))\n",
    "print('Memory (RSS): ' + str(obj.getMemoryRSS()))\n",
    "print('Memory (USS): ' + str(obj.getMemoryUSS()))\n",
    "```\n",
    "\n"
   ],
   "metadata": {
    "id": "9fKVdC_4rHjS"
   },
   "id": "9fKVdC_4rHjS"
  },
  {
   "cell_type": "markdown",
   "source": [
    "### Example 2"
   ],
   "metadata": {
    "id": "HJZNzA3nrMgj"
   },
   "id": "HJZNzA3nrMgj"
  },
  {
   "cell_type": "code",
   "source": [
    "from PAMI.extras.convert import DF2DB as alg\n",
    "import pandas as pd\n",
    "import numpy as np\n",
    "\n",
    "#creating a 4 x 4 dataframe with random values\n",
    "data = np.random.randint(1, 100, size=(4, 4))\n",
    "dataFrame = pd.DataFrame(data,\n",
    "             columns=['Item1', 'Item2', 'Item3', 'Item4']\n",
    "            )\n",
    "#converting the database into a utility transactional database.\n",
    "obj = alg.DF2DB(dataFrame)\n",
    "obj.convert2UtilityDatabase(oFile='utilityDB.csv')\n",
    "print('Runtime: ' + str(obj.getRuntime()))\n",
    "print('Memory (RSS): ' + str(obj.getMemoryRSS()))\n",
    "print('Memory (USS): ' + str(obj.getMemoryUSS()))"
   ],
   "metadata": {
    "colab": {
     "base_uri": "https://localhost:8080/"
    },
    "id": "FqIH2nwsrGxf",
    "outputId": "e2115c73-dd24-46bf-cb50-d8608e41cdfd",
    "ExecuteTime": {
     "end_time": "2025-06-16T23:00:10.020021Z",
     "start_time": "2025-06-16T23:00:09.988022Z"
    }
   },
   "id": "FqIH2nwsrGxf",
   "outputs": [
    {
     "name": "stdout",
     "output_type": "stream",
     "text": [
      "Runtime: 0.0031690597534179688\n",
      "Memory (RSS): 70926336\n",
      "Memory (USS): 60030976\n"
     ]
    }
   ],
   "execution_count": 10
  },
  {
   "cell_type": "code",
   "source": [
    "!head utilityDB.csv"
   ],
   "metadata": {
    "colab": {
     "base_uri": "https://localhost:8080/"
    },
    "id": "LKx1JIDlrXYc",
    "outputId": "ca79db38-9f14-4713-b38c-2380cd773ca8",
    "ExecuteTime": {
     "end_time": "2025-06-16T23:00:14.180764Z",
     "start_time": "2025-06-16T23:00:14.044481Z"
    }
   },
   "id": "LKx1JIDlrXYc",
   "outputs": [
    {
     "name": "stdout",
     "output_type": "stream",
     "text": [
      "Item1\tItem2\tItem3\tItem4:184:24\t80\t35\t45\r\n",
      "Item1\tItem2\tItem3\tItem4:222:93\t35\t41\t53\r\n",
      "Item1\tItem2\tItem3\tItem4:305:58\t98\t57\t92\r\n",
      "Item1\tItem2\tItem3\tItem4:198:45\t56\t27\t70\r\n"
     ]
    }
   ],
   "execution_count": 11
  },
  {
   "cell_type": "markdown",
   "source": [
    "__Format of utility database:__ items:_totalUtility_:_itemsUtilityValues_"
   ],
   "metadata": {
    "id": "lGJEhWpKrbIV"
   },
   "id": "lGJEhWpKrbIV"
  },
  {
   "cell_type": "markdown",
   "source": [
    "## Getting the Statistical Details of the Database"
   ],
   "metadata": {
    "id": "HVNjrAFurpcU"
   },
   "id": "HVNjrAFurpcU"
  },
  {
   "cell_type": "markdown",
   "source": [
    "### Generic code\n",
    "\n",
    "\n",
    "\n",
    "```python\n",
    "from PAMI.extras.dbStats import UtilityDatabase as stat\n",
    "\n",
    "obj = stat.UtilityDatabase(\"inputFileName\")\n",
    "obj.run()\n",
    "obj.printStats()\n",
    "obj.plotGraphs()\n",
    "```\n",
    "\n"
   ],
   "metadata": {
    "id": "rQZB9wwFrxLU"
   },
   "id": "rQZB9wwFrxLU"
  },
  {
   "cell_type": "markdown",
   "source": [
    "### Example 3"
   ],
   "metadata": {
    "id": "6IthC36fr29Z"
   },
   "id": "6IthC36fr29Z"
  },
  {
   "cell_type": "code",
   "source": [
    "from PAMI.extras.dbStats import UtilityDatabase as stat\n",
    "\n",
    "obj = stat.UtilityDatabase(\"Utility_T10I4D100K.csv\")\n",
    "obj.run()\n",
    "obj.printStats()\n",
    "obj.plotGraphs()"
   ],
   "metadata": {
    "colab": {
     "base_uri": "https://localhost:8080/",
     "height": 1000
    },
    "id": "Wih1Y59lrZmb",
    "outputId": "3df06ed3-ae47-412a-96bd-2b82cfac6828",
    "ExecuteTime": {
     "end_time": "2025-06-16T23:00:26.164903Z",
     "start_time": "2025-06-16T23:00:24.501041Z"
    }
   },
   "id": "Wih1Y59lrZmb",
   "outputs": [
    {
     "name": "stdout",
     "output_type": "stream",
     "text": [
      "Database size : 99935\n",
      "Number of items : 870\n",
      "Minimum Transaction Size : 1\n",
      "Average Transaction Size : 10.101836193525791\n",
      "Maximum Transaction Size : 29\n",
      "Minimum utility : 75\n",
      "Average utility : 58042.54712643678\n",
      "Maximum utility : 389886\n",
      "Standard Deviation Transaction Size : 3.667097909135199\n",
      "Variance : 13.447741640067324\n",
      "Sparsity : 0.9883886940304302\n"
     ]
    },
    {
     "data": {
      "text/plain": [
       "<Figure size 640x480 with 1 Axes>"
      ],
      "image/png": "[encoded data removed]"
     },
     "metadata": {},
     "output_type": "display_data"
    },
    {
     "data": {
      "text/plain": [
       "<Figure size 640x480 with 1 Axes>"
      ],
      "image/png": "[encoded data removed]"
     },
     "metadata": {},
     "output_type": "display_data"
    }
   ],
   "execution_count": 12
  },
  {
   "cell_type": "code",
   "source": [],
   "metadata": {
    "id": "tCcLgcXy6qns",
    "ExecuteTime": {
     "end_time": "2025-06-16T23:00:26.182196Z",
     "start_time": "2025-06-16T23:00:26.180232Z"
    }
   },
   "id": "tCcLgcXy6qns",
   "outputs": [],
   "execution_count": null
  },
  {
   "metadata": {},
   "cell_type": "code",
   "outputs": [],
   "execution_count": null,
   "source": "",
   "id": "d53eb98b98067798"
  }
 ],
 "metadata": {
  "kernelspec": {
   "display_name": "Python 3",
   "language": "python",
   "name": "python3"
  },
  "language_info": {
   "codemirror_mode": {
    "name": "ipython",
    "version": 2
   },
   "file_extension": ".py",
   "mimetype": "text/x-python",
   "name": "python",
   "nbconvert_exporter": "python",
   "pygments_lexer": "ipython2",
   "version": "2.7.6"
  },
  "colab": {
   "provenance": [],
   "include_colab_link": true
  }
 },
 "nbformat": 4,
 "nbformat_minor": 5
}
